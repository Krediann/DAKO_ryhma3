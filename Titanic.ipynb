{
 "cells": [
  {
   "cell_type": "markdown",
   "id": "e7d9f57c",
   "metadata": {},
   "source": [
    "# Titanic – Machine Learning from Disaster"
   ]
  },
  {
   "cell_type": "markdown",
   "id": "ee637a31",
   "metadata": {},
   "source": [
    "This idea of this teamwork is to implement step-by-step a classification analysis with Python’s data analysis and manipulation libraries like Pandas, NumPy, and Scikit-Learn.\n",
    "\n",
    "The team size is 4 members.\n",
    "\n",
    "The evaluation of the teamwork will happen by re-performing the analysis and evaluating the results in the presence of the instructor. Please, create a Jupyter Notebook that documents the aims of your project, describes the dataset, documents your data analysis process, and evaluates the results i.e. make the analysis self-descriptive by adding Markdown comments and by using descriptive variable names. The efforts of the individual team members will also be evaluated in the event.\n",
    "\n",
    "Please, book a time for evaluation event for a week starting on Mon 25 April 2022. The 15 minutes long time slots will be published later in itsLearning.\n",
    "\n",
    "Return the documented Jupyter Notebook or a link to its version control repository into the itsLearning return box no later than Friday 22 April 2022 at 16.00."
   ]
  },
  {
   "cell_type": "markdown",
   "id": "7863c8cc",
   "metadata": {},
   "source": [
    "The commission:\n",
    "\n",
    "This is directly from the kaggle datasets.\n",
    "\n",
    "Your task is to use machine learning to create a model that predicts which passengers survived the Titanic shipwreck.\n",
    "\n",
    "This is a binary classification problem: survived - not survived.\n",
    "\n",
    "Please get acquainted with the data at https://www.kaggle.com/c/titanic\n",
    "\n",
    "You can also find solutions and tutorials there to help you. They are on the Code tab.\n",
    "\n",
    "Please note that the test set doesn't disclose the value of the target variable: Did the passenger survive or did he not. Use cross validation with your train set to evaluate your model.\n",
    "\n",
    "At the end, you can submit your prediction based on the test set into the kaggle for evaluation according to the instruction given in Overview | Evaluation page. You must login first.\n",
    "\n",
    "When returning the teamwork, let the instructor also know how your analysis was evaluated by kaggle if you uploaded data there.\n",
    "\n",
    "To pass this work, you must:\n",
    "\n",
    "1. Participate in using Python and some of its data analysis libraries.\n",
    "\n",
    "2. Be active during the project.\n",
    "\n",
    "3. Collect at least 0,5 grade units from the * marked tasks below."
   ]
  },
  {
   "cell_type": "markdown",
   "id": "5707477d",
   "metadata": {},
   "source": [
    "### The tasks and the evaluation:"
   ]
  },
  {
   "cell_type": "markdown",
   "id": "c1b27aad",
   "metadata": {},
   "source": [
    "#### 1. Document the aims, decisions, and solutions of your data analysis directly into the Jupyter Notebook as the analysis proceeds. Make the document self-explanatory. (0,25 grade units)"
   ]
  },
  {
   "cell_type": "markdown",
   "id": "7cee42b2",
   "metadata": {},
   "source": [
    "#### 2. Divide your dataset into the train and test sets. (No points this time, Kaggle has done this to you)."
   ]
  },
  {
   "cell_type": "markdown",
   "id": "768a0075",
   "metadata": {},
   "source": [
    "I downloaded the datasets an put them in a datasets folder"
   ]
  },
  {
   "cell_type": "markdown",
   "id": "e5504c9f",
   "metadata": {},
   "source": [
    "#### 3. Describe your data. Calculate statistics, like means, standard deviations, and correlations. Draw diagrams, like histograms, scatter diagrams. Visualize correlations. (0,25 grade units)"
   ]
  },
  {
   "cell_type": "markdown",
   "id": "c3feb679",
   "metadata": {},
   "source": [
    "### Imports"
   ]
  },
  {
   "cell_type": "code",
   "execution_count": 3,
   "id": "da3a1560",
   "metadata": {},
   "outputs": [],
   "source": [
    "%matplotlib inline\n",
    "import numpy as np\n",
    "import pandas as pd\n",
    "import matplotlib.pyplot as plt\n",
    "import seaborn as sns\n",
    "from sklearn.pipeline import Pipeline\n",
    "from sklearn.preprocessing import StandardScaler\n",
    "from sklearn.svm import LinearSVC\n",
    "from sklearn.impute import SimpleImputer\n",
    "from sklearn import metrics\n",
    "from sklearn.tree import DecisionTreeClassifier\n",
    "from sklearn.model_selection import cross_val_predict\n",
    "from sklearn.metrics import confusion_matrix\n",
    "from sklearn.model_selection import cross_val_score"
   ]
  },
  {
   "cell_type": "markdown",
   "id": "60c8ecb3",
   "metadata": {},
   "source": [
    "### Reading the data"
   ]
  },
  {
   "cell_type": "code",
   "execution_count": 4,
   "id": "6fe7d2bf",
   "metadata": {},
   "outputs": [],
   "source": [
    "# Reading the data for the train and test sets\n",
    "train_set = pd.read_csv(\"./datasets/train.csv\")\n",
    "test_set = pd.read_csv(\"./datasets/test.csv\")"
   ]
  },
  {
   "cell_type": "markdown",
   "id": "cfa5f5ac",
   "metadata": {},
   "source": [
    "## Calculations"
   ]
  },
  {
   "cell_type": "code",
   "execution_count": 5,
   "id": "80f4f92b",
   "metadata": {},
   "outputs": [
    {
     "data": {
      "text/html": [
       "<div>\n",
       "<style scoped>\n",
       "    .dataframe tbody tr th:only-of-type {\n",
       "        vertical-align: middle;\n",
       "    }\n",
       "\n",
       "    .dataframe tbody tr th {\n",
       "        vertical-align: top;\n",
       "    }\n",
       "\n",
       "    .dataframe thead th {\n",
       "        text-align: right;\n",
       "    }\n",
       "</style>\n",
       "<table border=\"1\" class=\"dataframe\">\n",
       "  <thead>\n",
       "    <tr style=\"text-align: right;\">\n",
       "      <th></th>\n",
       "      <th>PassengerId</th>\n",
       "      <th>Survived</th>\n",
       "      <th>Pclass</th>\n",
       "      <th>Age</th>\n",
       "      <th>SibSp</th>\n",
       "      <th>Parch</th>\n",
       "      <th>Fare</th>\n",
       "    </tr>\n",
       "  </thead>\n",
       "  <tbody>\n",
       "    <tr>\n",
       "      <th>count</th>\n",
       "      <td>891.000000</td>\n",
       "      <td>891.000000</td>\n",
       "      <td>891.000000</td>\n",
       "      <td>714.000000</td>\n",
       "      <td>891.000000</td>\n",
       "      <td>891.000000</td>\n",
       "      <td>891.000000</td>\n",
       "    </tr>\n",
       "    <tr>\n",
       "      <th>mean</th>\n",
       "      <td>446.000000</td>\n",
       "      <td>0.383838</td>\n",
       "      <td>2.308642</td>\n",
       "      <td>29.699118</td>\n",
       "      <td>0.523008</td>\n",
       "      <td>0.381594</td>\n",
       "      <td>32.204208</td>\n",
       "    </tr>\n",
       "    <tr>\n",
       "      <th>std</th>\n",
       "      <td>257.353842</td>\n",
       "      <td>0.486592</td>\n",
       "      <td>0.836071</td>\n",
       "      <td>14.526497</td>\n",
       "      <td>1.102743</td>\n",
       "      <td>0.806057</td>\n",
       "      <td>49.693429</td>\n",
       "    </tr>\n",
       "    <tr>\n",
       "      <th>min</th>\n",
       "      <td>1.000000</td>\n",
       "      <td>0.000000</td>\n",
       "      <td>1.000000</td>\n",
       "      <td>0.420000</td>\n",
       "      <td>0.000000</td>\n",
       "      <td>0.000000</td>\n",
       "      <td>0.000000</td>\n",
       "    </tr>\n",
       "    <tr>\n",
       "      <th>25%</th>\n",
       "      <td>223.500000</td>\n",
       "      <td>0.000000</td>\n",
       "      <td>2.000000</td>\n",
       "      <td>20.125000</td>\n",
       "      <td>0.000000</td>\n",
       "      <td>0.000000</td>\n",
       "      <td>7.910400</td>\n",
       "    </tr>\n",
       "    <tr>\n",
       "      <th>50%</th>\n",
       "      <td>446.000000</td>\n",
       "      <td>0.000000</td>\n",
       "      <td>3.000000</td>\n",
       "      <td>28.000000</td>\n",
       "      <td>0.000000</td>\n",
       "      <td>0.000000</td>\n",
       "      <td>14.454200</td>\n",
       "    </tr>\n",
       "    <tr>\n",
       "      <th>75%</th>\n",
       "      <td>668.500000</td>\n",
       "      <td>1.000000</td>\n",
       "      <td>3.000000</td>\n",
       "      <td>38.000000</td>\n",
       "      <td>1.000000</td>\n",
       "      <td>0.000000</td>\n",
       "      <td>31.000000</td>\n",
       "    </tr>\n",
       "    <tr>\n",
       "      <th>max</th>\n",
       "      <td>891.000000</td>\n",
       "      <td>1.000000</td>\n",
       "      <td>3.000000</td>\n",
       "      <td>80.000000</td>\n",
       "      <td>8.000000</td>\n",
       "      <td>6.000000</td>\n",
       "      <td>512.329200</td>\n",
       "    </tr>\n",
       "  </tbody>\n",
       "</table>\n",
       "</div>"
      ],
      "text/plain": [
       "       PassengerId    Survived      Pclass         Age       SibSp  \\\n",
       "count   891.000000  891.000000  891.000000  714.000000  891.000000   \n",
       "mean    446.000000    0.383838    2.308642   29.699118    0.523008   \n",
       "std     257.353842    0.486592    0.836071   14.526497    1.102743   \n",
       "min       1.000000    0.000000    1.000000    0.420000    0.000000   \n",
       "25%     223.500000    0.000000    2.000000   20.125000    0.000000   \n",
       "50%     446.000000    0.000000    3.000000   28.000000    0.000000   \n",
       "75%     668.500000    1.000000    3.000000   38.000000    1.000000   \n",
       "max     891.000000    1.000000    3.000000   80.000000    8.000000   \n",
       "\n",
       "            Parch        Fare  \n",
       "count  891.000000  891.000000  \n",
       "mean     0.381594   32.204208  \n",
       "std      0.806057   49.693429  \n",
       "min      0.000000    0.000000  \n",
       "25%      0.000000    7.910400  \n",
       "50%      0.000000   14.454200  \n",
       "75%      0.000000   31.000000  \n",
       "max      6.000000  512.329200  "
      ]
     },
     "execution_count": 5,
     "metadata": {},
     "output_type": "execute_result"
    }
   ],
   "source": [
    "# Using the describe function to describe the data, there is mean for mean std for standard deviation\n",
    "train_set.describe()"
   ]
  },
  {
   "cell_type": "code",
   "execution_count": 6,
   "id": "f24a0386",
   "metadata": {},
   "outputs": [
    {
     "data": {
      "text/html": [
       "<div>\n",
       "<style scoped>\n",
       "    .dataframe tbody tr th:only-of-type {\n",
       "        vertical-align: middle;\n",
       "    }\n",
       "\n",
       "    .dataframe tbody tr th {\n",
       "        vertical-align: top;\n",
       "    }\n",
       "\n",
       "    .dataframe thead th {\n",
       "        text-align: right;\n",
       "    }\n",
       "</style>\n",
       "<table border=\"1\" class=\"dataframe\">\n",
       "  <thead>\n",
       "    <tr style=\"text-align: right;\">\n",
       "      <th></th>\n",
       "      <th>PassengerId</th>\n",
       "      <th>Survived</th>\n",
       "      <th>Pclass</th>\n",
       "      <th>Name</th>\n",
       "      <th>Sex</th>\n",
       "      <th>Age</th>\n",
       "      <th>SibSp</th>\n",
       "      <th>Parch</th>\n",
       "      <th>Ticket</th>\n",
       "      <th>Fare</th>\n",
       "      <th>Cabin</th>\n",
       "      <th>Embarked</th>\n",
       "    </tr>\n",
       "  </thead>\n",
       "  <tbody>\n",
       "    <tr>\n",
       "      <th>0</th>\n",
       "      <td>1</td>\n",
       "      <td>0</td>\n",
       "      <td>3</td>\n",
       "      <td>Braund, Mr. Owen Harris</td>\n",
       "      <td>male</td>\n",
       "      <td>22.0</td>\n",
       "      <td>1</td>\n",
       "      <td>0</td>\n",
       "      <td>A/5 21171</td>\n",
       "      <td>7.2500</td>\n",
       "      <td>NaN</td>\n",
       "      <td>S</td>\n",
       "    </tr>\n",
       "    <tr>\n",
       "      <th>1</th>\n",
       "      <td>2</td>\n",
       "      <td>1</td>\n",
       "      <td>1</td>\n",
       "      <td>Cumings, Mrs. John Bradley (Florence Briggs Th...</td>\n",
       "      <td>female</td>\n",
       "      <td>38.0</td>\n",
       "      <td>1</td>\n",
       "      <td>0</td>\n",
       "      <td>PC 17599</td>\n",
       "      <td>71.2833</td>\n",
       "      <td>C85</td>\n",
       "      <td>C</td>\n",
       "    </tr>\n",
       "    <tr>\n",
       "      <th>2</th>\n",
       "      <td>3</td>\n",
       "      <td>1</td>\n",
       "      <td>3</td>\n",
       "      <td>Heikkinen, Miss. Laina</td>\n",
       "      <td>female</td>\n",
       "      <td>26.0</td>\n",
       "      <td>0</td>\n",
       "      <td>0</td>\n",
       "      <td>STON/O2. 3101282</td>\n",
       "      <td>7.9250</td>\n",
       "      <td>NaN</td>\n",
       "      <td>S</td>\n",
       "    </tr>\n",
       "    <tr>\n",
       "      <th>3</th>\n",
       "      <td>4</td>\n",
       "      <td>1</td>\n",
       "      <td>1</td>\n",
       "      <td>Futrelle, Mrs. Jacques Heath (Lily May Peel)</td>\n",
       "      <td>female</td>\n",
       "      <td>35.0</td>\n",
       "      <td>1</td>\n",
       "      <td>0</td>\n",
       "      <td>113803</td>\n",
       "      <td>53.1000</td>\n",
       "      <td>C123</td>\n",
       "      <td>S</td>\n",
       "    </tr>\n",
       "    <tr>\n",
       "      <th>4</th>\n",
       "      <td>5</td>\n",
       "      <td>0</td>\n",
       "      <td>3</td>\n",
       "      <td>Allen, Mr. William Henry</td>\n",
       "      <td>male</td>\n",
       "      <td>35.0</td>\n",
       "      <td>0</td>\n",
       "      <td>0</td>\n",
       "      <td>373450</td>\n",
       "      <td>8.0500</td>\n",
       "      <td>NaN</td>\n",
       "      <td>S</td>\n",
       "    </tr>\n",
       "  </tbody>\n",
       "</table>\n",
       "</div>"
      ],
      "text/plain": [
       "   PassengerId  Survived  Pclass  \\\n",
       "0            1         0       3   \n",
       "1            2         1       1   \n",
       "2            3         1       3   \n",
       "3            4         1       1   \n",
       "4            5         0       3   \n",
       "\n",
       "                                                Name     Sex   Age  SibSp  \\\n",
       "0                            Braund, Mr. Owen Harris    male  22.0      1   \n",
       "1  Cumings, Mrs. John Bradley (Florence Briggs Th...  female  38.0      1   \n",
       "2                             Heikkinen, Miss. Laina  female  26.0      0   \n",
       "3       Futrelle, Mrs. Jacques Heath (Lily May Peel)  female  35.0      1   \n",
       "4                           Allen, Mr. William Henry    male  35.0      0   \n",
       "\n",
       "   Parch            Ticket     Fare Cabin Embarked  \n",
       "0      0         A/5 21171   7.2500   NaN        S  \n",
       "1      0          PC 17599  71.2833   C85        C  \n",
       "2      0  STON/O2. 3101282   7.9250   NaN        S  \n",
       "3      0            113803  53.1000  C123        S  \n",
       "4      0            373450   8.0500   NaN        S  "
      ]
     },
     "execution_count": 6,
     "metadata": {},
     "output_type": "execute_result"
    }
   ],
   "source": [
    "train_set.head()"
   ]
  },
  {
   "cell_type": "code",
   "execution_count": 7,
   "id": "bd783d4a",
   "metadata": {},
   "outputs": [
    {
     "data": {
      "text/html": [
       "<div>\n",
       "<style scoped>\n",
       "    .dataframe tbody tr th:only-of-type {\n",
       "        vertical-align: middle;\n",
       "    }\n",
       "\n",
       "    .dataframe tbody tr th {\n",
       "        vertical-align: top;\n",
       "    }\n",
       "\n",
       "    .dataframe thead th {\n",
       "        text-align: right;\n",
       "    }\n",
       "</style>\n",
       "<table border=\"1\" class=\"dataframe\">\n",
       "  <thead>\n",
       "    <tr style=\"text-align: right;\">\n",
       "      <th></th>\n",
       "      <th>PassengerId</th>\n",
       "      <th>Survived</th>\n",
       "      <th>Pclass</th>\n",
       "      <th>Age</th>\n",
       "      <th>SibSp</th>\n",
       "      <th>Parch</th>\n",
       "      <th>Fare</th>\n",
       "    </tr>\n",
       "  </thead>\n",
       "  <tbody>\n",
       "    <tr>\n",
       "      <th>PassengerId</th>\n",
       "      <td>1.000000</td>\n",
       "      <td>-0.005007</td>\n",
       "      <td>-0.035144</td>\n",
       "      <td>0.036847</td>\n",
       "      <td>-0.057527</td>\n",
       "      <td>-0.001652</td>\n",
       "      <td>0.012658</td>\n",
       "    </tr>\n",
       "    <tr>\n",
       "      <th>Survived</th>\n",
       "      <td>-0.005007</td>\n",
       "      <td>1.000000</td>\n",
       "      <td>-0.338481</td>\n",
       "      <td>-0.077221</td>\n",
       "      <td>-0.035322</td>\n",
       "      <td>0.081629</td>\n",
       "      <td>0.257307</td>\n",
       "    </tr>\n",
       "    <tr>\n",
       "      <th>Pclass</th>\n",
       "      <td>-0.035144</td>\n",
       "      <td>-0.338481</td>\n",
       "      <td>1.000000</td>\n",
       "      <td>-0.369226</td>\n",
       "      <td>0.083081</td>\n",
       "      <td>0.018443</td>\n",
       "      <td>-0.549500</td>\n",
       "    </tr>\n",
       "    <tr>\n",
       "      <th>Age</th>\n",
       "      <td>0.036847</td>\n",
       "      <td>-0.077221</td>\n",
       "      <td>-0.369226</td>\n",
       "      <td>1.000000</td>\n",
       "      <td>-0.308247</td>\n",
       "      <td>-0.189119</td>\n",
       "      <td>0.096067</td>\n",
       "    </tr>\n",
       "    <tr>\n",
       "      <th>SibSp</th>\n",
       "      <td>-0.057527</td>\n",
       "      <td>-0.035322</td>\n",
       "      <td>0.083081</td>\n",
       "      <td>-0.308247</td>\n",
       "      <td>1.000000</td>\n",
       "      <td>0.414838</td>\n",
       "      <td>0.159651</td>\n",
       "    </tr>\n",
       "    <tr>\n",
       "      <th>Parch</th>\n",
       "      <td>-0.001652</td>\n",
       "      <td>0.081629</td>\n",
       "      <td>0.018443</td>\n",
       "      <td>-0.189119</td>\n",
       "      <td>0.414838</td>\n",
       "      <td>1.000000</td>\n",
       "      <td>0.216225</td>\n",
       "    </tr>\n",
       "    <tr>\n",
       "      <th>Fare</th>\n",
       "      <td>0.012658</td>\n",
       "      <td>0.257307</td>\n",
       "      <td>-0.549500</td>\n",
       "      <td>0.096067</td>\n",
       "      <td>0.159651</td>\n",
       "      <td>0.216225</td>\n",
       "      <td>1.000000</td>\n",
       "    </tr>\n",
       "  </tbody>\n",
       "</table>\n",
       "</div>"
      ],
      "text/plain": [
       "             PassengerId  Survived    Pclass       Age     SibSp     Parch  \\\n",
       "PassengerId     1.000000 -0.005007 -0.035144  0.036847 -0.057527 -0.001652   \n",
       "Survived       -0.005007  1.000000 -0.338481 -0.077221 -0.035322  0.081629   \n",
       "Pclass         -0.035144 -0.338481  1.000000 -0.369226  0.083081  0.018443   \n",
       "Age             0.036847 -0.077221 -0.369226  1.000000 -0.308247 -0.189119   \n",
       "SibSp          -0.057527 -0.035322  0.083081 -0.308247  1.000000  0.414838   \n",
       "Parch          -0.001652  0.081629  0.018443 -0.189119  0.414838  1.000000   \n",
       "Fare            0.012658  0.257307 -0.549500  0.096067  0.159651  0.216225   \n",
       "\n",
       "                 Fare  \n",
       "PassengerId  0.012658  \n",
       "Survived     0.257307  \n",
       "Pclass      -0.549500  \n",
       "Age          0.096067  \n",
       "SibSp        0.159651  \n",
       "Parch        0.216225  \n",
       "Fare         1.000000  "
      ]
     },
     "execution_count": 7,
     "metadata": {},
     "output_type": "execute_result"
    }
   ],
   "source": [
    "# Calculating correlations using corr function from pandas\n",
    "train_set.corr()"
   ]
  },
  {
   "cell_type": "code",
   "execution_count": 8,
   "id": "aec31d09",
   "metadata": {},
   "outputs": [
    {
     "data": {
      "text/plain": [
       "<seaborn.axisgrid.PairGrid at 0x7fc7366eaa60>"
      ]
     },
     "execution_count": 8,
     "metadata": {},
     "output_type": "execute_result"
    },
    {
     "data": {
      "image/png": "[encoded data removed]",
      "text/plain": [
       "<Figure size 720x720 with 20 Axes>"
      ]
     },
     "metadata": {
      "needs_background": "light"
     },
     "output_type": "display_data"
    }
   ],
   "source": [
    "sns.pairplot(train_set, vars=[\"Survived\", \"Fare\", \"Pclass\", \"Age\"])"
   ]
  },
  {
   "cell_type": "markdown",
   "id": "5a1ca31f",
   "metadata": {},
   "source": [
    "## Diagrams"
   ]
  },
  {
   "cell_type": "code",
   "execution_count": 9,
   "id": "adc2ff51",
   "metadata": {},
   "outputs": [
    {
     "name": "stderr",
     "output_type": "stream",
     "text": [
      "/home/bida/.local/lib/python3.8/site-packages/seaborn/_decorators.py:36: FutureWarning: Pass the following variable as a keyword arg: x. From version 0.12, the only valid positional argument will be `data`, and passing other arguments without an explicit keyword will result in an error or misinterpretation.\n",
      "  warnings.warn(\n"
     ]
    },
    {
     "data": {
      "image/png": "[encoded data removed]",
      "text/plain": [
       "<Figure size 432x288 with 1 Axes>"
      ]
     },
     "metadata": {
      "needs_background": "light"
     },
     "output_type": "display_data"
    }
   ],
   "source": [
    "# Making variables for the amount of dead and survivors using the value_counts method on an index since there\n",
    "# are only 2 possible situations\n",
    "survivor_amount = train_set[\"Survived\"].value_counts()[1]\n",
    "dead_amount = train_set[\"Survived\"].value_counts()[0]\n",
    "# Creating the figure and giving it the width and height\n",
    "plt.figure(figsize = (6,4))\n",
    "# Controlling the scaling of plot elements using seaborn's set_context method\n",
    "sns.set_context(\"talk\")\n",
    "# Shows the count of observations in survived category using bars, in this case dead and survived\n",
    "sns.countplot(train_set[\"Survived\"])\n",
    "# Creating the title\n",
    "plt.title(\"Surviving people\")\n",
    "# Creating label for the y-axis\n",
    "plt.ylabel(\"Amount of people\")\n",
    "# Removing label from x-axis\n",
    "plt.xlabel(\"\")\n",
    "# creating the locations and labels for the x-axis, using format method to make the int dead_amount and survivor\n",
    "# amount inserted in to a string, location got by using {}\n",
    "plt.xticks((0,1), [\"Dead({})\".format(dead_amount), \"Survived ({})\".format(survivor_amount)])\n",
    "# Drawing the diagram\n",
    "plt.show()"
   ]
  },
  {
   "cell_type": "code",
   "execution_count": 10,
   "id": "c339a89e",
   "metadata": {},
   "outputs": [
    {
     "data": {
      "text/plain": [
       "<AxesSubplot:xlabel='Sex', ylabel='Age'>"
      ]
     },
     "execution_count": 10,
     "metadata": {},
     "output_type": "execute_result"
    },
    {
     "data": {
      "image/png": "[encoded data removed]",
      "text/plain": [
       "<Figure size 432x288 with 1 Axes>"
      ]
     },
     "metadata": {},
     "output_type": "display_data"
    }
   ],
   "source": [
    "sns.set_theme(style=\"ticks\")\n",
    "sns.boxplot(x=\"Sex\", y=\"Age\", palette =[\"m\",\"g\"], data=train_set)"
   ]
  },
  {
   "cell_type": "code",
   "execution_count": 11,
   "id": "6b9c9a90",
   "metadata": {},
   "outputs": [
    {
     "data": {
      "image/png": "[encoded data removed]",
      "text/plain": [
       "<Figure size 720x288 with 2 Axes>"
      ]
     },
     "metadata": {},
     "output_type": "display_data"
    }
   ],
   "source": [
    "survived = 'survived'\n",
    "not_survived = 'not survived'\n",
    "fig, axes = plt.subplots(nrows=1, ncols=2,figsize=(10, 4))\n",
    "women = train_set[train_set['Sex']=='female']\n",
    "men = train_set[train_set['Sex']=='male']\n",
    "ax = sns.histplot(women[women['Survived']==1].Age.dropna(), bins=18, label = survived, ax = axes[0], kde =False, color = \"blue\", alpha = 0.5)\n",
    "ax = sns.histplot(women[women['Survived']==0].Age.dropna(), bins=40, label = not_survived, ax = axes[0], kde =False, color = \"orange\", alpha = 0.5)\n",
    "ax.legend()\n",
    "ax.set_title('Female')\n",
    "ax = sns.histplot(men[men['Survived']==1].Age.dropna(), bins=18, label = survived, ax = axes[1], kde = False, color = \"blue\", alpha = 0.5)\n",
    "ax = sns.histplot(men[men['Survived']==0].Age.dropna(), bins=40, label = not_survived, ax = axes[1], kde = False, color = \"orange\", alpha = 0.5)\n",
    "ax.legend()\n",
    "_ = ax.set_title('Male')"
   ]
  },
  {
   "cell_type": "code",
   "execution_count": 12,
   "id": "77ea5d0f",
   "metadata": {},
   "outputs": [
    {
     "data": {
      "text/plain": [
       "1    537\n",
       "0    354\n",
       "Name: not_alone, dtype: int64"
      ]
     },
     "execution_count": 12,
     "metadata": {},
     "output_type": "execute_result"
    }
   ],
   "source": [
    "data = [train_set, test_set]\n",
    "for dataset in data:\n",
    "    dataset['relatives'] = dataset['SibSp'] + dataset['Parch']\n",
    "    dataset.loc[dataset['relatives'] > 0, 'not_alone'] = 0\n",
    "    dataset.loc[dataset['relatives'] == 0, 'not_alone'] = 1\n",
    "    dataset['not_alone'] = dataset['not_alone'].astype(int)\n",
    "train_set['not_alone'].value_counts()"
   ]
  },
  {
   "cell_type": "code",
   "execution_count": 13,
   "id": "a513a430",
   "metadata": {
    "scrolled": true
   },
   "outputs": [
    {
     "data": {
      "image/png": "[encoded data removed]",
      "text/plain": [
       "<Figure size 900x360 with 1 Axes>"
      ]
     },
     "metadata": {},
     "output_type": "display_data"
    }
   ],
   "source": [
    "axes = sns.catplot(x = 'relatives',y = 'Survived', \n",
    "                      data=train_set, aspect = 2.5, kind = \"point\")"
   ]
  },
  {
   "cell_type": "code",
   "execution_count": 14,
   "id": "3cb61831",
   "metadata": {},
   "outputs": [
    {
     "data": {
      "text/html": [
       "<div>\n",
       "<style scoped>\n",
       "    .dataframe tbody tr th:only-of-type {\n",
       "        vertical-align: middle;\n",
       "    }\n",
       "\n",
       "    .dataframe tbody tr th {\n",
       "        vertical-align: top;\n",
       "    }\n",
       "\n",
       "    .dataframe thead th {\n",
       "        text-align: right;\n",
       "    }\n",
       "</style>\n",
       "<table border=\"1\" class=\"dataframe\">\n",
       "  <thead>\n",
       "    <tr style=\"text-align: right;\">\n",
       "      <th></th>\n",
       "      <th>PassengerId</th>\n",
       "      <th>Survived</th>\n",
       "      <th>Pclass</th>\n",
       "      <th>Name</th>\n",
       "      <th>Sex</th>\n",
       "      <th>Age</th>\n",
       "      <th>SibSp</th>\n",
       "      <th>Parch</th>\n",
       "      <th>Ticket</th>\n",
       "      <th>Fare</th>\n",
       "      <th>Cabin</th>\n",
       "      <th>Embarked</th>\n",
       "      <th>relatives</th>\n",
       "      <th>not_alone</th>\n",
       "    </tr>\n",
       "  </thead>\n",
       "  <tbody>\n",
       "    <tr>\n",
       "      <th>0</th>\n",
       "      <td>1</td>\n",
       "      <td>0</td>\n",
       "      <td>3</td>\n",
       "      <td>Braund, Mr. Owen Harris</td>\n",
       "      <td>male</td>\n",
       "      <td>22.0</td>\n",
       "      <td>1</td>\n",
       "      <td>0</td>\n",
       "      <td>A/5 21171</td>\n",
       "      <td>7.2500</td>\n",
       "      <td>NaN</td>\n",
       "      <td>S</td>\n",
       "      <td>1</td>\n",
       "      <td>0</td>\n",
       "    </tr>\n",
       "    <tr>\n",
       "      <th>1</th>\n",
       "      <td>2</td>\n",
       "      <td>1</td>\n",
       "      <td>1</td>\n",
       "      <td>Cumings, Mrs. John Bradley (Florence Briggs Th...</td>\n",
       "      <td>female</td>\n",
       "      <td>38.0</td>\n",
       "      <td>1</td>\n",
       "      <td>0</td>\n",
       "      <td>PC 17599</td>\n",
       "      <td>71.2833</td>\n",
       "      <td>C85</td>\n",
       "      <td>C</td>\n",
       "      <td>1</td>\n",
       "      <td>0</td>\n",
       "    </tr>\n",
       "    <tr>\n",
       "      <th>2</th>\n",
       "      <td>3</td>\n",
       "      <td>1</td>\n",
       "      <td>3</td>\n",
       "      <td>Heikkinen, Miss. Laina</td>\n",
       "      <td>female</td>\n",
       "      <td>26.0</td>\n",
       "      <td>0</td>\n",
       "      <td>0</td>\n",
       "      <td>STON/O2. 3101282</td>\n",
       "      <td>7.9250</td>\n",
       "      <td>NaN</td>\n",
       "      <td>S</td>\n",
       "      <td>0</td>\n",
       "      <td>1</td>\n",
       "    </tr>\n",
       "    <tr>\n",
       "      <th>3</th>\n",
       "      <td>4</td>\n",
       "      <td>1</td>\n",
       "      <td>1</td>\n",
       "      <td>Futrelle, Mrs. Jacques Heath (Lily May Peel)</td>\n",
       "      <td>female</td>\n",
       "      <td>35.0</td>\n",
       "      <td>1</td>\n",
       "      <td>0</td>\n",
       "      <td>113803</td>\n",
       "      <td>53.1000</td>\n",
       "      <td>C123</td>\n",
       "      <td>S</td>\n",
       "      <td>1</td>\n",
       "      <td>0</td>\n",
       "    </tr>\n",
       "    <tr>\n",
       "      <th>4</th>\n",
       "      <td>5</td>\n",
       "      <td>0</td>\n",
       "      <td>3</td>\n",
       "      <td>Allen, Mr. William Henry</td>\n",
       "      <td>male</td>\n",
       "      <td>35.0</td>\n",
       "      <td>0</td>\n",
       "      <td>0</td>\n",
       "      <td>373450</td>\n",
       "      <td>8.0500</td>\n",
       "      <td>NaN</td>\n",
       "      <td>S</td>\n",
       "      <td>0</td>\n",
       "      <td>1</td>\n",
       "    </tr>\n",
       "  </tbody>\n",
       "</table>\n",
       "</div>"
      ],
      "text/plain": [
       "   PassengerId  Survived  Pclass  \\\n",
       "0            1         0       3   \n",
       "1            2         1       1   \n",
       "2            3         1       3   \n",
       "3            4         1       1   \n",
       "4            5         0       3   \n",
       "\n",
       "                                                Name     Sex   Age  SibSp  \\\n",
       "0                            Braund, Mr. Owen Harris    male  22.0      1   \n",
       "1  Cumings, Mrs. John Bradley (Florence Briggs Th...  female  38.0      1   \n",
       "2                             Heikkinen, Miss. Laina  female  26.0      0   \n",
       "3       Futrelle, Mrs. Jacques Heath (Lily May Peel)  female  35.0      1   \n",
       "4                           Allen, Mr. William Henry    male  35.0      0   \n",
       "\n",
       "   Parch            Ticket     Fare Cabin Embarked  relatives  not_alone  \n",
       "0      0         A/5 21171   7.2500   NaN        S          1          0  \n",
       "1      0          PC 17599  71.2833   C85        C          1          0  \n",
       "2      0  STON/O2. 3101282   7.9250   NaN        S          0          1  \n",
       "3      0            113803  53.1000  C123        S          1          0  \n",
       "4      0            373450   8.0500   NaN        S          0          1  "
      ]
     },
     "execution_count": 14,
     "metadata": {},
     "output_type": "execute_result"
    }
   ],
   "source": [
    "train_set.head()"
   ]
  },
  {
   "cell_type": "markdown",
   "id": "197b8d77",
   "metadata": {},
   "source": [
    "#### 4. * Prepare your data. When and if necessary, calculate new attributes, scale attributes, convert categorical variables into numeric variables. (0,25 grade units)"
   ]
  },
  {
   "cell_type": "code",
   "execution_count": 15,
   "id": "116905e5",
   "metadata": {},
   "outputs": [
    {
     "name": "stdout",
     "output_type": "stream",
     "text": [
      "     PassengerId  Survived  Pclass  \\\n",
      "0              1         0       3   \n",
      "1              2         1       1   \n",
      "2              3         1       3   \n",
      "3              4         1       1   \n",
      "4              5         0       3   \n",
      "..           ...       ...     ...   \n",
      "886          887         0       2   \n",
      "887          888         1       1   \n",
      "888          889         0       3   \n",
      "889          890         1       1   \n",
      "890          891         0       3   \n",
      "\n",
      "                                                  Name  Sex   Age  SibSp  \\\n",
      "0                              Braund, Mr. Owen Harris    1  22.0      1   \n",
      "1    Cumings, Mrs. John Bradley (Florence Briggs Th...    2  38.0      1   \n",
      "2                               Heikkinen, Miss. Laina    2  26.0      0   \n",
      "3         Futrelle, Mrs. Jacques Heath (Lily May Peel)    2  35.0      1   \n",
      "4                             Allen, Mr. William Henry    1  35.0      0   \n",
      "..                                                 ...  ...   ...    ...   \n",
      "886                              Montvila, Rev. Juozas    1  27.0      0   \n",
      "887                       Graham, Miss. Margaret Edith    2  19.0      0   \n",
      "888           Johnston, Miss. Catherine Helen \"Carrie\"    2   NaN      1   \n",
      "889                              Behr, Mr. Karl Howell    1  26.0      0   \n",
      "890                                Dooley, Mr. Patrick    1  32.0      0   \n",
      "\n",
      "     Parch            Ticket     Fare Cabin Embarked  relatives  not_alone  \n",
      "0        0         A/5 21171   7.2500   NaN        S          1          0  \n",
      "1        0          PC 17599  71.2833   C85        C          1          0  \n",
      "2        0  STON/O2. 3101282   7.9250   NaN        S          0          1  \n",
      "3        0            113803  53.1000  C123        S          1          0  \n",
      "4        0            373450   8.0500   NaN        S          0          1  \n",
      "..     ...               ...      ...   ...      ...        ...        ...  \n",
      "886      0            211536  13.0000   NaN        S          0          1  \n",
      "887      0            112053  30.0000   B42        S          0          1  \n",
      "888      2        W./C. 6607  23.4500   NaN        S          3          0  \n",
      "889      0            111369  30.0000  C148        C          0          1  \n",
      "890      0            370376   7.7500   NaN        Q          0          1  \n",
      "\n",
      "[891 rows x 14 columns]\n"
     ]
    }
   ],
   "source": [
    "# creating a dict file \n",
    "gender = {\"male\": 1,\"female\": 2}\n",
    "# Setting the values using a for loop and giving it items\n",
    "train_set[\"Sex\"] = [gender[item] for item in train_set[\"Sex\"]]\n",
    "test_set[\"Sex\"] = [gender[item] for item in test_set[\"Sex\"]]\n",
    "print(train_set)"
   ]
  },
  {
   "cell_type": "code",
   "execution_count": 16,
   "id": "353ea335",
   "metadata": {},
   "outputs": [],
   "source": [
    "drop = [\"Ticket\", \"PassengerId\", \"Fare\", \"Cabin\", \"Embarked\", \"Name\"]\n",
    "train_set.drop(drop, inplace=True, axis=1)\n",
    "test_set.drop(drop, inplace= True, axis = 1)"
   ]
  },
  {
   "cell_type": "code",
   "execution_count": 17,
   "id": "32abc9a0",
   "metadata": {},
   "outputs": [],
   "source": [
    "imputer = SimpleImputer(strategy='median')\n",
    "X = imputer.fit_transform(train_set)"
   ]
  },
  {
   "cell_type": "code",
   "execution_count": 18,
   "id": "57695f47",
   "metadata": {},
   "outputs": [],
   "source": [
    "train_set = pd.DataFrame(X, columns=train_set.columns)"
   ]
  },
  {
   "cell_type": "code",
   "execution_count": 19,
   "id": "b20663f8",
   "metadata": {},
   "outputs": [
    {
     "name": "stdout",
     "output_type": "stream",
     "text": [
      "<class 'pandas.core.frame.DataFrame'>\n",
      "RangeIndex: 891 entries, 0 to 890\n",
      "Data columns (total 8 columns):\n",
      " #   Column     Non-Null Count  Dtype  \n",
      "---  ------     --------------  -----  \n",
      " 0   Survived   891 non-null    float64\n",
      " 1   Pclass     891 non-null    float64\n",
      " 2   Sex        891 non-null    float64\n",
      " 3   Age        891 non-null    float64\n",
      " 4   SibSp      891 non-null    float64\n",
      " 5   Parch      891 non-null    float64\n",
      " 6   relatives  891 non-null    float64\n",
      " 7   not_alone  891 non-null    float64\n",
      "dtypes: float64(8)\n",
      "memory usage: 55.8 KB\n"
     ]
    }
   ],
   "source": [
    "train_set.info()"
   ]
  },
  {
   "cell_type": "code",
   "execution_count": 20,
   "id": "7779760d",
   "metadata": {},
   "outputs": [
    {
     "name": "stdout",
     "output_type": "stream",
     "text": [
      "<class 'pandas.core.frame.DataFrame'>\n",
      "RangeIndex: 418 entries, 0 to 417\n",
      "Data columns (total 7 columns):\n",
      " #   Column     Non-Null Count  Dtype  \n",
      "---  ------     --------------  -----  \n",
      " 0   Pclass     418 non-null    int64  \n",
      " 1   Sex        418 non-null    int64  \n",
      " 2   Age        332 non-null    float64\n",
      " 3   SibSp      418 non-null    int64  \n",
      " 4   Parch      418 non-null    int64  \n",
      " 5   relatives  418 non-null    int64  \n",
      " 6   not_alone  418 non-null    int64  \n",
      "dtypes: float64(1), int64(6)\n",
      "memory usage: 23.0 KB\n"
     ]
    }
   ],
   "source": [
    "test_set.info()"
   ]
  },
  {
   "cell_type": "code",
   "execution_count": 21,
   "id": "0ccf9dc0",
   "metadata": {},
   "outputs": [],
   "source": [
    "imputer2 = SimpleImputer(strategy='median')\n",
    "Y = imputer.fit_transform(test_set)"
   ]
  },
  {
   "cell_type": "code",
   "execution_count": 22,
   "id": "a5ac6cfe",
   "metadata": {},
   "outputs": [],
   "source": [
    "test_set = pd.DataFrame(Y, columns=test_set.columns)"
   ]
  },
  {
   "cell_type": "code",
   "execution_count": 23,
   "id": "22be478c",
   "metadata": {},
   "outputs": [
    {
     "name": "stdout",
     "output_type": "stream",
     "text": [
      "<class 'pandas.core.frame.DataFrame'>\n",
      "RangeIndex: 418 entries, 0 to 417\n",
      "Data columns (total 7 columns):\n",
      " #   Column     Non-Null Count  Dtype  \n",
      "---  ------     --------------  -----  \n",
      " 0   Pclass     418 non-null    float64\n",
      " 1   Sex        418 non-null    float64\n",
      " 2   Age        418 non-null    float64\n",
      " 3   SibSp      418 non-null    float64\n",
      " 4   Parch      418 non-null    float64\n",
      " 5   relatives  418 non-null    float64\n",
      " 6   not_alone  418 non-null    float64\n",
      "dtypes: float64(7)\n",
      "memory usage: 23.0 KB\n"
     ]
    }
   ],
   "source": [
    "test_set.info()"
   ]
  },
  {
   "cell_type": "markdown",
   "id": "949f6c14",
   "metadata": {},
   "source": [
    "#### 5. * Train two different classification models. One of them should be Random Forest or SVM. You can select the other one by yourselves. (0,25)"
   ]
  },
  {
   "cell_type": "code",
   "execution_count": 24,
   "id": "0cf9e043",
   "metadata": {},
   "outputs": [],
   "source": [
    "X_train = train_set.drop(\"Survived\", axis=1)\n",
    "y_train = train_set[\"Survived\"]\n",
    "X_test = test_set.copy()"
   ]
  },
  {
   "cell_type": "code",
   "execution_count": 25,
   "id": "f03951bd",
   "metadata": {},
   "outputs": [],
   "source": [
    "svm_clf = Pipeline([\n",
    "    (\"scaler\", StandardScaler()),\n",
    "    (\"linear_svc\", LinearSVC(C=1, loss=\"hinge\")),\n",
    "])"
   ]
  },
  {
   "cell_type": "code",
   "execution_count": 26,
   "id": "5b4e0eb2",
   "metadata": {},
   "outputs": [
    {
     "data": {
      "text/plain": [
       "Pipeline(steps=[('scaler', StandardScaler()),\n",
       "                ('linear_svc', LinearSVC(C=1, loss='hinge'))])"
      ]
     },
     "execution_count": 26,
     "metadata": {},
     "output_type": "execute_result"
    }
   ],
   "source": [
    "svm_clf.fit(X_train,y_train)"
   ]
  },
  {
   "cell_type": "markdown",
   "id": "103d08e3",
   "metadata": {},
   "source": [
    "Pitää vielä testata mallia..."
   ]
  },
  {
   "cell_type": "markdown",
   "id": "57a42a07",
   "metadata": {},
   "source": [
    "https://towardsdatascience.com/predicting-the-survival-of-titanic-passengers-30870ccc7e8"
   ]
  },
  {
   "cell_type": "code",
   "execution_count": 27,
   "id": "fbace3ba",
   "metadata": {},
   "outputs": [],
   "source": [
    "decision_tree = DecisionTreeClassifier(max_depth = 10, random_state=42, criterion=\"entropy\", min_samples_leaf=15)\n",
    "decision_tree.fit(X_train, y_train)\n",
    "Y_pred = decision_tree.predict(X_test)\n",
    "acc_decision_tree = round(decision_tree.score(X_train, y_train) * 100, 2)"
   ]
  },
  {
   "cell_type": "code",
   "execution_count": 28,
   "id": "44a8d2e6",
   "metadata": {},
   "outputs": [
    {
     "name": "stdout",
     "output_type": "stream",
     "text": [
      "84.62\n"
     ]
    }
   ],
   "source": [
    "print(acc_decision_tree)"
   ]
  },
  {
   "cell_type": "markdown",
   "id": "f226ccc0",
   "metadata": {},
   "source": [
    "#### 6. Select one of them for fine-tuning. Justify your selection with the results from suitable evaluation metrics. (0,25 grade units)"
   ]
  },
  {
   "cell_type": "code",
   "execution_count": null,
   "id": "1a9af788",
   "metadata": {},
   "outputs": [],
   "source": []
  },
  {
   "cell_type": "markdown",
   "id": "673dd2f7",
   "metadata": {},
   "source": [
    "#### 7. Use cross-validation in the fine-tuning of your model. Test different hyperparameter combinations. (0,25 grade units)"
   ]
  },
  {
   "cell_type": "code",
   "execution_count": 29,
   "id": "a6a8701b",
   "metadata": {},
   "outputs": [],
   "source": [
    "decision_tree = DecisionTreeClassifier(max_depth = 17, random_state=42, criterion=\"gini\")\n",
    "decision_tree.fit(X_train, y_train)\n",
    "Y_pred = decision_tree.predict(X_test)\n",
    "acc_decision_tree = round(decision_tree.score(X_train, y_train) * 100, 2)"
   ]
  },
  {
   "cell_type": "code",
   "execution_count": 30,
   "id": "f2f19e7f",
   "metadata": {},
   "outputs": [
    {
     "name": "stdout",
     "output_type": "stream",
     "text": [
      "91.69\n"
     ]
    }
   ],
   "source": [
    "print(acc_decision_tree)"
   ]
  },
  {
   "cell_type": "code",
   "execution_count": 31,
   "id": "09526218",
   "metadata": {},
   "outputs": [
    {
     "name": "stdout",
     "output_type": "stream",
     "text": [
      "[[473  76]\n",
      " [104 238]]\n"
     ]
    }
   ],
   "source": [
    "predictions = cross_val_predict(decision_tree, X_train, y_train, cv=7)\n",
    "ar = confusion_matrix(y_train, predictions)\n",
    "print(ar)"
   ]
  },
  {
   "cell_type": "code",
   "execution_count": 32,
   "id": "709268d7",
   "metadata": {},
   "outputs": [],
   "source": [
    "true_pos = ar[0][0]\n",
    "false_pos = ar[0][1]\n",
    "false_neg = ar[1][0]\n",
    "true_neg = ar[1][1]"
   ]
  },
  {
   "cell_type": "code",
   "execution_count": 33,
   "id": "7e770a16",
   "metadata": {},
   "outputs": [],
   "source": [
    "precision = true_pos / (true_pos + false_pos)\n",
    "recall = true_pos / (true_pos + false_neg)\n",
    "f1 = 2*(precision * recall) / (precision+recall)"
   ]
  },
  {
   "cell_type": "code",
   "execution_count": 34,
   "id": "7b41c2d4",
   "metadata": {},
   "outputs": [
    {
     "name": "stdout",
     "output_type": "stream",
     "text": [
      "0.8615664845173042\n"
     ]
    }
   ],
   "source": [
    "print(precision)"
   ]
  },
  {
   "cell_type": "code",
   "execution_count": 35,
   "id": "896233a9",
   "metadata": {},
   "outputs": [
    {
     "name": "stdout",
     "output_type": "stream",
     "text": [
      "0.8197573656845754\n"
     ]
    }
   ],
   "source": [
    "print(recall)"
   ]
  },
  {
   "cell_type": "code",
   "execution_count": 36,
   "id": "eb1e21f4",
   "metadata": {},
   "outputs": [
    {
     "name": "stdout",
     "output_type": "stream",
     "text": [
      "0.8401420959147425\n"
     ]
    }
   ],
   "source": [
    "print (f1)"
   ]
  },
  {
   "cell_type": "code",
   "execution_count": null,
   "id": "b81b41e8",
   "metadata": {},
   "outputs": [],
   "source": []
  },
  {
   "cell_type": "markdown",
   "id": "409c4d27",
   "metadata": {},
   "source": [
    "#### 8. Make predictions on the test set and send them to Kaggle for evaluation. (0,25 grade units)"
   ]
  },
  {
   "cell_type": "code",
   "execution_count": null,
   "id": "ce436b90",
   "metadata": {},
   "outputs": [],
   "source": []
  },
  {
   "cell_type": "markdown",
   "id": "82bd149d",
   "metadata": {},
   "source": [
    "#### 9. At the end of your Jupyter Notebook, evaluate how well does the model seem to reach your original aims? (0,25 grade units)\n",
    "\n",
    "* You have to pass this criteria to get accepted result."
   ]
  },
  {
   "cell_type": "code",
   "execution_count": null,
   "id": "def6ee61",
   "metadata": {},
   "outputs": [],
   "source": []
  },
  {
   "cell_type": "markdown",
   "id": "3831b078",
   "metadata": {},
   "source": [
    "The maximum number of grade units is 2,0.\n",
    "\n",
    "Please note that you can also suggest another subject for your teamwork to the instructor if it is related to data analyses or business intelligence."
   ]
  }
 ],
 "metadata": {
  "kernelspec": {
   "display_name": "Python 3 (ipykernel)",
   "language": "python",
   "name": "python3"
  },
  "language_info": {
   "codemirror_mode": {
    "name": "ipython",
    "version": 3
   },
   "file_extension": ".py",
   "mimetype": "text/x-python",
   "name": "python",
   "nbconvert_exporter": "python",
   "pygments_lexer": "ipython3",
   "version": "3.8.10"
  }
 },
 "nbformat": 4,
 "nbformat_minor": 5
}
