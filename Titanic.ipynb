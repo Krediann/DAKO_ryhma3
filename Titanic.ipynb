{
 "cells": [
  {
   "cell_type": "markdown",
   "id": "e7d9f57c",
   "metadata": {},
   "source": [
    "# Titanic – Machine Learning from Disaster"
   ]
  },
  {
   "cell_type": "markdown",
   "id": "ee637a31",
   "metadata": {},
   "source": [
    "This idea of this teamwork is to implement step-by-step a classification analysis with Python’s data analysis and manipulation libraries like Pandas, NumPy, and Scikit-Learn.\n",
    "\n",
    "The team size is 4 members.\n",
    "\n",
    "The evaluation of the teamwork will happen by re-performing the analysis and evaluating the results in the presence of the instructor. Please, create a Jupyter Notebook that documents the aims of your project, describes the dataset, documents your data analysis process, and evaluates the results i.e. make the analysis self-descriptive by adding Markdown comments and by using descriptive variable names. The efforts of the individual team members will also be evaluated in the event.\n",
    "\n",
    "Please, book a time for evaluation event for a week starting on Mon 25 April 2022. The 15 minutes long time slots will be published later in itsLearning.\n",
    "\n",
    "Return the documented Jupyter Notebook or a link to its version control repository into the itsLearning return box no later than Friday 22 April 2022 at 16.00."
   ]
  },
  {
   "cell_type": "markdown",
   "id": "7863c8cc",
   "metadata": {},
   "source": [
    "The commission:\n",
    "\n",
    "This is directly from the kaggle datasets.\n",
    "\n",
    "Your task is to use machine learning to create a model that predicts which passengers survived the Titanic shipwreck.\n",
    "\n",
    "This is a binary classification problem: survived - not survived.\n",
    "\n",
    "Please get acquainted with the data at https://www.kaggle.com/c/titanic\n",
    "\n",
    "You can also find solutions and tutorials there to help you. They are on the Code tab.\n",
    "\n",
    "Please note that the test set doesn't disclose the value of the target variable: Did the passenger survive or did he not. Use cross validation with your train set to evaluate your model.\n",
    "\n",
    "At the end, you can submit your prediction based on the test set into the kaggle for evaluation according to the instruction given in Overview | Evaluation page. You must login first.\n",
    "\n",
    "When returning the teamwork, let the instructor also know how your analysis was evaluated by kaggle if you uploaded data there.\n",
    "\n",
    "To pass this work, you must:\n",
    "\n",
    "1. Participate in using Python and some of its data analysis libraries.\n",
    "\n",
    "2. Be active during the project.\n",
    "\n",
    "3. Collect at least 0,5 grade units from the * marked tasks below."
   ]
  },
  {
   "cell_type": "markdown",
   "id": "5707477d",
   "metadata": {},
   "source": [
    "### The tasks and the evaluation:"
   ]
  },
  {
   "cell_type": "markdown",
   "id": "c1b27aad",
   "metadata": {},
   "source": [
    "#### 1. Document the aims, decisions, and solutions of your data analysis directly into the Jupyter Notebook as the analysis proceeds. Make the document self-explanatory. (0,25 grade units)"
   ]
  },
  {
   "cell_type": "markdown",
   "id": "7cee42b2",
   "metadata": {},
   "source": [
    "#### 2. Divide your dataset into the train and test sets. (No points this time, Kaggle has done this to you)."
   ]
  },
  {
   "cell_type": "code",
   "execution_count": null,
   "id": "aa70cfed",
   "metadata": {},
   "outputs": [],
   "source": []
  },
  {
   "cell_type": "markdown",
   "id": "e5504c9f",
   "metadata": {},
   "source": [
    "#### 3. Describe your data. Calculate statistics, like means, standard deviations, and correlations. Draw diagrams, like histograms, scatter diagrams. Visualize correlations. (0,25 grade units)"
   ]
  },
  {
   "cell_type": "code",
   "execution_count": null,
   "id": "01b689e0",
   "metadata": {},
   "outputs": [],
   "source": []
  },
  {
   "cell_type": "markdown",
   "id": "197b8d77",
   "metadata": {},
   "source": [
    "#### 4. * Prepare your data. When and if necessary, calculate new attributes, scale attributes, convert categorical variables into numeric variables. (0,25 grade units)"
   ]
  },
  {
   "cell_type": "code",
   "execution_count": null,
   "id": "116905e5",
   "metadata": {},
   "outputs": [],
   "source": []
  },
  {
   "cell_type": "markdown",
   "id": "949f6c14",
   "metadata": {},
   "source": [
    "#### 5. * Train two different classification models. One of them should be Random Forest or SVM. You can select the other one by yourselves. (0,25)"
   ]
  },
  {
   "cell_type": "code",
   "execution_count": null,
   "id": "0cf9e043",
   "metadata": {},
   "outputs": [],
   "source": []
  },
  {
   "cell_type": "markdown",
   "id": "f226ccc0",
   "metadata": {},
   "source": [
    "#### 6. Select one of them for fine-tuning. Justify your selection with the results from suitable evaluation metrics. (0,25 grade units)"
   ]
  },
  {
   "cell_type": "code",
   "execution_count": null,
   "id": "1a9af788",
   "metadata": {},
   "outputs": [],
   "source": []
  },
  {
   "cell_type": "markdown",
   "id": "673dd2f7",
   "metadata": {},
   "source": [
    "#### 7. Use cross-validation in the fine-tuning of your model. Test different hyperparameter combinations. (0,25 grade units)"
   ]
  },
  {
   "cell_type": "code",
   "execution_count": null,
   "id": "09526218",
   "metadata": {},
   "outputs": [],
   "source": []
  },
  {
   "cell_type": "markdown",
   "id": "409c4d27",
   "metadata": {},
   "source": [
    "#### 8. Make predictions on the test set and send them to Kaggle for evaluation. (0,25 grade units)"
   ]
  },
  {
   "cell_type": "code",
   "execution_count": null,
   "id": "ce436b90",
   "metadata": {},
   "outputs": [],
   "source": []
  },
  {
   "cell_type": "markdown",
   "id": "82bd149d",
   "metadata": {},
   "source": [
    "#### 9. At the end of your Jupyter Notebook, evaluate how well does the model seem to reach your original aims? (0,25 grade units)\n",
    "\n",
    "* You have to pass this criteria to get accepted result."
   ]
  },
  {
   "cell_type": "code",
   "execution_count": null,
   "id": "def6ee61",
   "metadata": {},
   "outputs": [],
   "source": []
  },
  {
   "cell_type": "markdown",
   "id": "3831b078",
   "metadata": {},
   "source": [
    "The maximum number of grade units is 2,0.\n",
    "\n",
    "Please note that you can also suggest another subject for your teamwork to the instructor if it is related to data analyses or business intelligence."
   ]
  }
 ],
 "metadata": {
  "kernelspec": {
   "display_name": "Python 3 (ipykernel)",
   "language": "python",
   "name": "python3"
  },
  "language_info": {
   "codemirror_mode": {
    "name": "ipython",
    "version": 3
   },
   "file_extension": ".py",
   "mimetype": "text/x-python",
   "name": "python",
   "nbconvert_exporter": "python",
   "pygments_lexer": "ipython3",
   "version": "3.9.7"
  }
 },
 "nbformat": 4,
 "nbformat_minor": 5
}
