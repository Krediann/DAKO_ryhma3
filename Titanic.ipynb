{
 "cells": [
  {
   "cell_type": "markdown",
   "id": "e7d9f57c",
   "metadata": {},
   "source": [
    "# Titanic – Machine Learning from Disaster"
   ]
  },
  {
   "cell_type": "markdown",
   "id": "ee637a31",
   "metadata": {},
   "source": [
    "This idea of this teamwork is to implement step-by-step a classification analysis with Python’s data analysis and manipulation libraries like Pandas, NumPy, and Scikit-Learn.\n",
    "\n",
    "The team size is 4 members.\n",
    "\n",
    "The evaluation of the teamwork will happen by re-performing the analysis and evaluating the results in the presence of the instructor. Please, create a Jupyter Notebook that documents the aims of your project, describes the dataset, documents your data analysis process, and evaluates the results i.e. make the analysis self-descriptive by adding Markdown comments and by using descriptive variable names. The efforts of the individual team members will also be evaluated in the event.\n",
    "\n",
    "Please, book a time for evaluation event for a week starting on Mon 25 April 2022. The 15 minutes long time slots will be published later in itsLearning.\n",
    "\n",
    "Return the documented Jupyter Notebook or a link to its version control repository into the itsLearning return box no later than Friday 22 April 2022 at 16.00."
   ]
  },
  {
   "cell_type": "markdown",
   "id": "7863c8cc",
   "metadata": {},
   "source": [
    "The commission:\n",
    "\n",
    "This is directly from the kaggle datasets.\n",
    "\n",
    "Your task is to use machine learning to create a model that predicts which passengers survived the Titanic shipwreck.\n",
    "\n",
    "This is a binary classification problem: survived - not survived.\n",
    "\n",
    "Please get acquainted with the data at https://www.kaggle.com/c/titanic\n",
    "\n",
    "You can also find solutions and tutorials there to help you. They are on the Code tab.\n",
    "\n",
    "Please note that the test set doesn't disclose the value of the target variable: Did the passenger survive or did he not. Use cross validation with your train set to evaluate your model.\n",
    "\n",
    "At the end, you can submit your prediction based on the test set into the kaggle for evaluation according to the instruction given in Overview | Evaluation page. You must login first.\n",
    "\n",
    "When returning the teamwork, let the instructor also know how your analysis was evaluated by kaggle if you uploaded data there.\n",
    "\n",
    "To pass this work, you must:\n",
    "\n",
    "1. Participate in using Python and some of its data analysis libraries.\n",
    "\n",
    "2. Be active during the project.\n",
    "\n",
    "3. Collect at least 0,5 grade units from the * marked tasks below."
   ]
  },
  {
   "cell_type": "markdown",
   "id": "5707477d",
   "metadata": {},
   "source": [
    "### The tasks and the evaluation:"
   ]
  },
  {
   "cell_type": "markdown",
   "id": "c1b27aad",
   "metadata": {},
   "source": [
    "#### 1. Document the aims, decisions, and solutions of your data analysis directly into the Jupyter Notebook as the analysis proceeds. Make the document self-explanatory. (0,25 grade units)"
   ]
  },
  {
   "cell_type": "markdown",
   "id": "7cee42b2",
   "metadata": {},
   "source": [
    "#### 2. Divide your dataset into the train and test sets. (No points this time, Kaggle has done this to you)."
   ]
  },
  {
   "cell_type": "markdown",
   "id": "e5504c9f",
   "metadata": {},
   "source": [
    "#### 3. Describe your data. Calculate statistics, like means, standard deviations, and correlations. Draw diagrams, like histograms, scatter diagrams. Visualize correlations. (0,25 grade units)"
   ]
  },
  {
   "cell_type": "markdown",
   "id": "c3feb679",
   "metadata": {},
   "source": [
    "### Imports"
   ]
  },
  {
   "cell_type": "code",
   "execution_count": 168,
   "id": "2049c6f1",
   "metadata": {},
   "outputs": [],
   "source": [
    "# Python ≥3.5 is required\n",
    "import sys\n",
    "assert sys.version_info >= (3, 5)\n",
    "\n",
    "# Scikit-Learn ≥0.20 is required\n",
    "import sklearn\n",
    "assert sklearn.__version__ >= \"0.20\"\n",
    "\n",
    "# import os\n",
    "import os\n",
    "\n",
    "# To plot pretty figures\n",
    "%matplotlib inline\n",
    "import matplotlib as mpl\n",
    "import matplotlib.pyplot as plt\n",
    "mpl.rc('axes', labelsize=14)\n",
    "mpl.rc('xtick', labelsize=12)\n",
    "mpl.rc('ytick', labelsize=12)\n",
    "\n",
    "# Where to save the figures\n",
    "PROJECT_ROOT_DIR = \".\"\n",
    "IMAGES_PATH = os.path.join(PROJECT_ROOT_DIR, \"images\")\n",
    "os.makedirs(IMAGES_PATH, exist_ok=True)\n",
    "\n",
    "def save_fig(fig_id, tight_layout=True, fig_extension=\"png\", resolution=300):\n",
    "    path = os.path.join(IMAGES_PATH, fig_id + \".\" + fig_extension)\n",
    "    print(\"Saving figure\", fig_id)\n",
    "    if tight_layout:\n",
    "        plt.tight_layout()\n",
    "    plt.savefig(path, format=fig_extension, dpi=resolution)"
   ]
  },
  {
   "cell_type": "code",
   "execution_count": 169,
   "id": "da3a1560",
   "metadata": {},
   "outputs": [],
   "source": [
    "%matplotlib inline\n",
    "import numpy as np\n",
    "import pandas as pd\n",
    "import matplotlib.pyplot as plt\n",
    "import seaborn as sns\n",
    "\n",
    "from graphviz import Source\n",
    "from sklearn import metrics\n",
    "from sklearn.base import BaseEstimator\n",
    "from sklearn.impute import SimpleImputer\n",
    "from sklearn.metrics import confusion_matrix\n",
    "from sklearn.metrics import f1_score\n",
    "from sklearn.metrics import mean_absolute_error\n",
    "from sklearn.metrics import mean_squared_error\n",
    "from sklearn.metrics import precision_recall_curve\n",
    "from sklearn.metrics import precision_score, recall_score\n",
    "from sklearn.metrics import roc_auc_score\n",
    "from sklearn.metrics import roc_curve\n",
    "from sklearn.model_selection import cross_val_predict\n",
    "from sklearn.model_selection import cross_val_score\n",
    "from sklearn.pipeline import Pipeline\n",
    "from sklearn.preprocessing import StandardScaler\n",
    "from sklearn.svm import LinearSVC\n",
    "from sklearn.tree import DecisionTreeClassifier\n",
    "from sklearn.tree import export_graphviz"
   ]
  },
  {
   "cell_type": "markdown",
   "id": "60c8ecb3",
   "metadata": {},
   "source": [
    "### Reading the data"
   ]
  },
  {
   "cell_type": "code",
   "execution_count": 170,
   "id": "6fe7d2bf",
   "metadata": {},
   "outputs": [],
   "source": [
    "# Reading the data for the train and test sets\n",
    "train_set = pd.read_csv(\"./datasets/train.csv\")\n",
    "test_set = pd.read_csv(\"./datasets/test.csv\")"
   ]
  },
  {
   "cell_type": "markdown",
   "id": "cfa5f5ac",
   "metadata": {},
   "source": [
    "## Calculations"
   ]
  },
  {
   "cell_type": "code",
   "execution_count": 171,
   "id": "80f4f92b",
   "metadata": {},
   "outputs": [
    {
     "data": {
      "text/html": [
       "<div>\n",
       "<style scoped>\n",
       "    .dataframe tbody tr th:only-of-type {\n",
       "        vertical-align: middle;\n",
       "    }\n",
       "\n",
       "    .dataframe tbody tr th {\n",
       "        vertical-align: top;\n",
       "    }\n",
       "\n",
       "    .dataframe thead th {\n",
       "        text-align: right;\n",
       "    }\n",
       "</style>\n",
       "<table border=\"1\" class=\"dataframe\">\n",
       "  <thead>\n",
       "    <tr style=\"text-align: right;\">\n",
       "      <th></th>\n",
       "      <th>PassengerId</th>\n",
       "      <th>Survived</th>\n",
       "      <th>Pclass</th>\n",
       "      <th>Age</th>\n",
       "      <th>SibSp</th>\n",
       "      <th>Parch</th>\n",
       "      <th>Fare</th>\n",
       "    </tr>\n",
       "  </thead>\n",
       "  <tbody>\n",
       "    <tr>\n",
       "      <th>count</th>\n",
       "      <td>891.000000</td>\n",
       "      <td>891.000000</td>\n",
       "      <td>891.000000</td>\n",
       "      <td>714.000000</td>\n",
       "      <td>891.000000</td>\n",
       "      <td>891.000000</td>\n",
       "      <td>891.000000</td>\n",
       "    </tr>\n",
       "    <tr>\n",
       "      <th>mean</th>\n",
       "      <td>446.000000</td>\n",
       "      <td>0.383838</td>\n",
       "      <td>2.308642</td>\n",
       "      <td>29.699118</td>\n",
       "      <td>0.523008</td>\n",
       "      <td>0.381594</td>\n",
       "      <td>32.204208</td>\n",
       "    </tr>\n",
       "    <tr>\n",
       "      <th>std</th>\n",
       "      <td>257.353842</td>\n",
       "      <td>0.486592</td>\n",
       "      <td>0.836071</td>\n",
       "      <td>14.526497</td>\n",
       "      <td>1.102743</td>\n",
       "      <td>0.806057</td>\n",
       "      <td>49.693429</td>\n",
       "    </tr>\n",
       "    <tr>\n",
       "      <th>min</th>\n",
       "      <td>1.000000</td>\n",
       "      <td>0.000000</td>\n",
       "      <td>1.000000</td>\n",
       "      <td>0.420000</td>\n",
       "      <td>0.000000</td>\n",
       "      <td>0.000000</td>\n",
       "      <td>0.000000</td>\n",
       "    </tr>\n",
       "    <tr>\n",
       "      <th>25%</th>\n",
       "      <td>223.500000</td>\n",
       "      <td>0.000000</td>\n",
       "      <td>2.000000</td>\n",
       "      <td>20.125000</td>\n",
       "      <td>0.000000</td>\n",
       "      <td>0.000000</td>\n",
       "      <td>7.910400</td>\n",
       "    </tr>\n",
       "    <tr>\n",
       "      <th>50%</th>\n",
       "      <td>446.000000</td>\n",
       "      <td>0.000000</td>\n",
       "      <td>3.000000</td>\n",
       "      <td>28.000000</td>\n",
       "      <td>0.000000</td>\n",
       "      <td>0.000000</td>\n",
       "      <td>14.454200</td>\n",
       "    </tr>\n",
       "    <tr>\n",
       "      <th>75%</th>\n",
       "      <td>668.500000</td>\n",
       "      <td>1.000000</td>\n",
       "      <td>3.000000</td>\n",
       "      <td>38.000000</td>\n",
       "      <td>1.000000</td>\n",
       "      <td>0.000000</td>\n",
       "      <td>31.000000</td>\n",
       "    </tr>\n",
       "    <tr>\n",
       "      <th>max</th>\n",
       "      <td>891.000000</td>\n",
       "      <td>1.000000</td>\n",
       "      <td>3.000000</td>\n",
       "      <td>80.000000</td>\n",
       "      <td>8.000000</td>\n",
       "      <td>6.000000</td>\n",
       "      <td>512.329200</td>\n",
       "    </tr>\n",
       "  </tbody>\n",
       "</table>\n",
       "</div>"
      ],
      "text/plain": [
       "       PassengerId    Survived      Pclass         Age       SibSp  \\\n",
       "count   891.000000  891.000000  891.000000  714.000000  891.000000   \n",
       "mean    446.000000    0.383838    2.308642   29.699118    0.523008   \n",
       "std     257.353842    0.486592    0.836071   14.526497    1.102743   \n",
       "min       1.000000    0.000000    1.000000    0.420000    0.000000   \n",
       "25%     223.500000    0.000000    2.000000   20.125000    0.000000   \n",
       "50%     446.000000    0.000000    3.000000   28.000000    0.000000   \n",
       "75%     668.500000    1.000000    3.000000   38.000000    1.000000   \n",
       "max     891.000000    1.000000    3.000000   80.000000    8.000000   \n",
       "\n",
       "            Parch        Fare  \n",
       "count  891.000000  891.000000  \n",
       "mean     0.381594   32.204208  \n",
       "std      0.806057   49.693429  \n",
       "min      0.000000    0.000000  \n",
       "25%      0.000000    7.910400  \n",
       "50%      0.000000   14.454200  \n",
       "75%      0.000000   31.000000  \n",
       "max      6.000000  512.329200  "
      ]
     },
     "execution_count": 171,
     "metadata": {},
     "output_type": "execute_result"
    }
   ],
   "source": [
    "# Using the describe function to describe the data, there is mean for mean std for standard deviation\n",
    "train_set.describe()"
   ]
  },
  {
   "cell_type": "code",
   "execution_count": 172,
   "id": "5bc1c064",
   "metadata": {},
   "outputs": [
    {
     "name": "stdout",
     "output_type": "stream",
     "text": [
      "<class 'pandas.core.frame.DataFrame'>\n",
      "RangeIndex: 891 entries, 0 to 890\n",
      "Data columns (total 12 columns):\n",
      " #   Column       Non-Null Count  Dtype  \n",
      "---  ------       --------------  -----  \n",
      " 0   PassengerId  891 non-null    int64  \n",
      " 1   Survived     891 non-null    int64  \n",
      " 2   Pclass       891 non-null    int64  \n",
      " 3   Name         891 non-null    object \n",
      " 4   Sex          891 non-null    object \n",
      " 5   Age          714 non-null    float64\n",
      " 6   SibSp        891 non-null    int64  \n",
      " 7   Parch        891 non-null    int64  \n",
      " 8   Ticket       891 non-null    object \n",
      " 9   Fare         891 non-null    float64\n",
      " 10  Cabin        204 non-null    object \n",
      " 11  Embarked     889 non-null    object \n",
      "dtypes: float64(2), int64(5), object(5)\n",
      "memory usage: 83.7+ KB\n"
     ]
    }
   ],
   "source": [
    "train_set.info()"
   ]
  },
  {
   "cell_type": "code",
   "execution_count": 173,
   "id": "f24a0386",
   "metadata": {},
   "outputs": [
    {
     "data": {
      "text/html": [
       "<div>\n",
       "<style scoped>\n",
       "    .dataframe tbody tr th:only-of-type {\n",
       "        vertical-align: middle;\n",
       "    }\n",
       "\n",
       "    .dataframe tbody tr th {\n",
       "        vertical-align: top;\n",
       "    }\n",
       "\n",
       "    .dataframe thead th {\n",
       "        text-align: right;\n",
       "    }\n",
       "</style>\n",
       "<table border=\"1\" class=\"dataframe\">\n",
       "  <thead>\n",
       "    <tr style=\"text-align: right;\">\n",
       "      <th></th>\n",
       "      <th>PassengerId</th>\n",
       "      <th>Survived</th>\n",
       "      <th>Pclass</th>\n",
       "      <th>Name</th>\n",
       "      <th>Sex</th>\n",
       "      <th>Age</th>\n",
       "      <th>SibSp</th>\n",
       "      <th>Parch</th>\n",
       "      <th>Ticket</th>\n",
       "      <th>Fare</th>\n",
       "      <th>Cabin</th>\n",
       "      <th>Embarked</th>\n",
       "    </tr>\n",
       "  </thead>\n",
       "  <tbody>\n",
       "    <tr>\n",
       "      <th>0</th>\n",
       "      <td>1</td>\n",
       "      <td>0</td>\n",
       "      <td>3</td>\n",
       "      <td>Braund, Mr. Owen Harris</td>\n",
       "      <td>male</td>\n",
       "      <td>22.0</td>\n",
       "      <td>1</td>\n",
       "      <td>0</td>\n",
       "      <td>A/5 21171</td>\n",
       "      <td>7.2500</td>\n",
       "      <td>NaN</td>\n",
       "      <td>S</td>\n",
       "    </tr>\n",
       "    <tr>\n",
       "      <th>1</th>\n",
       "      <td>2</td>\n",
       "      <td>1</td>\n",
       "      <td>1</td>\n",
       "      <td>Cumings, Mrs. John Bradley (Florence Briggs Th...</td>\n",
       "      <td>female</td>\n",
       "      <td>38.0</td>\n",
       "      <td>1</td>\n",
       "      <td>0</td>\n",
       "      <td>PC 17599</td>\n",
       "      <td>71.2833</td>\n",
       "      <td>C85</td>\n",
       "      <td>C</td>\n",
       "    </tr>\n",
       "    <tr>\n",
       "      <th>2</th>\n",
       "      <td>3</td>\n",
       "      <td>1</td>\n",
       "      <td>3</td>\n",
       "      <td>Heikkinen, Miss. Laina</td>\n",
       "      <td>female</td>\n",
       "      <td>26.0</td>\n",
       "      <td>0</td>\n",
       "      <td>0</td>\n",
       "      <td>STON/O2. 3101282</td>\n",
       "      <td>7.9250</td>\n",
       "      <td>NaN</td>\n",
       "      <td>S</td>\n",
       "    </tr>\n",
       "    <tr>\n",
       "      <th>3</th>\n",
       "      <td>4</td>\n",
       "      <td>1</td>\n",
       "      <td>1</td>\n",
       "      <td>Futrelle, Mrs. Jacques Heath (Lily May Peel)</td>\n",
       "      <td>female</td>\n",
       "      <td>35.0</td>\n",
       "      <td>1</td>\n",
       "      <td>0</td>\n",
       "      <td>113803</td>\n",
       "      <td>53.1000</td>\n",
       "      <td>C123</td>\n",
       "      <td>S</td>\n",
       "    </tr>\n",
       "    <tr>\n",
       "      <th>4</th>\n",
       "      <td>5</td>\n",
       "      <td>0</td>\n",
       "      <td>3</td>\n",
       "      <td>Allen, Mr. William Henry</td>\n",
       "      <td>male</td>\n",
       "      <td>35.0</td>\n",
       "      <td>0</td>\n",
       "      <td>0</td>\n",
       "      <td>373450</td>\n",
       "      <td>8.0500</td>\n",
       "      <td>NaN</td>\n",
       "      <td>S</td>\n",
       "    </tr>\n",
       "  </tbody>\n",
       "</table>\n",
       "</div>"
      ],
      "text/plain": [
       "   PassengerId  Survived  Pclass  \\\n",
       "0            1         0       3   \n",
       "1            2         1       1   \n",
       "2            3         1       3   \n",
       "3            4         1       1   \n",
       "4            5         0       3   \n",
       "\n",
       "                                                Name     Sex   Age  SibSp  \\\n",
       "0                            Braund, Mr. Owen Harris    male  22.0      1   \n",
       "1  Cumings, Mrs. John Bradley (Florence Briggs Th...  female  38.0      1   \n",
       "2                             Heikkinen, Miss. Laina  female  26.0      0   \n",
       "3       Futrelle, Mrs. Jacques Heath (Lily May Peel)  female  35.0      1   \n",
       "4                           Allen, Mr. William Henry    male  35.0      0   \n",
       "\n",
       "   Parch            Ticket     Fare Cabin Embarked  \n",
       "0      0         A/5 21171   7.2500   NaN        S  \n",
       "1      0          PC 17599  71.2833   C85        C  \n",
       "2      0  STON/O2. 3101282   7.9250   NaN        S  \n",
       "3      0            113803  53.1000  C123        S  \n",
       "4      0            373450   8.0500   NaN        S  "
      ]
     },
     "execution_count": 173,
     "metadata": {},
     "output_type": "execute_result"
    }
   ],
   "source": [
    "train_set.head()"
   ]
  },
  {
   "cell_type": "code",
   "execution_count": 174,
   "id": "bd783d4a",
   "metadata": {},
   "outputs": [
    {
     "data": {
      "text/html": [
       "<div>\n",
       "<style scoped>\n",
       "    .dataframe tbody tr th:only-of-type {\n",
       "        vertical-align: middle;\n",
       "    }\n",
       "\n",
       "    .dataframe tbody tr th {\n",
       "        vertical-align: top;\n",
       "    }\n",
       "\n",
       "    .dataframe thead th {\n",
       "        text-align: right;\n",
       "    }\n",
       "</style>\n",
       "<table border=\"1\" class=\"dataframe\">\n",
       "  <thead>\n",
       "    <tr style=\"text-align: right;\">\n",
       "      <th></th>\n",
       "      <th>PassengerId</th>\n",
       "      <th>Survived</th>\n",
       "      <th>Pclass</th>\n",
       "      <th>Age</th>\n",
       "      <th>SibSp</th>\n",
       "      <th>Parch</th>\n",
       "      <th>Fare</th>\n",
       "    </tr>\n",
       "  </thead>\n",
       "  <tbody>\n",
       "    <tr>\n",
       "      <th>PassengerId</th>\n",
       "      <td>1.000000</td>\n",
       "      <td>-0.005007</td>\n",
       "      <td>-0.035144</td>\n",
       "      <td>0.036847</td>\n",
       "      <td>-0.057527</td>\n",
       "      <td>-0.001652</td>\n",
       "      <td>0.012658</td>\n",
       "    </tr>\n",
       "    <tr>\n",
       "      <th>Survived</th>\n",
       "      <td>-0.005007</td>\n",
       "      <td>1.000000</td>\n",
       "      <td>-0.338481</td>\n",
       "      <td>-0.077221</td>\n",
       "      <td>-0.035322</td>\n",
       "      <td>0.081629</td>\n",
       "      <td>0.257307</td>\n",
       "    </tr>\n",
       "    <tr>\n",
       "      <th>Pclass</th>\n",
       "      <td>-0.035144</td>\n",
       "      <td>-0.338481</td>\n",
       "      <td>1.000000</td>\n",
       "      <td>-0.369226</td>\n",
       "      <td>0.083081</td>\n",
       "      <td>0.018443</td>\n",
       "      <td>-0.549500</td>\n",
       "    </tr>\n",
       "    <tr>\n",
       "      <th>Age</th>\n",
       "      <td>0.036847</td>\n",
       "      <td>-0.077221</td>\n",
       "      <td>-0.369226</td>\n",
       "      <td>1.000000</td>\n",
       "      <td>-0.308247</td>\n",
       "      <td>-0.189119</td>\n",
       "      <td>0.096067</td>\n",
       "    </tr>\n",
       "    <tr>\n",
       "      <th>SibSp</th>\n",
       "      <td>-0.057527</td>\n",
       "      <td>-0.035322</td>\n",
       "      <td>0.083081</td>\n",
       "      <td>-0.308247</td>\n",
       "      <td>1.000000</td>\n",
       "      <td>0.414838</td>\n",
       "      <td>0.159651</td>\n",
       "    </tr>\n",
       "    <tr>\n",
       "      <th>Parch</th>\n",
       "      <td>-0.001652</td>\n",
       "      <td>0.081629</td>\n",
       "      <td>0.018443</td>\n",
       "      <td>-0.189119</td>\n",
       "      <td>0.414838</td>\n",
       "      <td>1.000000</td>\n",
       "      <td>0.216225</td>\n",
       "    </tr>\n",
       "    <tr>\n",
       "      <th>Fare</th>\n",
       "      <td>0.012658</td>\n",
       "      <td>0.257307</td>\n",
       "      <td>-0.549500</td>\n",
       "      <td>0.096067</td>\n",
       "      <td>0.159651</td>\n",
       "      <td>0.216225</td>\n",
       "      <td>1.000000</td>\n",
       "    </tr>\n",
       "  </tbody>\n",
       "</table>\n",
       "</div>"
      ],
      "text/plain": [
       "             PassengerId  Survived    Pclass       Age     SibSp     Parch  \\\n",
       "PassengerId     1.000000 -0.005007 -0.035144  0.036847 -0.057527 -0.001652   \n",
       "Survived       -0.005007  1.000000 -0.338481 -0.077221 -0.035322  0.081629   \n",
       "Pclass         -0.035144 -0.338481  1.000000 -0.369226  0.083081  0.018443   \n",
       "Age             0.036847 -0.077221 -0.369226  1.000000 -0.308247 -0.189119   \n",
       "SibSp          -0.057527 -0.035322  0.083081 -0.308247  1.000000  0.414838   \n",
       "Parch          -0.001652  0.081629  0.018443 -0.189119  0.414838  1.000000   \n",
       "Fare            0.012658  0.257307 -0.549500  0.096067  0.159651  0.216225   \n",
       "\n",
       "                 Fare  \n",
       "PassengerId  0.012658  \n",
       "Survived     0.257307  \n",
       "Pclass      -0.549500  \n",
       "Age          0.096067  \n",
       "SibSp        0.159651  \n",
       "Parch        0.216225  \n",
       "Fare         1.000000  "
      ]
     },
     "execution_count": 174,
     "metadata": {},
     "output_type": "execute_result"
    }
   ],
   "source": [
    "# Calculating correlations using corr function from pandas\n",
    "train_set.corr()"
   ]
  },
  {
   "cell_type": "code",
   "execution_count": 175,
   "id": "aec31d09",
   "metadata": {},
   "outputs": [
    {
     "data": {
      "text/plain": [
       "<seaborn.axisgrid.PairGrid at 0x18812e97d90>"
      ]
     },
     "execution_count": 175,
     "metadata": {},
     "output_type": "execute_result"
    },
    {
     "data": {
      "image/png": "[encoded data removed]",
      "text/plain": [
       "<Figure size 720x720 with 20 Axes>"
      ]
     },
     "metadata": {
      "needs_background": "light"
     },
     "output_type": "display_data"
    }
   ],
   "source": [
    "sns.pairplot(train_set, vars=[\"Survived\", \"Fare\", \"Pclass\", \"Age\"])"
   ]
  },
  {
   "cell_type": "markdown",
   "id": "5a1ca31f",
   "metadata": {},
   "source": [
    "## Diagrams"
   ]
  },
  {
   "cell_type": "code",
   "execution_count": 176,
   "id": "adc2ff51",
   "metadata": {},
   "outputs": [
    {
     "name": "stderr",
     "output_type": "stream",
     "text": [
      "C:\\Users\\annuk\\anaconda3\\lib\\site-packages\\seaborn\\_decorators.py:36: FutureWarning: Pass the following variable as a keyword arg: x. From version 0.12, the only valid positional argument will be `data`, and passing other arguments without an explicit keyword will result in an error or misinterpretation.\n",
      "  warnings.warn(\n"
     ]
    },
    {
     "data": {
      "image/png": "[encoded data removed]",
      "text/plain": [
       "<Figure size 432x288 with 1 Axes>"
      ]
     },
     "metadata": {
      "needs_background": "light"
     },
     "output_type": "display_data"
    }
   ],
   "source": [
    "# Making variables for the amount of dead and survivors using the value_counts method on an index since there\n",
    "# are only 2 possible situations\n",
    "survivor_amount = train_set[\"Survived\"].value_counts()[1]\n",
    "dead_amount = train_set[\"Survived\"].value_counts()[0]\n",
    "# Creating the figure and giving it the width and height\n",
    "plt.figure(figsize = (6,4))\n",
    "# Controlling the scaling of plot elements using seaborn's set_context method\n",
    "sns.set_context(\"talk\")\n",
    "# Shows the count of observations in survived category using bars, in this case dead and survived\n",
    "sns.countplot(train_set[\"Survived\"])\n",
    "# Creating the title\n",
    "plt.title(\"Surviving people\")\n",
    "# Creating label for the y-axis\n",
    "plt.ylabel(\"Amount of people\")\n",
    "# Removing label from x-axis\n",
    "plt.xlabel(\"\")\n",
    "# creating the locations and labels for the x-axis, using format method to make the int dead_amount and survivor\n",
    "# amount inserted in to a string, location got by using {}\n",
    "plt.xticks((0,1), [\"Dead({})\".format(dead_amount), \"Survived ({})\".format(survivor_amount)])\n",
    "# Drawing the diagram\n",
    "plt.show()"
   ]
  },
  {
   "cell_type": "code",
   "execution_count": 177,
   "id": "c339a89e",
   "metadata": {},
   "outputs": [
    {
     "data": {
      "text/plain": [
       "<AxesSubplot:xlabel='Sex', ylabel='Age'>"
      ]
     },
     "execution_count": 177,
     "metadata": {},
     "output_type": "execute_result"
    },
    {
     "data": {
      "image/png": "[encoded data removed]",
      "text/plain": [
       "<Figure size 432x288 with 1 Axes>"
      ]
     },
     "metadata": {},
     "output_type": "display_data"
    }
   ],
   "source": [
    "sns.set_theme(style=\"ticks\")\n",
    "sns.boxplot(x=\"Sex\", y=\"Age\", palette =[\"m\",\"g\"], data=train_set)"
   ]
  },
  {
   "cell_type": "code",
   "execution_count": 178,
   "id": "703f3baf",
   "metadata": {},
   "outputs": [
    {
     "data": {
      "image/png": "[encoded data removed]",
      "text/plain": [
       "<Figure size 1080x432 with 2 Axes>"
      ]
     },
     "metadata": {},
     "output_type": "display_data"
    }
   ],
   "source": [
    "survived = 'survived'\n",
    "not_survived = 'not survived'\n",
    "fig, axes = plt.subplots(nrows=1, ncols=2,figsize=(15, 6))\n",
    "women = train_set[train_set['Sex']=='female']\n",
    "men = train_set[train_set['Sex']=='male']\n",
    "ax = sns.histplot(women[women['Survived']==1].Age.dropna(), bins=18, label = survived, ax = axes[0], kde =False, color='blue', alpha=0.5)\n",
    "ax = sns.histplot(women[women['Survived']==0].Age.dropna(), bins=40, label = not_survived, ax = axes[0], kde =False, color='orange', alpha=0.5)\n",
    "ax.legend()\n",
    "ax.set_title('Female')\n",
    "ax = sns.histplot(men[men['Survived']==1].Age.dropna(), bins=18, label = survived, ax = axes[1], kde = False, color='blue', alpha=0.5)\n",
    "ax = sns.histplot(men[men['Survived']==0].Age.dropna(), bins=40, label = not_survived, ax = axes[1], kde = False, color='orange', alpha=0.5)\n",
    "ax.legend()\n",
    "_ = ax.set_title('Male')"
   ]
  },
  {
   "cell_type": "code",
   "execution_count": 179,
   "id": "12c43c72",
   "metadata": {},
   "outputs": [
    {
     "data": {
      "text/plain": [
       "<AxesSubplot:xlabel='Pclass', ylabel='Survived'>"
      ]
     },
     "execution_count": 179,
     "metadata": {},
     "output_type": "execute_result"
    },
    {
     "data": {
      "image/png": "[encoded data removed]",
      "text/plain": [
       "<Figure size 432x288 with 1 Axes>"
      ]
     },
     "metadata": {},
     "output_type": "display_data"
    }
   ],
   "source": [
    "sns.barplot(x='Pclass', y='Survived', data=train_set)"
   ]
  },
  {
   "cell_type": "code",
   "execution_count": 180,
   "id": "76f82c6f",
   "metadata": {},
   "outputs": [],
   "source": [
    "data = [train_set]\n",
    "for dataset in data:\n",
    "    dataset['relatives'] = dataset['SibSp'] + dataset['Parch']"
   ]
  },
  {
   "cell_type": "code",
   "execution_count": 181,
   "id": "bcfe58dd",
   "metadata": {},
   "outputs": [
    {
     "data": {
      "image/png": "[encoded data removed]",
      "text/plain": [
       "<Figure size 900x360 with 1 Axes>"
      ]
     },
     "metadata": {},
     "output_type": "display_data"
    }
   ],
   "source": [
    "axes = sns.catplot(x='relatives',y='Survived', \n",
    "                      data=train_set, aspect = 2.5, kind='point')"
   ]
  },
  {
   "cell_type": "markdown",
   "id": "6e334c73",
   "metadata": {},
   "source": [
    "Source:<br>\n",
    "https://towardsdatascience.com/predicting-the-survival-of-titanic-passengers-30870ccc7e8"
   ]
  },
  {
   "cell_type": "code",
   "execution_count": 182,
   "id": "84c5ae76",
   "metadata": {},
   "outputs": [
    {
     "data": {
      "image/png": "[encoded data removed]",
      "text/plain": [
       "<Figure size 576x576 with 1 Axes>"
      ]
     },
     "metadata": {},
     "output_type": "display_data"
    }
   ],
   "source": [
    "plt.figure(figsize=(8,8))\n",
    "sns.swarmplot(x=\"Sex\", y=\"Age\", data=train_set)\n",
    "plt.show()"
   ]
  },
  {
   "cell_type": "code",
   "execution_count": 183,
   "id": "38691de3",
   "metadata": {},
   "outputs": [
    {
     "data": {
      "image/png": "[encoded data removed]",
      "text/plain": [
       "<Figure size 1152.85x360 with 3 Axes>"
      ]
     },
     "metadata": {},
     "output_type": "display_data"
    }
   ],
   "source": [
    "sns.relplot(x=\"Age\", y=\"Fare\", col=\"Pclass\",\n",
    "hue=\"Sex\", style=\"Sex\",\n",
    "kind=\"line\", data=train_set)\n",
    "plt.show()"
   ]
  },
  {
   "cell_type": "code",
   "execution_count": 184,
   "id": "4e166f29",
   "metadata": {},
   "outputs": [
    {
     "data": {
      "image/png": "[encoded data removed]",
      "text/plain": [
       "<Figure size 576x576 with 1 Axes>"
      ]
     },
     "metadata": {},
     "output_type": "display_data"
    }
   ],
   "source": [
    "plt.figure(figsize=(8,8))\n",
    "sns.barplot(x=\"Sex\", y=\"Survived\", hue=\"Pclass\", data=train_set)\n",
    "plt.show()"
   ]
  },
  {
   "cell_type": "markdown",
   "id": "78b2fe34",
   "metadata": {},
   "source": [
    "Source:<br>\n",
    "https://www.kaggle.com/code/roblexnana/data-viz-tutorial-with-titanic-and-seaborn/notebook"
   ]
  },
  {
   "cell_type": "markdown",
   "id": "05429626",
   "metadata": {},
   "source": [
    "#### 4. * Prepare your data. When and if necessary, calculate new attributes, scale attributes, convert categorical variables into numeric variables. (0,25 grade units)"
   ]
  },
  {
   "cell_type": "code",
   "execution_count": 185,
   "id": "4805635d",
   "metadata": {},
   "outputs": [],
   "source": [
    "train_set = train_set.drop(['Ticket', 'Name', 'Cabin', 'PassengerId', 'Embarked'], axis=1)"
   ]
  },
  {
   "cell_type": "code",
   "execution_count": 186,
   "id": "461bdc9e",
   "metadata": {},
   "outputs": [
    {
     "data": {
      "text/html": [
       "<div>\n",
       "<style scoped>\n",
       "    .dataframe tbody tr th:only-of-type {\n",
       "        vertical-align: middle;\n",
       "    }\n",
       "\n",
       "    .dataframe tbody tr th {\n",
       "        vertical-align: top;\n",
       "    }\n",
       "\n",
       "    .dataframe thead th {\n",
       "        text-align: right;\n",
       "    }\n",
       "</style>\n",
       "<table border=\"1\" class=\"dataframe\">\n",
       "  <thead>\n",
       "    <tr style=\"text-align: right;\">\n",
       "      <th></th>\n",
       "      <th>Survived</th>\n",
       "      <th>Pclass</th>\n",
       "      <th>Sex</th>\n",
       "      <th>Age</th>\n",
       "      <th>SibSp</th>\n",
       "      <th>Parch</th>\n",
       "      <th>Fare</th>\n",
       "      <th>relatives</th>\n",
       "    </tr>\n",
       "  </thead>\n",
       "  <tbody>\n",
       "    <tr>\n",
       "      <th>0</th>\n",
       "      <td>0</td>\n",
       "      <td>3</td>\n",
       "      <td>male</td>\n",
       "      <td>22.0</td>\n",
       "      <td>1</td>\n",
       "      <td>0</td>\n",
       "      <td>7.2500</td>\n",
       "      <td>1</td>\n",
       "    </tr>\n",
       "    <tr>\n",
       "      <th>1</th>\n",
       "      <td>1</td>\n",
       "      <td>1</td>\n",
       "      <td>female</td>\n",
       "      <td>38.0</td>\n",
       "      <td>1</td>\n",
       "      <td>0</td>\n",
       "      <td>71.2833</td>\n",
       "      <td>1</td>\n",
       "    </tr>\n",
       "    <tr>\n",
       "      <th>2</th>\n",
       "      <td>1</td>\n",
       "      <td>3</td>\n",
       "      <td>female</td>\n",
       "      <td>26.0</td>\n",
       "      <td>0</td>\n",
       "      <td>0</td>\n",
       "      <td>7.9250</td>\n",
       "      <td>0</td>\n",
       "    </tr>\n",
       "    <tr>\n",
       "      <th>3</th>\n",
       "      <td>1</td>\n",
       "      <td>1</td>\n",
       "      <td>female</td>\n",
       "      <td>35.0</td>\n",
       "      <td>1</td>\n",
       "      <td>0</td>\n",
       "      <td>53.1000</td>\n",
       "      <td>1</td>\n",
       "    </tr>\n",
       "    <tr>\n",
       "      <th>4</th>\n",
       "      <td>0</td>\n",
       "      <td>3</td>\n",
       "      <td>male</td>\n",
       "      <td>35.0</td>\n",
       "      <td>0</td>\n",
       "      <td>0</td>\n",
       "      <td>8.0500</td>\n",
       "      <td>0</td>\n",
       "    </tr>\n",
       "  </tbody>\n",
       "</table>\n",
       "</div>"
      ],
      "text/plain": [
       "   Survived  Pclass     Sex   Age  SibSp  Parch     Fare  relatives\n",
       "0         0       3    male  22.0      1      0   7.2500          1\n",
       "1         1       1  female  38.0      1      0  71.2833          1\n",
       "2         1       3  female  26.0      0      0   7.9250          0\n",
       "3         1       1  female  35.0      1      0  53.1000          1\n",
       "4         0       3    male  35.0      0      0   8.0500          0"
      ]
     },
     "execution_count": 186,
     "metadata": {},
     "output_type": "execute_result"
    }
   ],
   "source": [
    "train_set.head()"
   ]
  },
  {
   "cell_type": "code",
   "execution_count": 187,
   "id": "116905e5",
   "metadata": {},
   "outputs": [
    {
     "name": "stdout",
     "output_type": "stream",
     "text": [
      "     Survived  Pclass  Sex   Age  SibSp  Parch     Fare  relatives\n",
      "0           0       3    1  22.0      1      0   7.2500          1\n",
      "1           1       1    2  38.0      1      0  71.2833          1\n",
      "2           1       3    2  26.0      0      0   7.9250          0\n",
      "3           1       1    2  35.0      1      0  53.1000          1\n",
      "4           0       3    1  35.0      0      0   8.0500          0\n",
      "..        ...     ...  ...   ...    ...    ...      ...        ...\n",
      "886         0       2    1  27.0      0      0  13.0000          0\n",
      "887         1       1    2  19.0      0      0  30.0000          0\n",
      "888         0       3    2   NaN      1      2  23.4500          3\n",
      "889         1       1    1  26.0      0      0  30.0000          0\n",
      "890         0       3    1  32.0      0      0   7.7500          0\n",
      "\n",
      "[891 rows x 8 columns]\n"
     ]
    }
   ],
   "source": [
    "# creating a dict file \n",
    "gender = {'male': 1,'female': 2}  \n",
    "# traversing through dataframe\n",
    "# Gender column and writing\n",
    "# values where key matches\n",
    "train_set[\"Sex\"] = [gender[item] for item in train_set[\"Sex\"]]\n",
    "print(train_set)"
   ]
  },
  {
   "cell_type": "code",
   "execution_count": 188,
   "id": "32abc9a0",
   "metadata": {},
   "outputs": [],
   "source": [
    "imputer = SimpleImputer(strategy='median')\n",
    "X = imputer.fit_transform(train_set)"
   ]
  },
  {
   "cell_type": "code",
   "execution_count": 189,
   "id": "2e5d2169",
   "metadata": {},
   "outputs": [],
   "source": [
    "train_set = pd.DataFrame(X, columns=train_set.columns)"
   ]
  },
  {
   "cell_type": "code",
   "execution_count": 190,
   "id": "e5e9ecf8",
   "metadata": {},
   "outputs": [
    {
     "name": "stdout",
     "output_type": "stream",
     "text": [
      "<class 'pandas.core.frame.DataFrame'>\n",
      "RangeIndex: 891 entries, 0 to 890\n",
      "Data columns (total 8 columns):\n",
      " #   Column     Non-Null Count  Dtype  \n",
      "---  ------     --------------  -----  \n",
      " 0   Survived   891 non-null    float64\n",
      " 1   Pclass     891 non-null    float64\n",
      " 2   Sex        891 non-null    float64\n",
      " 3   Age        891 non-null    float64\n",
      " 4   SibSp      891 non-null    float64\n",
      " 5   Parch      891 non-null    float64\n",
      " 6   Fare       891 non-null    float64\n",
      " 7   relatives  891 non-null    float64\n",
      "dtypes: float64(8)\n",
      "memory usage: 55.8 KB\n"
     ]
    }
   ],
   "source": [
    "train_set.info()"
   ]
  },
  {
   "cell_type": "code",
   "execution_count": 191,
   "id": "957c6a9f",
   "metadata": {},
   "outputs": [
    {
     "data": {
      "text/html": [
       "<div>\n",
       "<style scoped>\n",
       "    .dataframe tbody tr th:only-of-type {\n",
       "        vertical-align: middle;\n",
       "    }\n",
       "\n",
       "    .dataframe tbody tr th {\n",
       "        vertical-align: top;\n",
       "    }\n",
       "\n",
       "    .dataframe thead th {\n",
       "        text-align: right;\n",
       "    }\n",
       "</style>\n",
       "<table border=\"1\" class=\"dataframe\">\n",
       "  <thead>\n",
       "    <tr style=\"text-align: right;\">\n",
       "      <th></th>\n",
       "      <th>Survived</th>\n",
       "      <th>Pclass</th>\n",
       "      <th>Sex</th>\n",
       "      <th>Age</th>\n",
       "      <th>SibSp</th>\n",
       "      <th>Parch</th>\n",
       "      <th>Fare</th>\n",
       "      <th>relatives</th>\n",
       "    </tr>\n",
       "  </thead>\n",
       "  <tbody>\n",
       "    <tr>\n",
       "      <th>0</th>\n",
       "      <td>0.0</td>\n",
       "      <td>3.0</td>\n",
       "      <td>1.0</td>\n",
       "      <td>22.0</td>\n",
       "      <td>1.0</td>\n",
       "      <td>0.0</td>\n",
       "      <td>7.2500</td>\n",
       "      <td>1.0</td>\n",
       "    </tr>\n",
       "    <tr>\n",
       "      <th>1</th>\n",
       "      <td>1.0</td>\n",
       "      <td>1.0</td>\n",
       "      <td>2.0</td>\n",
       "      <td>38.0</td>\n",
       "      <td>1.0</td>\n",
       "      <td>0.0</td>\n",
       "      <td>71.2833</td>\n",
       "      <td>1.0</td>\n",
       "    </tr>\n",
       "    <tr>\n",
       "      <th>2</th>\n",
       "      <td>1.0</td>\n",
       "      <td>3.0</td>\n",
       "      <td>2.0</td>\n",
       "      <td>26.0</td>\n",
       "      <td>0.0</td>\n",
       "      <td>0.0</td>\n",
       "      <td>7.9250</td>\n",
       "      <td>0.0</td>\n",
       "    </tr>\n",
       "    <tr>\n",
       "      <th>3</th>\n",
       "      <td>1.0</td>\n",
       "      <td>1.0</td>\n",
       "      <td>2.0</td>\n",
       "      <td>35.0</td>\n",
       "      <td>1.0</td>\n",
       "      <td>0.0</td>\n",
       "      <td>53.1000</td>\n",
       "      <td>1.0</td>\n",
       "    </tr>\n",
       "    <tr>\n",
       "      <th>4</th>\n",
       "      <td>0.0</td>\n",
       "      <td>3.0</td>\n",
       "      <td>1.0</td>\n",
       "      <td>35.0</td>\n",
       "      <td>0.0</td>\n",
       "      <td>0.0</td>\n",
       "      <td>8.0500</td>\n",
       "      <td>0.0</td>\n",
       "    </tr>\n",
       "  </tbody>\n",
       "</table>\n",
       "</div>"
      ],
      "text/plain": [
       "   Survived  Pclass  Sex   Age  SibSp  Parch     Fare  relatives\n",
       "0       0.0     3.0  1.0  22.0    1.0    0.0   7.2500        1.0\n",
       "1       1.0     1.0  2.0  38.0    1.0    0.0  71.2833        1.0\n",
       "2       1.0     3.0  2.0  26.0    0.0    0.0   7.9250        0.0\n",
       "3       1.0     1.0  2.0  35.0    1.0    0.0  53.1000        1.0\n",
       "4       0.0     3.0  1.0  35.0    0.0    0.0   8.0500        0.0"
      ]
     },
     "execution_count": 191,
     "metadata": {},
     "output_type": "execute_result"
    }
   ],
   "source": [
    "train_set.head()"
   ]
  },
  {
   "cell_type": "markdown",
   "id": "949f6c14",
   "metadata": {},
   "source": [
    "#### 5. * Train two different classification models. One of them should be Random Forest or SVM. You can select the other one by yourselves. (0,25)"
   ]
  },
  {
   "cell_type": "markdown",
   "id": "1a9647ba",
   "metadata": {},
   "source": [
    "### SVM Model"
   ]
  },
  {
   "cell_type": "code",
   "execution_count": 192,
   "id": "22560125",
   "metadata": {},
   "outputs": [],
   "source": [
    "X_train = train_set.drop(\"Survived\", axis=1)\n",
    "y_train = train_set[\"Survived\"]\n",
    "X_test  = test_set.copy()"
   ]
  },
  {
   "cell_type": "code",
   "execution_count": 193,
   "id": "e4aadb4d",
   "metadata": {},
   "outputs": [],
   "source": [
    "svm_clf = Pipeline([\n",
    "    (\"scaler\", StandardScaler()),\n",
    "    (\"linear_svc\", LinearSVC(C=1, loss=\"hinge\")),\n",
    "])"
   ]
  },
  {
   "cell_type": "code",
   "execution_count": 194,
   "id": "29286beb",
   "metadata": {},
   "outputs": [
    {
     "data": {
      "text/plain": [
       "Pipeline(steps=[('scaler', StandardScaler()),\n",
       "                ('linear_svc', LinearSVC(C=1, loss='hinge'))])"
      ]
     },
     "execution_count": 194,
     "metadata": {},
     "output_type": "execute_result"
    }
   ],
   "source": [
    "svm_clf.fit(X_train,y_train)"
   ]
  },
  {
   "cell_type": "code",
   "execution_count": 195,
   "id": "d9e37d72",
   "metadata": {},
   "outputs": [
    {
     "data": {
      "text/plain": [
       "0.46178300810757417"
      ]
     },
     "execution_count": 195,
     "metadata": {},
     "output_type": "execute_result"
    }
   ],
   "source": [
    "train_predictions = svm_clf.predict(X_train)\n",
    "svm_mse = mean_squared_error(y_train, train_predictions)\n",
    "svm_rmse = np.sqrt(svm_mse)\n",
    "svm_rmse"
   ]
  },
  {
   "cell_type": "code",
   "execution_count": 196,
   "id": "07de5b12",
   "metadata": {},
   "outputs": [
    {
     "data": {
      "text/plain": [
       "0.2132435465768799"
      ]
     },
     "execution_count": 196,
     "metadata": {},
     "output_type": "execute_result"
    }
   ],
   "source": [
    "svm_mae = mean_absolute_error(y_train, train_predictions)\n",
    "svm_mae"
   ]
  },
  {
   "cell_type": "code",
   "execution_count": 197,
   "id": "2bdc8bc1",
   "metadata": {},
   "outputs": [],
   "source": [
    "train_set_with_predictions = train_set\n",
    "train_set[\"Predictions\"] = train_predictions"
   ]
  },
  {
   "cell_type": "code",
   "execution_count": 198,
   "id": "0b230a85",
   "metadata": {},
   "outputs": [
    {
     "data": {
      "text/html": [
       "<div>\n",
       "<style scoped>\n",
       "    .dataframe tbody tr th:only-of-type {\n",
       "        vertical-align: middle;\n",
       "    }\n",
       "\n",
       "    .dataframe tbody tr th {\n",
       "        vertical-align: top;\n",
       "    }\n",
       "\n",
       "    .dataframe thead th {\n",
       "        text-align: right;\n",
       "    }\n",
       "</style>\n",
       "<table border=\"1\" class=\"dataframe\">\n",
       "  <thead>\n",
       "    <tr style=\"text-align: right;\">\n",
       "      <th></th>\n",
       "      <th>Survived</th>\n",
       "      <th>Pclass</th>\n",
       "      <th>Sex</th>\n",
       "      <th>Age</th>\n",
       "      <th>SibSp</th>\n",
       "      <th>Parch</th>\n",
       "      <th>Fare</th>\n",
       "      <th>relatives</th>\n",
       "      <th>Predictions</th>\n",
       "    </tr>\n",
       "  </thead>\n",
       "  <tbody>\n",
       "    <tr>\n",
       "      <th>0</th>\n",
       "      <td>0.0</td>\n",
       "      <td>3.0</td>\n",
       "      <td>1.0</td>\n",
       "      <td>22.0</td>\n",
       "      <td>1.0</td>\n",
       "      <td>0.0</td>\n",
       "      <td>7.2500</td>\n",
       "      <td>1.0</td>\n",
       "      <td>0.0</td>\n",
       "    </tr>\n",
       "    <tr>\n",
       "      <th>1</th>\n",
       "      <td>1.0</td>\n",
       "      <td>1.0</td>\n",
       "      <td>2.0</td>\n",
       "      <td>38.0</td>\n",
       "      <td>1.0</td>\n",
       "      <td>0.0</td>\n",
       "      <td>71.2833</td>\n",
       "      <td>1.0</td>\n",
       "      <td>1.0</td>\n",
       "    </tr>\n",
       "    <tr>\n",
       "      <th>2</th>\n",
       "      <td>1.0</td>\n",
       "      <td>3.0</td>\n",
       "      <td>2.0</td>\n",
       "      <td>26.0</td>\n",
       "      <td>0.0</td>\n",
       "      <td>0.0</td>\n",
       "      <td>7.9250</td>\n",
       "      <td>0.0</td>\n",
       "      <td>1.0</td>\n",
       "    </tr>\n",
       "    <tr>\n",
       "      <th>3</th>\n",
       "      <td>1.0</td>\n",
       "      <td>1.0</td>\n",
       "      <td>2.0</td>\n",
       "      <td>35.0</td>\n",
       "      <td>1.0</td>\n",
       "      <td>0.0</td>\n",
       "      <td>53.1000</td>\n",
       "      <td>1.0</td>\n",
       "      <td>1.0</td>\n",
       "    </tr>\n",
       "    <tr>\n",
       "      <th>4</th>\n",
       "      <td>0.0</td>\n",
       "      <td>3.0</td>\n",
       "      <td>1.0</td>\n",
       "      <td>35.0</td>\n",
       "      <td>0.0</td>\n",
       "      <td>0.0</td>\n",
       "      <td>8.0500</td>\n",
       "      <td>0.0</td>\n",
       "      <td>0.0</td>\n",
       "    </tr>\n",
       "  </tbody>\n",
       "</table>\n",
       "</div>"
      ],
      "text/plain": [
       "   Survived  Pclass  Sex   Age  SibSp  Parch     Fare  relatives  Predictions\n",
       "0       0.0     3.0  1.0  22.0    1.0    0.0   7.2500        1.0          0.0\n",
       "1       1.0     1.0  2.0  38.0    1.0    0.0  71.2833        1.0          1.0\n",
       "2       1.0     3.0  2.0  26.0    0.0    0.0   7.9250        0.0          1.0\n",
       "3       1.0     1.0  2.0  35.0    1.0    0.0  53.1000        1.0          1.0\n",
       "4       0.0     3.0  1.0  35.0    0.0    0.0   8.0500        0.0          0.0"
      ]
     },
     "execution_count": 198,
     "metadata": {},
     "output_type": "execute_result"
    }
   ],
   "source": [
    "train_set_with_predictions.head()"
   ]
  },
  {
   "cell_type": "code",
   "execution_count": 199,
   "id": "5a071bb9",
   "metadata": {},
   "outputs": [
    {
     "data": {
      "text/plain": [
       "78.68"
      ]
     },
     "execution_count": 199,
     "metadata": {},
     "output_type": "execute_result"
    }
   ],
   "source": [
    "acc_svm = round(svm_clf.score(X_train, y_train) * 100, 2)\n",
    "acc_svm"
   ]
  },
  {
   "cell_type": "markdown",
   "id": "93f081e7",
   "metadata": {},
   "source": [
    "### Decision Tree"
   ]
  },
  {
   "cell_type": "code",
   "execution_count": 200,
   "id": "1b4702fd",
   "metadata": {},
   "outputs": [
    {
     "data": {
      "text/plain": [
       "DecisionTreeClassifier(criterion='entropy', max_depth=10, min_samples_leaf=15,\n",
       "                       random_state=42)"
      ]
     },
     "execution_count": 200,
     "metadata": {},
     "output_type": "execute_result"
    }
   ],
   "source": [
    "decision_tree = DecisionTreeClassifier(max_depth = 10, random_state=42, criterion=\"entropy\", min_samples_leaf=15)\n",
    "decision_tree.fit(X_train, y_train)"
   ]
  },
  {
   "cell_type": "code",
   "execution_count": 201,
   "id": "04800a14",
   "metadata": {},
   "outputs": [],
   "source": [
    "#change the dataframe to array\n",
    "X = X_train.values\n",
    "y = y_train.values"
   ]
  },
  {
   "cell_type": "code",
   "execution_count": 202,
   "id": "db74fccb",
   "metadata": {},
   "outputs": [
    {
     "data": {
      "text/plain": [
       "array([0., 1., 1., 1., 0., 0., 0., 0., 1., 1., 1., 1., 0., 0., 0., 1., 0.,\n",
       "       1., 0., 1., 0., 1., 1., 1., 0., 1., 0., 0., 1., 0., 0., 1., 1., 0.,\n",
       "       0., 0., 1., 0., 0., 1., 0., 0., 0., 1., 1., 0., 0., 1., 0., 0., 0.,\n",
       "       0., 1., 1., 0., 1., 1., 0., 1., 0., 0., 1., 0., 0., 0., 1., 1., 0.,\n",
       "       1., 0., 0., 0., 0., 0., 1., 0., 0., 0., 1., 1., 0., 1., 1., 0., 1.,\n",
       "       1., 0., 0., 1., 0., 0., 0., 0., 0., 0., 0., 0., 1., 1., 0., 0., 0.,\n",
       "       0., 0., 0., 0., 1., 1., 0., 1., 0., 0., 0., 0., 0., 0., 0., 0., 0.,\n",
       "       0., 0., 0., 0., 1., 0., 1., 0., 1., 1., 0., 0., 0., 0., 1., 0., 0.,\n",
       "       1., 0., 0., 0., 0., 1., 1., 0., 0., 0., 1., 0., 0., 0., 0., 1., 0.,\n",
       "       0., 0., 0., 1., 0., 0., 0., 0., 1., 0., 0., 0., 1., 1., 0., 0., 0.,\n",
       "       0., 0., 1., 0., 0., 0., 0., 0., 0., 0., 0., 0., 0., 1., 1., 0., 1.,\n",
       "       1., 0., 0., 1., 0., 1., 1., 1., 1., 0., 0., 1., 0., 0., 0., 0., 0.,\n",
       "       1., 0., 0., 1., 1., 1., 0., 1., 0., 0., 0., 1., 1., 0., 1., 0., 1.,\n",
       "       0., 0., 0., 1., 0., 1., 0., 0., 0., 1., 0., 0., 1., 0., 0., 0., 1.,\n",
       "       0., 0., 0., 1., 0., 0., 0., 0., 0., 1., 1., 0., 0., 0., 0., 0., 0.,\n",
       "       1., 1., 1., 1., 1., 0., 1., 0., 0., 0., 0., 0., 1., 1., 1., 0., 1.,\n",
       "       1., 0., 1., 1., 0., 0., 0., 1., 0., 0., 0., 1., 0., 0., 1., 0., 1.,\n",
       "       1., 1., 1., 0., 0., 0., 0., 0., 0., 1., 1., 1., 1., 0., 1., 0., 1.,\n",
       "       1., 1., 0., 1., 1., 1., 0., 0., 0., 1., 1., 0., 1., 1., 0., 0., 1.,\n",
       "       1., 0., 1., 0., 1., 1., 1., 1., 0., 0., 0., 1., 0., 0., 1., 1., 0.,\n",
       "       1., 1., 0., 0., 0., 1., 1., 1., 1., 0., 0., 0., 0., 0., 0., 0., 1.,\n",
       "       0., 1., 1., 0., 0., 0., 0., 0., 0., 1., 1., 1., 1., 1., 0., 0., 0.,\n",
       "       0., 1., 1., 0., 0., 0., 1., 1., 0., 1., 0., 0., 0., 1., 0., 1., 1.,\n",
       "       1., 0., 1., 1., 0., 0., 0., 0., 1., 1., 0., 0., 0., 0., 0., 0., 1.,\n",
       "       0., 0., 0., 0., 1., 0., 1., 0., 1., 1., 0., 0., 0., 0., 0., 0., 0.,\n",
       "       0., 1., 1., 0., 1., 1., 1., 1., 0., 0., 1., 0., 1., 0., 0., 1., 0.,\n",
       "       0., 1., 1., 1., 1., 1., 1., 1., 0., 0., 0., 1., 0., 1., 0., 1., 1.,\n",
       "       0., 1., 0., 0., 0., 0., 0., 0., 0., 0., 1., 0., 0., 1., 1., 0., 0.,\n",
       "       0., 0., 0., 1., 0., 0., 0., 1., 1., 0., 1., 0., 0., 1., 0., 0., 0.,\n",
       "       0., 0., 0., 1., 0., 0., 0., 0., 0., 0., 0., 1., 0., 1., 1., 0., 1.,\n",
       "       1., 0., 1., 1., 0., 0., 1., 0., 1., 0., 1., 0., 0., 1., 0., 0., 1.,\n",
       "       0., 0., 0., 1., 0., 0., 1., 0., 1., 0., 1., 0., 1., 1., 0., 0., 1.,\n",
       "       0., 0., 1., 1., 0., 1., 1., 0., 0., 1., 1., 0., 1., 0., 1., 1., 0.,\n",
       "       0., 0., 0., 0., 0., 0., 0., 0., 1., 1., 1., 1., 1., 0., 0., 1., 1.,\n",
       "       0., 1., 1., 1., 0., 0., 0., 1., 0., 1., 0., 0., 0., 1., 0., 0., 0.,\n",
       "       0., 1., 0., 0., 1., 1., 0., 0., 0., 1., 0., 0., 1., 1., 1., 0., 0.,\n",
       "       1., 0., 0., 1., 0., 0., 1., 0., 0., 1., 1., 0., 0., 0., 0., 1., 0.,\n",
       "       0., 1., 0., 1., 0., 0., 1., 0., 0., 0., 0., 0., 1., 0., 1., 1., 1.,\n",
       "       0., 1., 0., 1., 0., 1., 0., 1., 0., 0., 0., 0., 0., 0., 1., 0., 0.,\n",
       "       0., 1., 0., 0., 0., 0., 1., 1., 0., 0., 1., 0., 0., 0., 1., 0., 1.,\n",
       "       0., 1., 0., 0., 0., 0., 0., 0., 0., 1., 1., 1., 1., 0., 0., 0., 0.,\n",
       "       1., 0., 0., 1., 1., 0., 0., 0., 0., 1., 1., 1., 1., 1., 0., 1., 0.,\n",
       "       0., 0., 1., 1., 0., 0., 1., 0., 0., 0., 1., 0., 1., 1., 0., 0., 1.,\n",
       "       0., 0., 0., 0., 0., 0., 1., 0., 0., 1., 0., 1., 0., 1., 0., 0., 1.,\n",
       "       0., 0., 1., 1., 0., 0., 1., 1., 0., 0., 0., 1., 0., 0., 1., 1., 0.,\n",
       "       1., 0., 0., 0., 0., 0., 0., 0., 0., 1., 0., 0., 1., 0., 1., 1., 1.,\n",
       "       0., 0., 0., 0., 1., 0., 1., 0., 0., 0., 0., 0., 0., 0., 1., 1., 0.,\n",
       "       0., 0., 1., 1., 1., 1., 0., 0., 0., 0., 1., 0., 0., 0., 0., 0., 0.,\n",
       "       0., 0., 0., 0., 1., 1., 0., 1., 0., 0., 0., 1., 1., 1., 1., 1., 0.,\n",
       "       0., 0., 1., 0., 0., 1., 1., 0., 0., 1., 0., 0., 0., 0., 0., 0., 1.,\n",
       "       0., 0., 0., 1., 0., 1., 1., 1., 1., 0., 0., 0., 1., 0., 0., 1., 1.,\n",
       "       0., 0., 1., 0., 1., 0., 0., 1., 1., 0., 0., 0., 1., 1., 0., 0., 0.,\n",
       "       0., 0., 0., 1., 0., 1., 0.])"
      ]
     },
     "execution_count": 202,
     "metadata": {},
     "output_type": "execute_result"
    }
   ],
   "source": [
    "y"
   ]
  },
  {
   "cell_type": "code",
   "execution_count": 203,
   "id": "bd139a66",
   "metadata": {},
   "outputs": [
    {
     "data": {
      "image/svg+xml": [
       "<?xml version=\"1.0\" encoding=\"UTF-8\" standalone=\"no\"?>\r\n",
       "<!DOCTYPE svg PUBLIC \"-//W3C//DTD SVG 1.1//EN\"\r\n",
       " \"http://www.w3.org/Graphics/SVG/1.1/DTD/svg11.dtd\">\r\n",
       "<!-- Generated by graphviz version 2.38.0 (20140413.2041)\r\n",
       " -->\r\n",
       "<!-- Title: Tree Pages: 1 -->\r\n",
       "<svg width=\"2304pt\" height=\"1266pt\"\r\n",
       " viewBox=\"0.00 0.00 2304.00 1266.00\" xmlns=\"http://www.w3.org/2000/svg\" xmlns:xlink=\"http://www.w3.org/1999/xlink\">\r\n",
       "<g id=\"graph0\" class=\"graph\" transform=\"scale(1 1) rotate(0) translate(4 1262)\">\r\n",
       "<title>Tree</title>\r\n",
       "<polygon fill=\"white\" stroke=\"none\" points=\"-4,4 -4,-1262 2300,-1262 2300,4 -4,4\"/>\r\n",
       "<!-- 0 -->\r\n",
       "<g id=\"node1\" class=\"node\"><title>0</title>\r\n",
       "<path fill=\"#f5cfb4\" stroke=\"black\" d=\"M1537,-1258C1537,-1258 1431,-1258 1431,-1258 1425,-1258 1419,-1252 1419,-1246 1419,-1246 1419,-1187 1419,-1187 1419,-1181 1425,-1175 1431,-1175 1431,-1175 1537,-1175 1537,-1175 1543,-1175 1549,-1181 1549,-1187 1549,-1187 1549,-1246 1549,-1246 1549,-1252 1543,-1258 1537,-1258\"/>\r\n",
       "<text text-anchor=\"middle\" x=\"1484\" y=\"-1242.8\" font-family=\"Helvetica,sans-Serif\" font-size=\"14.00\">Sex &lt;= 1.5</text>\r\n",
       "<text text-anchor=\"middle\" x=\"1484\" y=\"-1227.8\" font-family=\"Helvetica,sans-Serif\" font-size=\"14.00\">entropy = 0.961</text>\r\n",
       "<text text-anchor=\"middle\" x=\"1484\" y=\"-1212.8\" font-family=\"Helvetica,sans-Serif\" font-size=\"14.00\">samples = 891</text>\r\n",
       "<text text-anchor=\"middle\" x=\"1484\" y=\"-1197.8\" font-family=\"Helvetica,sans-Serif\" font-size=\"14.00\">value = [549, 342]</text>\r\n",
       "<text text-anchor=\"middle\" x=\"1484\" y=\"-1182.8\" font-family=\"Helvetica,sans-Serif\" font-size=\"14.00\">class = y[0]</text>\r\n",
       "</g>\r\n",
       "<!-- 1 -->\r\n",
       "<g id=\"node2\" class=\"node\"><title>1</title>\r\n",
       "<path fill=\"#eb9e67\" stroke=\"black\" d=\"M1371,-1139C1371,-1139 1265,-1139 1265,-1139 1259,-1139 1253,-1133 1253,-1127 1253,-1127 1253,-1068 1253,-1068 1253,-1062 1259,-1056 1265,-1056 1265,-1056 1371,-1056 1371,-1056 1377,-1056 1383,-1062 1383,-1068 1383,-1068 1383,-1127 1383,-1127 1383,-1133 1377,-1139 1371,-1139\"/>\r\n",
       "<text text-anchor=\"middle\" x=\"1318\" y=\"-1123.8\" font-family=\"Helvetica,sans-Serif\" font-size=\"14.00\">Fare &lt;= 26.269</text>\r\n",
       "<text text-anchor=\"middle\" x=\"1318\" y=\"-1108.8\" font-family=\"Helvetica,sans-Serif\" font-size=\"14.00\">entropy = 0.699</text>\r\n",
       "<text text-anchor=\"middle\" x=\"1318\" y=\"-1093.8\" font-family=\"Helvetica,sans-Serif\" font-size=\"14.00\">samples = 577</text>\r\n",
       "<text text-anchor=\"middle\" x=\"1318\" y=\"-1078.8\" font-family=\"Helvetica,sans-Serif\" font-size=\"14.00\">value = [468, 109]</text>\r\n",
       "<text text-anchor=\"middle\" x=\"1318\" y=\"-1063.8\" font-family=\"Helvetica,sans-Serif\" font-size=\"14.00\">class = y[0]</text>\r\n",
       "</g>\r\n",
       "<!-- 0&#45;&gt;1 -->\r\n",
       "<g id=\"edge1\" class=\"edge\"><title>0&#45;&gt;1</title>\r\n",
       "<path fill=\"none\" stroke=\"black\" d=\"M1426.41,-1174.91C1412.63,-1165.2 1397.82,-1154.76 1383.71,-1144.81\"/>\r\n",
       "<polygon fill=\"black\" stroke=\"black\" points=\"1385.68,-1141.92 1375.49,-1139.02 1381.65,-1147.64 1385.68,-1141.92\"/>\r\n",
       "<text text-anchor=\"middle\" x=\"1379.76\" y=\"-1159.95\" font-family=\"Helvetica,sans-Serif\" font-size=\"14.00\">True</text>\r\n",
       "</g>\r\n",
       "<!-- 44 -->\r\n",
       "<g id=\"node45\" class=\"node\"><title>44</title>\r\n",
       "<path fill=\"#7ebfee\" stroke=\"black\" d=\"M1692,-1139C1692,-1139 1594,-1139 1594,-1139 1588,-1139 1582,-1133 1582,-1127 1582,-1127 1582,-1068 1582,-1068 1582,-1062 1588,-1056 1594,-1056 1594,-1056 1692,-1056 1692,-1056 1698,-1056 1704,-1062 1704,-1068 1704,-1068 1704,-1127 1704,-1127 1704,-1133 1698,-1139 1692,-1139\"/>\r\n",
       "<text text-anchor=\"middle\" x=\"1643\" y=\"-1123.8\" font-family=\"Helvetica,sans-Serif\" font-size=\"14.00\">Pclass &lt;= 2.5</text>\r\n",
       "<text text-anchor=\"middle\" x=\"1643\" y=\"-1108.8\" font-family=\"Helvetica,sans-Serif\" font-size=\"14.00\">entropy = 0.824</text>\r\n",
       "<text text-anchor=\"middle\" x=\"1643\" y=\"-1093.8\" font-family=\"Helvetica,sans-Serif\" font-size=\"14.00\">samples = 314</text>\r\n",
       "<text text-anchor=\"middle\" x=\"1643\" y=\"-1078.8\" font-family=\"Helvetica,sans-Serif\" font-size=\"14.00\">value = [81, 233]</text>\r\n",
       "<text text-anchor=\"middle\" x=\"1643\" y=\"-1063.8\" font-family=\"Helvetica,sans-Serif\" font-size=\"14.00\">class = y[1]</text>\r\n",
       "</g>\r\n",
       "<!-- 0&#45;&gt;44 -->\r\n",
       "<g id=\"edge44\" class=\"edge\"><title>0&#45;&gt;44</title>\r\n",
       "<path fill=\"none\" stroke=\"black\" d=\"M1539.16,-1174.91C1552.24,-1165.29 1566.28,-1154.95 1579.68,-1145.09\"/>\r\n",
       "<polygon fill=\"black\" stroke=\"black\" points=\"1581.95,-1147.77 1587.93,-1139.02 1577.8,-1142.13 1581.95,-1147.77\"/>\r\n",
       "<text text-anchor=\"middle\" x=\"1584.17\" y=\"-1160.04\" font-family=\"Helvetica,sans-Serif\" font-size=\"14.00\">False</text>\r\n",
       "</g>\r\n",
       "<!-- 2 -->\r\n",
       "<g id=\"node3\" class=\"node\"><title>2</title>\r\n",
       "<path fill=\"#e99457\" stroke=\"black\" d=\"M902,-1020C902,-1020 804,-1020 804,-1020 798,-1020 792,-1014 792,-1008 792,-1008 792,-949 792,-949 792,-943 798,-937 804,-937 804,-937 902,-937 902,-937 908,-937 914,-943 914,-949 914,-949 914,-1008 914,-1008 914,-1014 908,-1020 902,-1020\"/>\r\n",
       "<text text-anchor=\"middle\" x=\"853\" y=\"-1004.8\" font-family=\"Helvetica,sans-Serif\" font-size=\"14.00\">Age &lt;= 13.5</text>\r\n",
       "<text text-anchor=\"middle\" x=\"853\" y=\"-989.8\" font-family=\"Helvetica,sans-Serif\" font-size=\"14.00\">entropy = 0.558</text>\r\n",
       "<text text-anchor=\"middle\" x=\"853\" y=\"-974.8\" font-family=\"Helvetica,sans-Serif\" font-size=\"14.00\">samples = 415</text>\r\n",
       "<text text-anchor=\"middle\" x=\"853\" y=\"-959.8\" font-family=\"Helvetica,sans-Serif\" font-size=\"14.00\">value = [361, 54]</text>\r\n",
       "<text text-anchor=\"middle\" x=\"853\" y=\"-944.8\" font-family=\"Helvetica,sans-Serif\" font-size=\"14.00\">class = y[0]</text>\r\n",
       "</g>\r\n",
       "<!-- 1&#45;&gt;2 -->\r\n",
       "<g id=\"edge2\" class=\"edge\"><title>1&#45;&gt;2</title>\r\n",
       "<path fill=\"none\" stroke=\"black\" d=\"M1252.85,-1080.11C1166.12,-1058.29 1013.3,-1019.83 923.798,-997.314\"/>\r\n",
       "<polygon fill=\"black\" stroke=\"black\" points=\"924.559,-993.896 914.007,-994.85 922.851,-1000.68 924.559,-993.896\"/>\r\n",
       "</g>\r\n",
       "<!-- 29 -->\r\n",
       "<g id=\"node30\" class=\"node\"><title>29</title>\r\n",
       "<path fill=\"#f2c29f\" stroke=\"black\" d=\"M1367,-1020C1367,-1020 1269,-1020 1269,-1020 1263,-1020 1257,-1014 1257,-1008 1257,-1008 1257,-949 1257,-949 1257,-943 1263,-937 1269,-937 1269,-937 1367,-937 1367,-937 1373,-937 1379,-943 1379,-949 1379,-949 1379,-1008 1379,-1008 1379,-1014 1373,-1020 1367,-1020\"/>\r\n",
       "<text text-anchor=\"middle\" x=\"1318\" y=\"-1004.8\" font-family=\"Helvetica,sans-Serif\" font-size=\"14.00\">relatives &lt;= 3.5</text>\r\n",
       "<text text-anchor=\"middle\" x=\"1318\" y=\"-989.8\" font-family=\"Helvetica,sans-Serif\" font-size=\"14.00\">entropy = 0.924</text>\r\n",
       "<text text-anchor=\"middle\" x=\"1318\" y=\"-974.8\" font-family=\"Helvetica,sans-Serif\" font-size=\"14.00\">samples = 162</text>\r\n",
       "<text text-anchor=\"middle\" x=\"1318\" y=\"-959.8\" font-family=\"Helvetica,sans-Serif\" font-size=\"14.00\">value = [107, 55]</text>\r\n",
       "<text text-anchor=\"middle\" x=\"1318\" y=\"-944.8\" font-family=\"Helvetica,sans-Serif\" font-size=\"14.00\">class = y[0]</text>\r\n",
       "</g>\r\n",
       "<!-- 1&#45;&gt;29 -->\r\n",
       "<g id=\"edge29\" class=\"edge\"><title>1&#45;&gt;29</title>\r\n",
       "<path fill=\"none\" stroke=\"black\" d=\"M1318,-1055.91C1318,-1047.65 1318,-1038.86 1318,-1030.3\"/>\r\n",
       "<polygon fill=\"black\" stroke=\"black\" points=\"1321.5,-1030.02 1318,-1020.02 1314.5,-1030.02 1321.5,-1030.02\"/>\r\n",
       "</g>\r\n",
       "<!-- 3 -->\r\n",
       "<g id=\"node4\" class=\"node\"><title>3</title>\r\n",
       "<path fill=\"#57ace9\" stroke=\"black\" d=\"M762,-893.5C762,-893.5 670,-893.5 670,-893.5 664,-893.5 658,-887.5 658,-881.5 658,-881.5 658,-837.5 658,-837.5 658,-831.5 664,-825.5 670,-825.5 670,-825.5 762,-825.5 762,-825.5 768,-825.5 774,-831.5 774,-837.5 774,-837.5 774,-881.5 774,-881.5 774,-887.5 768,-893.5 762,-893.5\"/>\r\n",
       "<text text-anchor=\"middle\" x=\"716\" y=\"-878.3\" font-family=\"Helvetica,sans-Serif\" font-size=\"14.00\">entropy = 0.567</text>\r\n",
       "<text text-anchor=\"middle\" x=\"716\" y=\"-863.3\" font-family=\"Helvetica,sans-Serif\" font-size=\"14.00\">samples = 15</text>\r\n",
       "<text text-anchor=\"middle\" x=\"716\" y=\"-848.3\" font-family=\"Helvetica,sans-Serif\" font-size=\"14.00\">value = [2, 13]</text>\r\n",
       "<text text-anchor=\"middle\" x=\"716\" y=\"-833.3\" font-family=\"Helvetica,sans-Serif\" font-size=\"14.00\">class = y[1]</text>\r\n",
       "</g>\r\n",
       "<!-- 2&#45;&gt;3 -->\r\n",
       "<g id=\"edge3\" class=\"edge\"><title>2&#45;&gt;3</title>\r\n",
       "<path fill=\"none\" stroke=\"black\" d=\"M805.469,-936.907C791.643,-925.101 776.557,-912.217 762.779,-900.45\"/>\r\n",
       "<polygon fill=\"black\" stroke=\"black\" points=\"764.714,-897.5 754.836,-893.667 760.168,-902.823 764.714,-897.5\"/>\r\n",
       "</g>\r\n",
       "<!-- 4 -->\r\n",
       "<g id=\"node5\" class=\"node\"><title>4</title>\r\n",
       "<path fill=\"#e88f50\" stroke=\"black\" d=\"M902,-901C902,-901 804,-901 804,-901 798,-901 792,-895 792,-889 792,-889 792,-830 792,-830 792,-824 798,-818 804,-818 804,-818 902,-818 902,-818 908,-818 914,-824 914,-830 914,-830 914,-889 914,-889 914,-895 908,-901 902,-901\"/>\r\n",
       "<text text-anchor=\"middle\" x=\"853\" y=\"-885.8\" font-family=\"Helvetica,sans-Serif\" font-size=\"14.00\">Age &lt;= 32.5</text>\r\n",
       "<text text-anchor=\"middle\" x=\"853\" y=\"-870.8\" font-family=\"Helvetica,sans-Serif\" font-size=\"14.00\">entropy = 0.477</text>\r\n",
       "<text text-anchor=\"middle\" x=\"853\" y=\"-855.8\" font-family=\"Helvetica,sans-Serif\" font-size=\"14.00\">samples = 400</text>\r\n",
       "<text text-anchor=\"middle\" x=\"853\" y=\"-840.8\" font-family=\"Helvetica,sans-Serif\" font-size=\"14.00\">value = [359, 41]</text>\r\n",
       "<text text-anchor=\"middle\" x=\"853\" y=\"-825.8\" font-family=\"Helvetica,sans-Serif\" font-size=\"14.00\">class = y[0]</text>\r\n",
       "</g>\r\n",
       "<!-- 2&#45;&gt;4 -->\r\n",
       "<g id=\"edge4\" class=\"edge\"><title>2&#45;&gt;4</title>\r\n",
       "<path fill=\"none\" stroke=\"black\" d=\"M853,-936.907C853,-928.649 853,-919.864 853,-911.302\"/>\r\n",
       "<polygon fill=\"black\" stroke=\"black\" points=\"856.5,-911.021 853,-901.021 849.5,-911.021 856.5,-911.021\"/>\r\n",
       "</g>\r\n",
       "<!-- 5 -->\r\n",
       "<g id=\"node6\" class=\"node\"><title>5</title>\r\n",
       "<path fill=\"#e89254\" stroke=\"black\" d=\"M704,-782C704,-782 606,-782 606,-782 600,-782 594,-776 594,-770 594,-770 594,-711 594,-711 594,-705 600,-699 606,-699 606,-699 704,-699 704,-699 710,-699 716,-705 716,-711 716,-711 716,-770 716,-770 716,-776 710,-782 704,-782\"/>\r\n",
       "<text text-anchor=\"middle\" x=\"655\" y=\"-766.8\" font-family=\"Helvetica,sans-Serif\" font-size=\"14.00\">Age &lt;= 30.75</text>\r\n",
       "<text text-anchor=\"middle\" x=\"655\" y=\"-751.8\" font-family=\"Helvetica,sans-Serif\" font-size=\"14.00\">entropy = 0.525</text>\r\n",
       "<text text-anchor=\"middle\" x=\"655\" y=\"-736.8\" font-family=\"Helvetica,sans-Serif\" font-size=\"14.00\">samples = 295</text>\r\n",
       "<text text-anchor=\"middle\" x=\"655\" y=\"-721.8\" font-family=\"Helvetica,sans-Serif\" font-size=\"14.00\">value = [260, 35]</text>\r\n",
       "<text text-anchor=\"middle\" x=\"655\" y=\"-706.8\" font-family=\"Helvetica,sans-Serif\" font-size=\"14.00\">class = y[0]</text>\r\n",
       "</g>\r\n",
       "<!-- 4&#45;&gt;5 -->\r\n",
       "<g id=\"edge5\" class=\"edge\"><title>4&#45;&gt;5</title>\r\n",
       "<path fill=\"none\" stroke=\"black\" d=\"M791.978,-822.441C770.806,-809.931 746.903,-795.806 725.06,-782.899\"/>\r\n",
       "<polygon fill=\"black\" stroke=\"black\" points=\"726.551,-779.715 716.161,-777.641 722.99,-785.741 726.551,-779.715\"/>\r\n",
       "</g>\r\n",
       "<!-- 22 -->\r\n",
       "<g id=\"node23\" class=\"node\"><title>22</title>\r\n",
       "<path fill=\"#e78945\" stroke=\"black\" d=\"M899,-782C899,-782 807,-782 807,-782 801,-782 795,-776 795,-770 795,-770 795,-711 795,-711 795,-705 801,-699 807,-699 807,-699 899,-699 899,-699 905,-699 911,-705 911,-711 911,-711 911,-770 911,-770 911,-776 905,-782 899,-782\"/>\r\n",
       "<text text-anchor=\"middle\" x=\"853\" y=\"-766.8\" font-family=\"Helvetica,sans-Serif\" font-size=\"14.00\">Fare &lt;= 7.91</text>\r\n",
       "<text text-anchor=\"middle\" x=\"853\" y=\"-751.8\" font-family=\"Helvetica,sans-Serif\" font-size=\"14.00\">entropy = 0.316</text>\r\n",
       "<text text-anchor=\"middle\" x=\"853\" y=\"-736.8\" font-family=\"Helvetica,sans-Serif\" font-size=\"14.00\">samples = 105</text>\r\n",
       "<text text-anchor=\"middle\" x=\"853\" y=\"-721.8\" font-family=\"Helvetica,sans-Serif\" font-size=\"14.00\">value = [99, 6]</text>\r\n",
       "<text text-anchor=\"middle\" x=\"853\" y=\"-706.8\" font-family=\"Helvetica,sans-Serif\" font-size=\"14.00\">class = y[0]</text>\r\n",
       "</g>\r\n",
       "<!-- 4&#45;&gt;22 -->\r\n",
       "<g id=\"edge22\" class=\"edge\"><title>4&#45;&gt;22</title>\r\n",
       "<path fill=\"none\" stroke=\"black\" d=\"M853,-817.907C853,-809.649 853,-800.864 853,-792.302\"/>\r\n",
       "<polygon fill=\"black\" stroke=\"black\" points=\"856.5,-792.021 853,-782.021 849.5,-792.021 856.5,-792.021\"/>\r\n",
       "</g>\r\n",
       "<!-- 6 -->\r\n",
       "<g id=\"node7\" class=\"node\"><title>6</title>\r\n",
       "<path fill=\"#e89050\" stroke=\"black\" d=\"M567,-663C567,-663 469,-663 469,-663 463,-663 457,-657 457,-651 457,-651 457,-592 457,-592 457,-586 463,-580 469,-580 469,-580 567,-580 567,-580 573,-580 579,-586 579,-592 579,-592 579,-651 579,-651 579,-657 573,-663 567,-663\"/>\r\n",
       "<text text-anchor=\"middle\" x=\"518\" y=\"-647.8\" font-family=\"Helvetica,sans-Serif\" font-size=\"14.00\">relatives &lt;= 1.5</text>\r\n",
       "<text text-anchor=\"middle\" x=\"518\" y=\"-632.8\" font-family=\"Helvetica,sans-Serif\" font-size=\"14.00\">entropy = 0.483</text>\r\n",
       "<text text-anchor=\"middle\" x=\"518\" y=\"-617.8\" font-family=\"Helvetica,sans-Serif\" font-size=\"14.00\">samples = 278</text>\r\n",
       "<text text-anchor=\"middle\" x=\"518\" y=\"-602.8\" font-family=\"Helvetica,sans-Serif\" font-size=\"14.00\">value = [249, 29]</text>\r\n",
       "<text text-anchor=\"middle\" x=\"518\" y=\"-587.8\" font-family=\"Helvetica,sans-Serif\" font-size=\"14.00\">class = y[0]</text>\r\n",
       "</g>\r\n",
       "<!-- 5&#45;&gt;6 -->\r\n",
       "<g id=\"edge6\" class=\"edge\"><title>5&#45;&gt;6</title>\r\n",
       "<path fill=\"none\" stroke=\"black\" d=\"M607.469,-698.907C596.417,-689.469 584.56,-679.343 573.209,-669.649\"/>\r\n",
       "<polygon fill=\"black\" stroke=\"black\" points=\"575.325,-666.854 565.447,-663.021 570.779,-672.177 575.325,-666.854\"/>\r\n",
       "</g>\r\n",
       "<!-- 21 -->\r\n",
       "<g id=\"node22\" class=\"node\"><title>21</title>\r\n",
       "<path fill=\"#f3c6a5\" stroke=\"black\" d=\"M701,-655.5C701,-655.5 609,-655.5 609,-655.5 603,-655.5 597,-649.5 597,-643.5 597,-643.5 597,-599.5 597,-599.5 597,-593.5 603,-587.5 609,-587.5 609,-587.5 701,-587.5 701,-587.5 707,-587.5 713,-593.5 713,-599.5 713,-599.5 713,-643.5 713,-643.5 713,-649.5 707,-655.5 701,-655.5\"/>\r\n",
       "<text text-anchor=\"middle\" x=\"655\" y=\"-640.3\" font-family=\"Helvetica,sans-Serif\" font-size=\"14.00\">entropy = 0.937</text>\r\n",
       "<text text-anchor=\"middle\" x=\"655\" y=\"-625.3\" font-family=\"Helvetica,sans-Serif\" font-size=\"14.00\">samples = 17</text>\r\n",
       "<text text-anchor=\"middle\" x=\"655\" y=\"-610.3\" font-family=\"Helvetica,sans-Serif\" font-size=\"14.00\">value = [11, 6]</text>\r\n",
       "<text text-anchor=\"middle\" x=\"655\" y=\"-595.3\" font-family=\"Helvetica,sans-Serif\" font-size=\"14.00\">class = y[0]</text>\r\n",
       "</g>\r\n",
       "<!-- 5&#45;&gt;21 -->\r\n",
       "<g id=\"edge21\" class=\"edge\"><title>5&#45;&gt;21</title>\r\n",
       "<path fill=\"none\" stroke=\"black\" d=\"M655,-698.907C655,-688.204 655,-676.615 655,-665.776\"/>\r\n",
       "<polygon fill=\"black\" stroke=\"black\" points=\"658.5,-665.667 655,-655.667 651.5,-665.667 658.5,-665.667\"/>\r\n",
       "</g>\r\n",
       "<!-- 7 -->\r\n",
       "<g id=\"node8\" class=\"node\"><title>7</title>\r\n",
       "<path fill=\"#e88e4e\" stroke=\"black\" d=\"M528,-544C528,-544 430,-544 430,-544 424,-544 418,-538 418,-532 418,-532 418,-473 418,-473 418,-467 424,-461 430,-461 430,-461 528,-461 528,-461 534,-461 540,-467 540,-473 540,-473 540,-532 540,-532 540,-538 534,-544 528,-544\"/>\r\n",
       "<text text-anchor=\"middle\" x=\"479\" y=\"-528.8\" font-family=\"Helvetica,sans-Serif\" font-size=\"14.00\">Fare &lt;= 14.158</text>\r\n",
       "<text text-anchor=\"middle\" x=\"479\" y=\"-513.8\" font-family=\"Helvetica,sans-Serif\" font-size=\"14.00\">entropy = 0.457</text>\r\n",
       "<text text-anchor=\"middle\" x=\"479\" y=\"-498.8\" font-family=\"Helvetica,sans-Serif\" font-size=\"14.00\">samples = 260</text>\r\n",
       "<text text-anchor=\"middle\" x=\"479\" y=\"-483.8\" font-family=\"Helvetica,sans-Serif\" font-size=\"14.00\">value = [235, 25]</text>\r\n",
       "<text text-anchor=\"middle\" x=\"479\" y=\"-468.8\" font-family=\"Helvetica,sans-Serif\" font-size=\"14.00\">class = y[0]</text>\r\n",
       "</g>\r\n",
       "<!-- 6&#45;&gt;7 -->\r\n",
       "<g id=\"edge7\" class=\"edge\"><title>6&#45;&gt;7</title>\r\n",
       "<path fill=\"none\" stroke=\"black\" d=\"M504.469,-579.907C501.656,-571.468 498.659,-562.477 495.746,-553.738\"/>\r\n",
       "<polygon fill=\"black\" stroke=\"black\" points=\"498.99,-552.401 492.507,-544.021 492.349,-554.614 498.99,-552.401\"/>\r\n",
       "</g>\r\n",
       "<!-- 20 -->\r\n",
       "<g id=\"node21\" class=\"node\"><title>20</title>\r\n",
       "<path fill=\"#eca572\" stroke=\"black\" d=\"M662,-536.5C662,-536.5 570,-536.5 570,-536.5 564,-536.5 558,-530.5 558,-524.5 558,-524.5 558,-480.5 558,-480.5 558,-474.5 564,-468.5 570,-468.5 570,-468.5 662,-468.5 662,-468.5 668,-468.5 674,-474.5 674,-480.5 674,-480.5 674,-524.5 674,-524.5 674,-530.5 668,-536.5 662,-536.5\"/>\r\n",
       "<text text-anchor=\"middle\" x=\"616\" y=\"-521.3\" font-family=\"Helvetica,sans-Serif\" font-size=\"14.00\">entropy = 0.764</text>\r\n",
       "<text text-anchor=\"middle\" x=\"616\" y=\"-506.3\" font-family=\"Helvetica,sans-Serif\" font-size=\"14.00\">samples = 18</text>\r\n",
       "<text text-anchor=\"middle\" x=\"616\" y=\"-491.3\" font-family=\"Helvetica,sans-Serif\" font-size=\"14.00\">value = [14, 4]</text>\r\n",
       "<text text-anchor=\"middle\" x=\"616\" y=\"-476.3\" font-family=\"Helvetica,sans-Serif\" font-size=\"14.00\">class = y[0]</text>\r\n",
       "</g>\r\n",
       "<!-- 6&#45;&gt;20 -->\r\n",
       "<g id=\"edge20\" class=\"edge\"><title>6&#45;&gt;20</title>\r\n",
       "<path fill=\"none\" stroke=\"black\" d=\"M552.001,-579.907C561.613,-568.432 572.077,-555.938 581.707,-544.442\"/>\r\n",
       "<polygon fill=\"black\" stroke=\"black\" points=\"584.481,-546.58 588.219,-536.667 579.115,-542.086 584.481,-546.58\"/>\r\n",
       "</g>\r\n",
       "<!-- 8 -->\r\n",
       "<g id=\"node9\" class=\"node\"><title>8</title>\r\n",
       "<path fill=\"#e89050\" stroke=\"black\" d=\"M443,-425C443,-425 345,-425 345,-425 339,-425 333,-419 333,-413 333,-413 333,-354 333,-354 333,-348 339,-342 345,-342 345,-342 443,-342 443,-342 449,-342 455,-348 455,-354 455,-354 455,-413 455,-413 455,-419 449,-425 443,-425\"/>\r\n",
       "<text text-anchor=\"middle\" x=\"394\" y=\"-409.8\" font-family=\"Helvetica,sans-Serif\" font-size=\"14.00\">Age &lt;= 28.75</text>\r\n",
       "<text text-anchor=\"middle\" x=\"394\" y=\"-394.8\" font-family=\"Helvetica,sans-Serif\" font-size=\"14.00\">entropy = 0.485</text>\r\n",
       "<text text-anchor=\"middle\" x=\"394\" y=\"-379.8\" font-family=\"Helvetica,sans-Serif\" font-size=\"14.00\">samples = 228</text>\r\n",
       "<text text-anchor=\"middle\" x=\"394\" y=\"-364.8\" font-family=\"Helvetica,sans-Serif\" font-size=\"14.00\">value = [204, 24]</text>\r\n",
       "<text text-anchor=\"middle\" x=\"394\" y=\"-349.8\" font-family=\"Helvetica,sans-Serif\" font-size=\"14.00\">class = y[0]</text>\r\n",
       "</g>\r\n",
       "<!-- 7&#45;&gt;8 -->\r\n",
       "<g id=\"edge8\" class=\"edge\"><title>7&#45;&gt;8</title>\r\n",
       "<path fill=\"none\" stroke=\"black\" d=\"M449.51,-460.907C443.049,-452.014 436.143,-442.509 429.476,-433.331\"/>\r\n",
       "<polygon fill=\"black\" stroke=\"black\" points=\"432.147,-431.054 423.438,-425.021 426.484,-435.168 432.147,-431.054\"/>\r\n",
       "</g>\r\n",
       "<!-- 17 -->\r\n",
       "<g id=\"node18\" class=\"node\"><title>17</title>\r\n",
       "<path fill=\"#e6853f\" stroke=\"black\" d=\"M577,-425C577,-425 485,-425 485,-425 479,-425 473,-419 473,-413 473,-413 473,-354 473,-354 473,-348 479,-342 485,-342 485,-342 577,-342 577,-342 583,-342 589,-348 589,-354 589,-354 589,-413 589,-413 589,-419 583,-425 577,-425\"/>\r\n",
       "<text text-anchor=\"middle\" x=\"531\" y=\"-409.8\" font-family=\"Helvetica,sans-Serif\" font-size=\"14.00\">relatives &lt;= 0.5</text>\r\n",
       "<text text-anchor=\"middle\" x=\"531\" y=\"-394.8\" font-family=\"Helvetica,sans-Serif\" font-size=\"14.00\">entropy = 0.201</text>\r\n",
       "<text text-anchor=\"middle\" x=\"531\" y=\"-379.8\" font-family=\"Helvetica,sans-Serif\" font-size=\"14.00\">samples = 32</text>\r\n",
       "<text text-anchor=\"middle\" x=\"531\" y=\"-364.8\" font-family=\"Helvetica,sans-Serif\" font-size=\"14.00\">value = [31, 1]</text>\r\n",
       "<text text-anchor=\"middle\" x=\"531\" y=\"-349.8\" font-family=\"Helvetica,sans-Serif\" font-size=\"14.00\">class = y[0]</text>\r\n",
       "</g>\r\n",
       "<!-- 7&#45;&gt;17 -->\r\n",
       "<g id=\"edge17\" class=\"edge\"><title>7&#45;&gt;17</title>\r\n",
       "<path fill=\"none\" stroke=\"black\" d=\"M497.041,-460.907C500.873,-452.286 504.96,-443.09 508.922,-434.175\"/>\r\n",
       "<polygon fill=\"black\" stroke=\"black\" points=\"512.128,-435.58 512.991,-425.021 505.731,-432.737 512.128,-435.58\"/>\r\n",
       "</g>\r\n",
       "<!-- 9 -->\r\n",
       "<g id=\"node10\" class=\"node\"><title>9</title>\r\n",
       "<path fill=\"#e88e4e\" stroke=\"black\" d=\"M307,-306C307,-306 209,-306 209,-306 203,-306 197,-300 197,-294 197,-294 197,-235 197,-235 197,-229 203,-223 209,-223 209,-223 307,-223 307,-223 313,-223 319,-229 319,-235 319,-235 319,-294 319,-294 319,-300 313,-306 307,-306\"/>\r\n",
       "<text text-anchor=\"middle\" x=\"258\" y=\"-290.8\" font-family=\"Helvetica,sans-Serif\" font-size=\"14.00\">Age &lt;= 27.5</text>\r\n",
       "<text text-anchor=\"middle\" x=\"258\" y=\"-275.8\" font-family=\"Helvetica,sans-Serif\" font-size=\"14.00\">entropy = 0.458</text>\r\n",
       "<text text-anchor=\"middle\" x=\"258\" y=\"-260.8\" font-family=\"Helvetica,sans-Serif\" font-size=\"14.00\">samples = 207</text>\r\n",
       "<text text-anchor=\"middle\" x=\"258\" y=\"-245.8\" font-family=\"Helvetica,sans-Serif\" font-size=\"14.00\">value = [187, 20]</text>\r\n",
       "<text text-anchor=\"middle\" x=\"258\" y=\"-230.8\" font-family=\"Helvetica,sans-Serif\" font-size=\"14.00\">class = y[0]</text>\r\n",
       "</g>\r\n",
       "<!-- 8&#45;&gt;9 -->\r\n",
       "<g id=\"edge9\" class=\"edge\"><title>8&#45;&gt;9</title>\r\n",
       "<path fill=\"none\" stroke=\"black\" d=\"M346.815,-341.907C335.845,-332.469 324.074,-322.343 312.806,-312.649\"/>\r\n",
       "<polygon fill=\"black\" stroke=\"black\" points=\"314.964,-309.889 305.101,-306.021 310.399,-315.196 314.964,-309.889\"/>\r\n",
       "</g>\r\n",
       "<!-- 16 -->\r\n",
       "<g id=\"node17\" class=\"node\"><title>16</title>\r\n",
       "<path fill=\"#eb9f68\" stroke=\"black\" d=\"M441,-298.5C441,-298.5 349,-298.5 349,-298.5 343,-298.5 337,-292.5 337,-286.5 337,-286.5 337,-242.5 337,-242.5 337,-236.5 343,-230.5 349,-230.5 349,-230.5 441,-230.5 441,-230.5 447,-230.5 453,-236.5 453,-242.5 453,-242.5 453,-286.5 453,-286.5 453,-292.5 447,-298.5 441,-298.5\"/>\r\n",
       "<text text-anchor=\"middle\" x=\"395\" y=\"-283.3\" font-family=\"Helvetica,sans-Serif\" font-size=\"14.00\">entropy = 0.702</text>\r\n",
       "<text text-anchor=\"middle\" x=\"395\" y=\"-268.3\" font-family=\"Helvetica,sans-Serif\" font-size=\"14.00\">samples = 21</text>\r\n",
       "<text text-anchor=\"middle\" x=\"395\" y=\"-253.3\" font-family=\"Helvetica,sans-Serif\" font-size=\"14.00\">value = [17, 4]</text>\r\n",
       "<text text-anchor=\"middle\" x=\"395\" y=\"-238.3\" font-family=\"Helvetica,sans-Serif\" font-size=\"14.00\">class = y[0]</text>\r\n",
       "</g>\r\n",
       "<!-- 8&#45;&gt;16 -->\r\n",
       "<g id=\"edge16\" class=\"edge\"><title>8&#45;&gt;16</title>\r\n",
       "<path fill=\"none\" stroke=\"black\" d=\"M394.347,-341.907C394.438,-331.204 394.537,-319.615 394.63,-308.776\"/>\r\n",
       "<polygon fill=\"black\" stroke=\"black\" points=\"398.131,-308.697 394.717,-298.667 391.131,-308.637 398.131,-308.697\"/>\r\n",
       "</g>\r\n",
       "<!-- 10 -->\r\n",
       "<g id=\"node11\" class=\"node\"><title>10</title>\r\n",
       "<path fill=\"#e89254\" stroke=\"black\" d=\"M239,-187C239,-187 141,-187 141,-187 135,-187 129,-181 129,-175 129,-175 129,-116 129,-116 129,-110 135,-104 141,-104 141,-104 239,-104 239,-104 245,-104 251,-110 251,-116 251,-116 251,-175 251,-175 251,-181 245,-187 239,-187\"/>\r\n",
       "<text text-anchor=\"middle\" x=\"190\" y=\"-171.8\" font-family=\"Helvetica,sans-Serif\" font-size=\"14.00\">Fare &lt;= 7.24</text>\r\n",
       "<text text-anchor=\"middle\" x=\"190\" y=\"-156.8\" font-family=\"Helvetica,sans-Serif\" font-size=\"14.00\">entropy = 0.525</text>\r\n",
       "<text text-anchor=\"middle\" x=\"190\" y=\"-141.8\" font-family=\"Helvetica,sans-Serif\" font-size=\"14.00\">samples = 118</text>\r\n",
       "<text text-anchor=\"middle\" x=\"190\" y=\"-126.8\" font-family=\"Helvetica,sans-Serif\" font-size=\"14.00\">value = [104, 14]</text>\r\n",
       "<text text-anchor=\"middle\" x=\"190\" y=\"-111.8\" font-family=\"Helvetica,sans-Serif\" font-size=\"14.00\">class = y[0]</text>\r\n",
       "</g>\r\n",
       "<!-- 9&#45;&gt;10 -->\r\n",
       "<g id=\"edge10\" class=\"edge\"><title>9&#45;&gt;10</title>\r\n",
       "<path fill=\"none\" stroke=\"black\" d=\"M234.408,-222.907C229.344,-214.195 223.94,-204.897 218.707,-195.893\"/>\r\n",
       "<polygon fill=\"black\" stroke=\"black\" points=\"221.602,-193.908 213.551,-187.021 215.549,-197.425 221.602,-193.908\"/>\r\n",
       "</g>\r\n",
       "<!-- 13 -->\r\n",
       "<g id=\"node14\" class=\"node\"><title>13</title>\r\n",
       "<path fill=\"#e78a47\" stroke=\"black\" d=\"M373,-187C373,-187 281,-187 281,-187 275,-187 269,-181 269,-175 269,-175 269,-116 269,-116 269,-110 275,-104 281,-104 281,-104 373,-104 373,-104 379,-104 385,-110 385,-116 385,-116 385,-175 385,-175 385,-181 379,-187 373,-187\"/>\r\n",
       "<text text-anchor=\"middle\" x=\"327\" y=\"-171.8\" font-family=\"Helvetica,sans-Serif\" font-size=\"14.00\">Fare &lt;= 7.227</text>\r\n",
       "<text text-anchor=\"middle\" x=\"327\" y=\"-156.8\" font-family=\"Helvetica,sans-Serif\" font-size=\"14.00\">entropy = 0.356</text>\r\n",
       "<text text-anchor=\"middle\" x=\"327\" y=\"-141.8\" font-family=\"Helvetica,sans-Serif\" font-size=\"14.00\">samples = 89</text>\r\n",
       "<text text-anchor=\"middle\" x=\"327\" y=\"-126.8\" font-family=\"Helvetica,sans-Serif\" font-size=\"14.00\">value = [83, 6]</text>\r\n",
       "<text text-anchor=\"middle\" x=\"327\" y=\"-111.8\" font-family=\"Helvetica,sans-Serif\" font-size=\"14.00\">class = y[0]</text>\r\n",
       "</g>\r\n",
       "<!-- 9&#45;&gt;13 -->\r\n",
       "<g id=\"edge13\" class=\"edge\"><title>9&#45;&gt;13</title>\r\n",
       "<path fill=\"none\" stroke=\"black\" d=\"M281.939,-222.907C287.077,-214.195 292.561,-204.897 297.871,-195.893\"/>\r\n",
       "<polygon fill=\"black\" stroke=\"black\" points=\"301.038,-197.412 303.103,-187.021 295.008,-193.857 301.038,-197.412\"/>\r\n",
       "</g>\r\n",
       "<!-- 11 -->\r\n",
       "<g id=\"node12\" class=\"node\"><title>11</title>\r\n",
       "<path fill=\"#eeae80\" stroke=\"black\" d=\"M104,-68C104,-68 12,-68 12,-68 6,-68 0,-62 0,-56 0,-56 0,-12 0,-12 0,-6 6,-0 12,-0 12,-0 104,-0 104,-0 110,-0 116,-6 116,-12 116,-12 116,-56 116,-56 116,-62 110,-68 104,-68\"/>\r\n",
       "<text text-anchor=\"middle\" x=\"58\" y=\"-52.8\" font-family=\"Helvetica,sans-Serif\" font-size=\"14.00\">entropy = 0.831</text>\r\n",
       "<text text-anchor=\"middle\" x=\"58\" y=\"-37.8\" font-family=\"Helvetica,sans-Serif\" font-size=\"14.00\">samples = 19</text>\r\n",
       "<text text-anchor=\"middle\" x=\"58\" y=\"-22.8\" font-family=\"Helvetica,sans-Serif\" font-size=\"14.00\">value = [14, 5]</text>\r\n",
       "<text text-anchor=\"middle\" x=\"58\" y=\"-7.8\" font-family=\"Helvetica,sans-Serif\" font-size=\"14.00\">class = y[0]</text>\r\n",
       "</g>\r\n",
       "<!-- 10&#45;&gt;11 -->\r\n",
       "<g id=\"edge11\" class=\"edge\"><title>10&#45;&gt;11</title>\r\n",
       "<path fill=\"none\" stroke=\"black\" d=\"M140.848,-103.726C129.413,-94.2406 117.255,-84.1551 105.877,-74.7159\"/>\r\n",
       "<polygon fill=\"black\" stroke=\"black\" points=\"108.073,-71.9905 98.142,-68.2996 103.604,-77.3781 108.073,-71.9905\"/>\r\n",
       "</g>\r\n",
       "<!-- 12 -->\r\n",
       "<g id=\"node13\" class=\"node\"><title>12</title>\r\n",
       "<path fill=\"#e88e4d\" stroke=\"black\" d=\"M238,-68C238,-68 146,-68 146,-68 140,-68 134,-62 134,-56 134,-56 134,-12 134,-12 134,-6 140,-0 146,-0 146,-0 238,-0 238,-0 244,-0 250,-6 250,-12 250,-12 250,-56 250,-56 250,-62 244,-68 238,-68\"/>\r\n",
       "<text text-anchor=\"middle\" x=\"192\" y=\"-52.8\" font-family=\"Helvetica,sans-Serif\" font-size=\"14.00\">entropy = 0.439</text>\r\n",
       "<text text-anchor=\"middle\" x=\"192\" y=\"-37.8\" font-family=\"Helvetica,sans-Serif\" font-size=\"14.00\">samples = 99</text>\r\n",
       "<text text-anchor=\"middle\" x=\"192\" y=\"-22.8\" font-family=\"Helvetica,sans-Serif\" font-size=\"14.00\">value = [90, 9]</text>\r\n",
       "<text text-anchor=\"middle\" x=\"192\" y=\"-7.8\" font-family=\"Helvetica,sans-Serif\" font-size=\"14.00\">class = y[0]</text>\r\n",
       "</g>\r\n",
       "<!-- 10&#45;&gt;12 -->\r\n",
       "<g id=\"edge12\" class=\"edge\"><title>10&#45;&gt;12</title>\r\n",
       "<path fill=\"none\" stroke=\"black\" d=\"M190.745,-103.726C190.895,-95.5175 191.053,-86.8595 191.204,-78.56\"/>\r\n",
       "<polygon fill=\"black\" stroke=\"black\" points=\"194.708,-78.3619 191.392,-68.2996 187.71,-78.234 194.708,-78.3619\"/>\r\n",
       "</g>\r\n",
       "<!-- 14 -->\r\n",
       "<g id=\"node15\" class=\"node\"><title>14</title>\r\n",
       "<path fill=\"#e58139\" stroke=\"black\" d=\"M363.5,-68C363.5,-68 282.5,-68 282.5,-68 276.5,-68 270.5,-62 270.5,-56 270.5,-56 270.5,-12 270.5,-12 270.5,-6 276.5,-0 282.5,-0 282.5,-0 363.5,-0 363.5,-0 369.5,-0 375.5,-6 375.5,-12 375.5,-12 375.5,-56 375.5,-56 375.5,-62 369.5,-68 363.5,-68\"/>\r\n",
       "<text text-anchor=\"middle\" x=\"323\" y=\"-52.8\" font-family=\"Helvetica,sans-Serif\" font-size=\"14.00\">entropy = 0.0</text>\r\n",
       "<text text-anchor=\"middle\" x=\"323\" y=\"-37.8\" font-family=\"Helvetica,sans-Serif\" font-size=\"14.00\">samples = 16</text>\r\n",
       "<text text-anchor=\"middle\" x=\"323\" y=\"-22.8\" font-family=\"Helvetica,sans-Serif\" font-size=\"14.00\">value = [16, 0]</text>\r\n",
       "<text text-anchor=\"middle\" x=\"323\" y=\"-7.8\" font-family=\"Helvetica,sans-Serif\" font-size=\"14.00\">class = y[0]</text>\r\n",
       "</g>\r\n",
       "<!-- 13&#45;&gt;14 -->\r\n",
       "<g id=\"edge14\" class=\"edge\"><title>13&#45;&gt;14</title>\r\n",
       "<path fill=\"none\" stroke=\"black\" d=\"M325.511,-103.726C325.211,-95.5175 324.894,-86.8595 324.591,-78.56\"/>\r\n",
       "<polygon fill=\"black\" stroke=\"black\" points=\"328.079,-78.1651 324.216,-68.2996 321.084,-78.4207 328.079,-78.1651\"/>\r\n",
       "</g>\r\n",
       "<!-- 15 -->\r\n",
       "<g id=\"node16\" class=\"node\"><title>15</title>\r\n",
       "<path fill=\"#e78c4b\" stroke=\"black\" d=\"M490,-68C490,-68 406,-68 406,-68 400,-68 394,-62 394,-56 394,-56 394,-12 394,-12 394,-6 400,-0 406,-0 406,-0 490,-0 490,-0 496,-0 502,-6 502,-12 502,-12 502,-56 502,-56 502,-62 496,-68 490,-68\"/>\r\n",
       "<text text-anchor=\"middle\" x=\"448\" y=\"-52.8\" font-family=\"Helvetica,sans-Serif\" font-size=\"14.00\">entropy = 0.41</text>\r\n",
       "<text text-anchor=\"middle\" x=\"448\" y=\"-37.8\" font-family=\"Helvetica,sans-Serif\" font-size=\"14.00\">samples = 73</text>\r\n",
       "<text text-anchor=\"middle\" x=\"448\" y=\"-22.8\" font-family=\"Helvetica,sans-Serif\" font-size=\"14.00\">value = [67, 6]</text>\r\n",
       "<text text-anchor=\"middle\" x=\"448\" y=\"-7.8\" font-family=\"Helvetica,sans-Serif\" font-size=\"14.00\">class = y[0]</text>\r\n",
       "</g>\r\n",
       "<!-- 13&#45;&gt;15 -->\r\n",
       "<g id=\"edge15\" class=\"edge\"><title>13&#45;&gt;15</title>\r\n",
       "<path fill=\"none\" stroke=\"black\" d=\"M372.056,-103.726C382.336,-94.423 393.254,-84.5428 403.511,-75.2612\"/>\r\n",
       "<polygon fill=\"black\" stroke=\"black\" points=\"406.137,-77.6047 411.203,-68.2996 401.44,-72.4144 406.137,-77.6047\"/>\r\n",
       "</g>\r\n",
       "<!-- 18 -->\r\n",
       "<g id=\"node19\" class=\"node\"><title>18</title>\r\n",
       "<path fill=\"#e78945\" stroke=\"black\" d=\"M576,-298.5C576,-298.5 484,-298.5 484,-298.5 478,-298.5 472,-292.5 472,-286.5 472,-286.5 472,-242.5 472,-242.5 472,-236.5 478,-230.5 484,-230.5 484,-230.5 576,-230.5 576,-230.5 582,-230.5 588,-236.5 588,-242.5 588,-242.5 588,-286.5 588,-286.5 588,-292.5 582,-298.5 576,-298.5\"/>\r\n",
       "<text text-anchor=\"middle\" x=\"530\" y=\"-283.3\" font-family=\"Helvetica,sans-Serif\" font-size=\"14.00\">entropy = 0.323</text>\r\n",
       "<text text-anchor=\"middle\" x=\"530\" y=\"-268.3\" font-family=\"Helvetica,sans-Serif\" font-size=\"14.00\">samples = 17</text>\r\n",
       "<text text-anchor=\"middle\" x=\"530\" y=\"-253.3\" font-family=\"Helvetica,sans-Serif\" font-size=\"14.00\">value = [16, 1]</text>\r\n",
       "<text text-anchor=\"middle\" x=\"530\" y=\"-238.3\" font-family=\"Helvetica,sans-Serif\" font-size=\"14.00\">class = y[0]</text>\r\n",
       "</g>\r\n",
       "<!-- 17&#45;&gt;18 -->\r\n",
       "<g id=\"edge18\" class=\"edge\"><title>17&#45;&gt;18</title>\r\n",
       "<path fill=\"none\" stroke=\"black\" d=\"M530.653,-341.907C530.562,-331.204 530.463,-319.615 530.37,-308.776\"/>\r\n",
       "<polygon fill=\"black\" stroke=\"black\" points=\"533.869,-308.637 530.283,-298.667 526.869,-308.697 533.869,-308.637\"/>\r\n",
       "</g>\r\n",
       "<!-- 19 -->\r\n",
       "<g id=\"node20\" class=\"node\"><title>19</title>\r\n",
       "<path fill=\"#e58139\" stroke=\"black\" d=\"M699.5,-298.5C699.5,-298.5 618.5,-298.5 618.5,-298.5 612.5,-298.5 606.5,-292.5 606.5,-286.5 606.5,-286.5 606.5,-242.5 606.5,-242.5 606.5,-236.5 612.5,-230.5 618.5,-230.5 618.5,-230.5 699.5,-230.5 699.5,-230.5 705.5,-230.5 711.5,-236.5 711.5,-242.5 711.5,-242.5 711.5,-286.5 711.5,-286.5 711.5,-292.5 705.5,-298.5 699.5,-298.5\"/>\r\n",
       "<text text-anchor=\"middle\" x=\"659\" y=\"-283.3\" font-family=\"Helvetica,sans-Serif\" font-size=\"14.00\">entropy = 0.0</text>\r\n",
       "<text text-anchor=\"middle\" x=\"659\" y=\"-268.3\" font-family=\"Helvetica,sans-Serif\" font-size=\"14.00\">samples = 15</text>\r\n",
       "<text text-anchor=\"middle\" x=\"659\" y=\"-253.3\" font-family=\"Helvetica,sans-Serif\" font-size=\"14.00\">value = [15, 0]</text>\r\n",
       "<text text-anchor=\"middle\" x=\"659\" y=\"-238.3\" font-family=\"Helvetica,sans-Serif\" font-size=\"14.00\">class = y[0]</text>\r\n",
       "</g>\r\n",
       "<!-- 17&#45;&gt;19 -->\r\n",
       "<g id=\"edge19\" class=\"edge\"><title>17&#45;&gt;19</title>\r\n",
       "<path fill=\"none\" stroke=\"black\" d=\"M575.409,-341.907C588.326,-330.101 602.421,-317.217 615.295,-305.45\"/>\r\n",
       "<polygon fill=\"black\" stroke=\"black\" points=\"617.695,-307.997 622.715,-298.667 612.972,-302.83 617.695,-307.997\"/>\r\n",
       "</g>\r\n",
       "<!-- 23 -->\r\n",
       "<g id=\"node24\" class=\"node\"><title>23</title>\r\n",
       "<path fill=\"#e58139\" stroke=\"black\" d=\"M824.5,-655.5C824.5,-655.5 743.5,-655.5 743.5,-655.5 737.5,-655.5 731.5,-649.5 731.5,-643.5 731.5,-643.5 731.5,-599.5 731.5,-599.5 731.5,-593.5 737.5,-587.5 743.5,-587.5 743.5,-587.5 824.5,-587.5 824.5,-587.5 830.5,-587.5 836.5,-593.5 836.5,-599.5 836.5,-599.5 836.5,-643.5 836.5,-643.5 836.5,-649.5 830.5,-655.5 824.5,-655.5\"/>\r\n",
       "<text text-anchor=\"middle\" x=\"784\" y=\"-640.3\" font-family=\"Helvetica,sans-Serif\" font-size=\"14.00\">entropy = 0.0</text>\r\n",
       "<text text-anchor=\"middle\" x=\"784\" y=\"-625.3\" font-family=\"Helvetica,sans-Serif\" font-size=\"14.00\">samples = 36</text>\r\n",
       "<text text-anchor=\"middle\" x=\"784\" y=\"-610.3\" font-family=\"Helvetica,sans-Serif\" font-size=\"14.00\">value = [36, 0]</text>\r\n",
       "<text text-anchor=\"middle\" x=\"784\" y=\"-595.3\" font-family=\"Helvetica,sans-Serif\" font-size=\"14.00\">class = y[0]</text>\r\n",
       "</g>\r\n",
       "<!-- 22&#45;&gt;23 -->\r\n",
       "<g id=\"edge23\" class=\"edge\"><title>22&#45;&gt;23</title>\r\n",
       "<path fill=\"none\" stroke=\"black\" d=\"M829.061,-698.907C822.488,-687.763 815.35,-675.658 808.733,-664.439\"/>\r\n",
       "<polygon fill=\"black\" stroke=\"black\" points=\"811.655,-662.503 803.56,-655.667 805.625,-666.059 811.655,-662.503\"/>\r\n",
       "</g>\r\n",
       "<!-- 24 -->\r\n",
       "<g id=\"node25\" class=\"node\"><title>24</title>\r\n",
       "<path fill=\"#e78d4c\" stroke=\"black\" d=\"M959,-663C959,-663 867,-663 867,-663 861,-663 855,-657 855,-651 855,-651 855,-592 855,-592 855,-586 861,-580 867,-580 867,-580 959,-580 959,-580 965,-580 971,-586 971,-592 971,-592 971,-651 971,-651 971,-657 965,-663 959,-663\"/>\r\n",
       "<text text-anchor=\"middle\" x=\"913\" y=\"-647.8\" font-family=\"Helvetica,sans-Serif\" font-size=\"14.00\">Fare &lt;= 13.25</text>\r\n",
       "<text text-anchor=\"middle\" x=\"913\" y=\"-632.8\" font-family=\"Helvetica,sans-Serif\" font-size=\"14.00\">entropy = 0.426</text>\r\n",
       "<text text-anchor=\"middle\" x=\"913\" y=\"-617.8\" font-family=\"Helvetica,sans-Serif\" font-size=\"14.00\">samples = 69</text>\r\n",
       "<text text-anchor=\"middle\" x=\"913\" y=\"-602.8\" font-family=\"Helvetica,sans-Serif\" font-size=\"14.00\">value = [63, 6]</text>\r\n",
       "<text text-anchor=\"middle\" x=\"913\" y=\"-587.8\" font-family=\"Helvetica,sans-Serif\" font-size=\"14.00\">class = y[0]</text>\r\n",
       "</g>\r\n",
       "<!-- 22&#45;&gt;24 -->\r\n",
       "<g id=\"edge24\" class=\"edge\"><title>22&#45;&gt;24</title>\r\n",
       "<path fill=\"none\" stroke=\"black\" d=\"M873.817,-698.907C878.238,-690.286 882.954,-681.09 887.526,-672.175\"/>\r\n",
       "<polygon fill=\"black\" stroke=\"black\" points=\"890.771,-673.516 892.22,-663.021 884.543,-670.322 890.771,-673.516\"/>\r\n",
       "</g>\r\n",
       "<!-- 25 -->\r\n",
       "<g id=\"node26\" class=\"node\"><title>25</title>\r\n",
       "<path fill=\"#e9965a\" stroke=\"black\" d=\"M830,-544C830,-544 738,-544 738,-544 732,-544 726,-538 726,-532 726,-532 726,-473 726,-473 726,-467 732,-461 738,-461 738,-461 830,-461 830,-461 836,-461 842,-467 842,-473 842,-473 842,-532 842,-532 842,-538 836,-544 830,-544\"/>\r\n",
       "<text text-anchor=\"middle\" x=\"784\" y=\"-528.8\" font-family=\"Helvetica,sans-Serif\" font-size=\"14.00\">Age &lt;= 38.5</text>\r\n",
       "<text text-anchor=\"middle\" x=\"784\" y=\"-513.8\" font-family=\"Helvetica,sans-Serif\" font-size=\"14.00\">entropy = 0.592</text>\r\n",
       "<text text-anchor=\"middle\" x=\"784\" y=\"-498.8\" font-family=\"Helvetica,sans-Serif\" font-size=\"14.00\">samples = 42</text>\r\n",
       "<text text-anchor=\"middle\" x=\"784\" y=\"-483.8\" font-family=\"Helvetica,sans-Serif\" font-size=\"14.00\">value = [36, 6]</text>\r\n",
       "<text text-anchor=\"middle\" x=\"784\" y=\"-468.8\" font-family=\"Helvetica,sans-Serif\" font-size=\"14.00\">class = y[0]</text>\r\n",
       "</g>\r\n",
       "<!-- 24&#45;&gt;25 -->\r\n",
       "<g id=\"edge25\" class=\"edge\"><title>24&#45;&gt;25</title>\r\n",
       "<path fill=\"none\" stroke=\"black\" d=\"M868.244,-579.907C857.938,-570.56 846.888,-560.538 836.293,-550.929\"/>\r\n",
       "<polygon fill=\"black\" stroke=\"black\" points=\"838.435,-548.146 828.677,-544.021 833.733,-553.332 838.435,-548.146\"/>\r\n",
       "</g>\r\n",
       "<!-- 28 -->\r\n",
       "<g id=\"node29\" class=\"node\"><title>28</title>\r\n",
       "<path fill=\"#e58139\" stroke=\"black\" d=\"M953.5,-536.5C953.5,-536.5 872.5,-536.5 872.5,-536.5 866.5,-536.5 860.5,-530.5 860.5,-524.5 860.5,-524.5 860.5,-480.5 860.5,-480.5 860.5,-474.5 866.5,-468.5 872.5,-468.5 872.5,-468.5 953.5,-468.5 953.5,-468.5 959.5,-468.5 965.5,-474.5 965.5,-480.5 965.5,-480.5 965.5,-524.5 965.5,-524.5 965.5,-530.5 959.5,-536.5 953.5,-536.5\"/>\r\n",
       "<text text-anchor=\"middle\" x=\"913\" y=\"-521.3\" font-family=\"Helvetica,sans-Serif\" font-size=\"14.00\">entropy = 0.0</text>\r\n",
       "<text text-anchor=\"middle\" x=\"913\" y=\"-506.3\" font-family=\"Helvetica,sans-Serif\" font-size=\"14.00\">samples = 27</text>\r\n",
       "<text text-anchor=\"middle\" x=\"913\" y=\"-491.3\" font-family=\"Helvetica,sans-Serif\" font-size=\"14.00\">value = [27, 0]</text>\r\n",
       "<text text-anchor=\"middle\" x=\"913\" y=\"-476.3\" font-family=\"Helvetica,sans-Serif\" font-size=\"14.00\">class = y[0]</text>\r\n",
       "</g>\r\n",
       "<!-- 24&#45;&gt;28 -->\r\n",
       "<g id=\"edge28\" class=\"edge\"><title>24&#45;&gt;28</title>\r\n",
       "<path fill=\"none\" stroke=\"black\" d=\"M913,-579.907C913,-569.204 913,-557.615 913,-546.776\"/>\r\n",
       "<polygon fill=\"black\" stroke=\"black\" points=\"916.5,-546.667 913,-536.667 909.5,-546.667 916.5,-546.667\"/>\r\n",
       "</g>\r\n",
       "<!-- 26 -->\r\n",
       "<g id=\"node27\" class=\"node\"><title>26</title>\r\n",
       "<path fill=\"#e78945\" stroke=\"black\" d=\"M779,-417.5C779,-417.5 687,-417.5 687,-417.5 681,-417.5 675,-411.5 675,-405.5 675,-405.5 675,-361.5 675,-361.5 675,-355.5 681,-349.5 687,-349.5 687,-349.5 779,-349.5 779,-349.5 785,-349.5 791,-355.5 791,-361.5 791,-361.5 791,-405.5 791,-405.5 791,-411.5 785,-417.5 779,-417.5\"/>\r\n",
       "<text text-anchor=\"middle\" x=\"733\" y=\"-402.3\" font-family=\"Helvetica,sans-Serif\" font-size=\"14.00\">entropy = 0.323</text>\r\n",
       "<text text-anchor=\"middle\" x=\"733\" y=\"-387.3\" font-family=\"Helvetica,sans-Serif\" font-size=\"14.00\">samples = 17</text>\r\n",
       "<text text-anchor=\"middle\" x=\"733\" y=\"-372.3\" font-family=\"Helvetica,sans-Serif\" font-size=\"14.00\">value = [16, 1]</text>\r\n",
       "<text text-anchor=\"middle\" x=\"733\" y=\"-357.3\" font-family=\"Helvetica,sans-Serif\" font-size=\"14.00\">class = y[0]</text>\r\n",
       "</g>\r\n",
       "<!-- 25&#45;&gt;26 -->\r\n",
       "<g id=\"edge26\" class=\"edge\"><title>25&#45;&gt;26</title>\r\n",
       "<path fill=\"none\" stroke=\"black\" d=\"M766.306,-460.907C761.544,-449.983 756.38,-438.137 751.572,-427.107\"/>\r\n",
       "<polygon fill=\"black\" stroke=\"black\" points=\"754.662,-425.435 747.457,-417.667 748.245,-428.232 754.662,-425.435\"/>\r\n",
       "</g>\r\n",
       "<!-- 27 -->\r\n",
       "<g id=\"node28\" class=\"node\"><title>27</title>\r\n",
       "<path fill=\"#eca06a\" stroke=\"black\" d=\"M913,-417.5C913,-417.5 821,-417.5 821,-417.5 815,-417.5 809,-411.5 809,-405.5 809,-405.5 809,-361.5 809,-361.5 809,-355.5 815,-349.5 821,-349.5 821,-349.5 913,-349.5 913,-349.5 919,-349.5 925,-355.5 925,-361.5 925,-361.5 925,-405.5 925,-405.5 925,-411.5 919,-417.5 913,-417.5\"/>\r\n",
       "<text text-anchor=\"middle\" x=\"867\" y=\"-402.3\" font-family=\"Helvetica,sans-Serif\" font-size=\"14.00\">entropy = 0.722</text>\r\n",
       "<text text-anchor=\"middle\" x=\"867\" y=\"-387.3\" font-family=\"Helvetica,sans-Serif\" font-size=\"14.00\">samples = 25</text>\r\n",
       "<text text-anchor=\"middle\" x=\"867\" y=\"-372.3\" font-family=\"Helvetica,sans-Serif\" font-size=\"14.00\">value = [20, 5]</text>\r\n",
       "<text text-anchor=\"middle\" x=\"867\" y=\"-357.3\" font-family=\"Helvetica,sans-Serif\" font-size=\"14.00\">class = y[0]</text>\r\n",
       "</g>\r\n",
       "<!-- 25&#45;&gt;27 -->\r\n",
       "<g id=\"edge27\" class=\"edge\"><title>25&#45;&gt;27</title>\r\n",
       "<path fill=\"none\" stroke=\"black\" d=\"M812.796,-460.907C820.781,-449.652 829.46,-437.418 837.484,-426.106\"/>\r\n",
       "<polygon fill=\"black\" stroke=\"black\" points=\"840.54,-427.848 843.471,-417.667 834.831,-423.798 840.54,-427.848\"/>\r\n",
       "</g>\r\n",
       "<!-- 30 -->\r\n",
       "<g id=\"node31\" class=\"node\"><title>30</title>\r\n",
       "<path fill=\"#f6d5bd\" stroke=\"black\" d=\"M1297,-901C1297,-901 1205,-901 1205,-901 1199,-901 1193,-895 1193,-889 1193,-889 1193,-830 1193,-830 1193,-824 1199,-818 1205,-818 1205,-818 1297,-818 1297,-818 1303,-818 1309,-824 1309,-830 1309,-830 1309,-889 1309,-889 1309,-895 1303,-901 1297,-901\"/>\r\n",
       "<text text-anchor=\"middle\" x=\"1251\" y=\"-885.8\" font-family=\"Helvetica,sans-Serif\" font-size=\"14.00\">Age &lt;= 53.0</text>\r\n",
       "<text text-anchor=\"middle\" x=\"1251\" y=\"-870.8\" font-family=\"Helvetica,sans-Serif\" font-size=\"14.00\">entropy = 0.971</text>\r\n",
       "<text text-anchor=\"middle\" x=\"1251\" y=\"-855.8\" font-family=\"Helvetica,sans-Serif\" font-size=\"14.00\">samples = 135</text>\r\n",
       "<text text-anchor=\"middle\" x=\"1251\" y=\"-840.8\" font-family=\"Helvetica,sans-Serif\" font-size=\"14.00\">value = [81, 54]</text>\r\n",
       "<text text-anchor=\"middle\" x=\"1251\" y=\"-825.8\" font-family=\"Helvetica,sans-Serif\" font-size=\"14.00\">class = y[0]</text>\r\n",
       "</g>\r\n",
       "<!-- 29&#45;&gt;30 -->\r\n",
       "<g id=\"edge30\" class=\"edge\"><title>29&#45;&gt;30</title>\r\n",
       "<path fill=\"none\" stroke=\"black\" d=\"M1294.75,-936.907C1289.77,-928.195 1284.44,-918.897 1279.29,-909.893\"/>\r\n",
       "<polygon fill=\"black\" stroke=\"black\" points=\"1282.21,-907.959 1274.2,-901.021 1276.14,-911.438 1282.21,-907.959\"/>\r\n",
       "</g>\r\n",
       "<!-- 43 -->\r\n",
       "<g id=\"node44\" class=\"node\"><title>43</title>\r\n",
       "<path fill=\"#e68641\" stroke=\"black\" d=\"M1431,-893.5C1431,-893.5 1339,-893.5 1339,-893.5 1333,-893.5 1327,-887.5 1327,-881.5 1327,-881.5 1327,-837.5 1327,-837.5 1327,-831.5 1333,-825.5 1339,-825.5 1339,-825.5 1431,-825.5 1431,-825.5 1437,-825.5 1443,-831.5 1443,-837.5 1443,-837.5 1443,-881.5 1443,-881.5 1443,-887.5 1437,-893.5 1431,-893.5\"/>\r\n",
       "<text text-anchor=\"middle\" x=\"1385\" y=\"-878.3\" font-family=\"Helvetica,sans-Serif\" font-size=\"14.00\">entropy = 0.229</text>\r\n",
       "<text text-anchor=\"middle\" x=\"1385\" y=\"-863.3\" font-family=\"Helvetica,sans-Serif\" font-size=\"14.00\">samples = 27</text>\r\n",
       "<text text-anchor=\"middle\" x=\"1385\" y=\"-848.3\" font-family=\"Helvetica,sans-Serif\" font-size=\"14.00\">value = [26, 1]</text>\r\n",
       "<text text-anchor=\"middle\" x=\"1385\" y=\"-833.3\" font-family=\"Helvetica,sans-Serif\" font-size=\"14.00\">class = y[0]</text>\r\n",
       "</g>\r\n",
       "<!-- 29&#45;&gt;43 -->\r\n",
       "<g id=\"edge43\" class=\"edge\"><title>29&#45;&gt;43</title>\r\n",
       "<path fill=\"none\" stroke=\"black\" d=\"M1341.25,-936.907C1347.63,-925.763 1354.56,-913.658 1360.98,-902.439\"/>\r\n",
       "<polygon fill=\"black\" stroke=\"black\" points=\"1364.07,-904.084 1366.01,-893.667 1358,-900.606 1364.07,-904.084\"/>\r\n",
       "</g>\r\n",
       "<!-- 31 -->\r\n",
       "<g id=\"node32\" class=\"node\"><title>31</title>\r\n",
       "<path fill=\"#fae7d9\" stroke=\"black\" d=\"M1230,-782C1230,-782 1138,-782 1138,-782 1132,-782 1126,-776 1126,-770 1126,-770 1126,-711 1126,-711 1126,-705 1132,-699 1138,-699 1138,-699 1230,-699 1230,-699 1236,-699 1242,-705 1242,-711 1242,-711 1242,-770 1242,-770 1242,-776 1236,-782 1230,-782\"/>\r\n",
       "<text text-anchor=\"middle\" x=\"1184\" y=\"-766.8\" font-family=\"Helvetica,sans-Serif\" font-size=\"14.00\">Fare &lt;= 30.598</text>\r\n",
       "<text text-anchor=\"middle\" x=\"1184\" y=\"-751.8\" font-family=\"Helvetica,sans-Serif\" font-size=\"14.00\">entropy = 0.992</text>\r\n",
       "<text text-anchor=\"middle\" x=\"1184\" y=\"-736.8\" font-family=\"Helvetica,sans-Serif\" font-size=\"14.00\">samples = 114</text>\r\n",
       "<text text-anchor=\"middle\" x=\"1184\" y=\"-721.8\" font-family=\"Helvetica,sans-Serif\" font-size=\"14.00\">value = [63, 51]</text>\r\n",
       "<text text-anchor=\"middle\" x=\"1184\" y=\"-706.8\" font-family=\"Helvetica,sans-Serif\" font-size=\"14.00\">class = y[0]</text>\r\n",
       "</g>\r\n",
       "<!-- 30&#45;&gt;31 -->\r\n",
       "<g id=\"edge31\" class=\"edge\"><title>30&#45;&gt;31</title>\r\n",
       "<path fill=\"none\" stroke=\"black\" d=\"M1227.75,-817.907C1222.77,-809.195 1217.44,-799.897 1212.29,-790.893\"/>\r\n",
       "<polygon fill=\"black\" stroke=\"black\" points=\"1215.21,-788.959 1207.2,-782.021 1209.14,-792.438 1215.21,-788.959\"/>\r\n",
       "</g>\r\n",
       "<!-- 42 -->\r\n",
       "<g id=\"node43\" class=\"node\"><title>42</title>\r\n",
       "<path fill=\"#e9965a\" stroke=\"black\" d=\"M1364,-774.5C1364,-774.5 1272,-774.5 1272,-774.5 1266,-774.5 1260,-768.5 1260,-762.5 1260,-762.5 1260,-718.5 1260,-718.5 1260,-712.5 1266,-706.5 1272,-706.5 1272,-706.5 1364,-706.5 1364,-706.5 1370,-706.5 1376,-712.5 1376,-718.5 1376,-718.5 1376,-762.5 1376,-762.5 1376,-768.5 1370,-774.5 1364,-774.5\"/>\r\n",
       "<text text-anchor=\"middle\" x=\"1318\" y=\"-759.3\" font-family=\"Helvetica,sans-Serif\" font-size=\"14.00\">entropy = 0.592</text>\r\n",
       "<text text-anchor=\"middle\" x=\"1318\" y=\"-744.3\" font-family=\"Helvetica,sans-Serif\" font-size=\"14.00\">samples = 21</text>\r\n",
       "<text text-anchor=\"middle\" x=\"1318\" y=\"-729.3\" font-family=\"Helvetica,sans-Serif\" font-size=\"14.00\">value = [18, 3]</text>\r\n",
       "<text text-anchor=\"middle\" x=\"1318\" y=\"-714.3\" font-family=\"Helvetica,sans-Serif\" font-size=\"14.00\">class = y[0]</text>\r\n",
       "</g>\r\n",
       "<!-- 30&#45;&gt;42 -->\r\n",
       "<g id=\"edge42\" class=\"edge\"><title>30&#45;&gt;42</title>\r\n",
       "<path fill=\"none\" stroke=\"black\" d=\"M1274.25,-817.907C1280.63,-806.763 1287.56,-794.658 1293.98,-783.439\"/>\r\n",
       "<polygon fill=\"black\" stroke=\"black\" points=\"1297.07,-785.084 1299.01,-774.667 1291,-781.606 1297.07,-785.084\"/>\r\n",
       "</g>\r\n",
       "<!-- 32 -->\r\n",
       "<g id=\"node33\" class=\"node\"><title>32</title>\r\n",
       "<path fill=\"#c0e0f7\" stroke=\"black\" d=\"M1222,-663C1222,-663 1130,-663 1130,-663 1124,-663 1118,-657 1118,-651 1118,-651 1118,-592 1118,-592 1118,-586 1124,-580 1130,-580 1130,-580 1222,-580 1222,-580 1228,-580 1234,-586 1234,-592 1234,-592 1234,-651 1234,-651 1234,-657 1228,-663 1222,-663\"/>\r\n",
       "<text text-anchor=\"middle\" x=\"1176\" y=\"-647.8\" font-family=\"Helvetica,sans-Serif\" font-size=\"14.00\">Age &lt;= 33.25</text>\r\n",
       "<text text-anchor=\"middle\" x=\"1176\" y=\"-632.8\" font-family=\"Helvetica,sans-Serif\" font-size=\"14.00\">entropy = 0.974</text>\r\n",
       "<text text-anchor=\"middle\" x=\"1176\" y=\"-617.8\" font-family=\"Helvetica,sans-Serif\" font-size=\"14.00\">samples = 32</text>\r\n",
       "<text text-anchor=\"middle\" x=\"1176\" y=\"-602.8\" font-family=\"Helvetica,sans-Serif\" font-size=\"14.00\">value = [13, 19]</text>\r\n",
       "<text text-anchor=\"middle\" x=\"1176\" y=\"-587.8\" font-family=\"Helvetica,sans-Serif\" font-size=\"14.00\">class = y[1]</text>\r\n",
       "</g>\r\n",
       "<!-- 31&#45;&gt;32 -->\r\n",
       "<g id=\"edge32\" class=\"edge\"><title>31&#45;&gt;32</title>\r\n",
       "<path fill=\"none\" stroke=\"black\" d=\"M1181.22,-698.907C1180.65,-690.558 1180.05,-681.671 1179.45,-673.02\"/>\r\n",
       "<polygon fill=\"black\" stroke=\"black\" points=\"1182.94,-672.759 1178.77,-663.021 1175.96,-673.236 1182.94,-672.759\"/>\r\n",
       "</g>\r\n",
       "<!-- 35 -->\r\n",
       "<g id=\"node36\" class=\"node\"><title>35</title>\r\n",
       "<path fill=\"#f6d2b8\" stroke=\"black\" d=\"M1356,-663C1356,-663 1264,-663 1264,-663 1258,-663 1252,-657 1252,-651 1252,-651 1252,-592 1252,-592 1252,-586 1258,-580 1264,-580 1264,-580 1356,-580 1356,-580 1362,-580 1368,-586 1368,-592 1368,-592 1368,-651 1368,-651 1368,-657 1362,-663 1356,-663\"/>\r\n",
       "<text text-anchor=\"middle\" x=\"1310\" y=\"-647.8\" font-family=\"Helvetica,sans-Serif\" font-size=\"14.00\">Fare &lt;= 52.277</text>\r\n",
       "<text text-anchor=\"middle\" x=\"1310\" y=\"-632.8\" font-family=\"Helvetica,sans-Serif\" font-size=\"14.00\">entropy = 0.965</text>\r\n",
       "<text text-anchor=\"middle\" x=\"1310\" y=\"-617.8\" font-family=\"Helvetica,sans-Serif\" font-size=\"14.00\">samples = 82</text>\r\n",
       "<text text-anchor=\"middle\" x=\"1310\" y=\"-602.8\" font-family=\"Helvetica,sans-Serif\" font-size=\"14.00\">value = [50, 32]</text>\r\n",
       "<text text-anchor=\"middle\" x=\"1310\" y=\"-587.8\" font-family=\"Helvetica,sans-Serif\" font-size=\"14.00\">class = y[0]</text>\r\n",
       "</g>\r\n",
       "<!-- 31&#45;&gt;35 -->\r\n",
       "<g id=\"edge35\" class=\"edge\"><title>31&#45;&gt;35</title>\r\n",
       "<path fill=\"none\" stroke=\"black\" d=\"M1227.72,-698.907C1237.78,-689.56 1248.57,-679.538 1258.92,-669.929\"/>\r\n",
       "<polygon fill=\"black\" stroke=\"black\" points=\"1261.42,-672.39 1266.36,-663.021 1256.65,-667.261 1261.42,-672.39\"/>\r\n",
       "</g>\r\n",
       "<!-- 33 -->\r\n",
       "<g id=\"node34\" class=\"node\"><title>33</title>\r\n",
       "<path fill=\"#d3e9f9\" stroke=\"black\" d=\"M1088,-536.5C1088,-536.5 996,-536.5 996,-536.5 990,-536.5 984,-530.5 984,-524.5 984,-524.5 984,-480.5 984,-480.5 984,-474.5 990,-468.5 996,-468.5 996,-468.5 1088,-468.5 1088,-468.5 1094,-468.5 1100,-474.5 1100,-480.5 1100,-480.5 1100,-524.5 1100,-524.5 1100,-530.5 1094,-536.5 1088,-536.5\"/>\r\n",
       "<text text-anchor=\"middle\" x=\"1042\" y=\"-521.3\" font-family=\"Helvetica,sans-Serif\" font-size=\"14.00\">entropy = 0.989</text>\r\n",
       "<text text-anchor=\"middle\" x=\"1042\" y=\"-506.3\" font-family=\"Helvetica,sans-Serif\" font-size=\"14.00\">samples = 16</text>\r\n",
       "<text text-anchor=\"middle\" x=\"1042\" y=\"-491.3\" font-family=\"Helvetica,sans-Serif\" font-size=\"14.00\">value = [7, 9]</text>\r\n",
       "<text text-anchor=\"middle\" x=\"1042\" y=\"-476.3\" font-family=\"Helvetica,sans-Serif\" font-size=\"14.00\">class = y[1]</text>\r\n",
       "</g>\r\n",
       "<!-- 32&#45;&gt;33 -->\r\n",
       "<g id=\"edge33\" class=\"edge\"><title>32&#45;&gt;33</title>\r\n",
       "<path fill=\"none\" stroke=\"black\" d=\"M1129.51,-579.907C1115.99,-568.101 1101.23,-555.217 1087.75,-543.45\"/>\r\n",
       "<polygon fill=\"black\" stroke=\"black\" points=\"1089.82,-540.608 1079.99,-536.667 1085.22,-545.881 1089.82,-540.608\"/>\r\n",
       "</g>\r\n",
       "<!-- 34 -->\r\n",
       "<g id=\"node35\" class=\"node\"><title>34</title>\r\n",
       "<path fill=\"#b0d8f5\" stroke=\"black\" d=\"M1222,-536.5C1222,-536.5 1130,-536.5 1130,-536.5 1124,-536.5 1118,-530.5 1118,-524.5 1118,-524.5 1118,-480.5 1118,-480.5 1118,-474.5 1124,-468.5 1130,-468.5 1130,-468.5 1222,-468.5 1222,-468.5 1228,-468.5 1234,-474.5 1234,-480.5 1234,-480.5 1234,-524.5 1234,-524.5 1234,-530.5 1228,-536.5 1222,-536.5\"/>\r\n",
       "<text text-anchor=\"middle\" x=\"1176\" y=\"-521.3\" font-family=\"Helvetica,sans-Serif\" font-size=\"14.00\">entropy = 0.954</text>\r\n",
       "<text text-anchor=\"middle\" x=\"1176\" y=\"-506.3\" font-family=\"Helvetica,sans-Serif\" font-size=\"14.00\">samples = 16</text>\r\n",
       "<text text-anchor=\"middle\" x=\"1176\" y=\"-491.3\" font-family=\"Helvetica,sans-Serif\" font-size=\"14.00\">value = [6, 10]</text>\r\n",
       "<text text-anchor=\"middle\" x=\"1176\" y=\"-476.3\" font-family=\"Helvetica,sans-Serif\" font-size=\"14.00\">class = y[1]</text>\r\n",
       "</g>\r\n",
       "<!-- 32&#45;&gt;34 -->\r\n",
       "<g id=\"edge34\" class=\"edge\"><title>32&#45;&gt;34</title>\r\n",
       "<path fill=\"none\" stroke=\"black\" d=\"M1176,-579.907C1176,-569.204 1176,-557.615 1176,-546.776\"/>\r\n",
       "<polygon fill=\"black\" stroke=\"black\" points=\"1179.5,-546.667 1176,-536.667 1172.5,-546.667 1179.5,-546.667\"/>\r\n",
       "</g>\r\n",
       "<!-- 36 -->\r\n",
       "<g id=\"node37\" class=\"node\"><title>36</title>\r\n",
       "<path fill=\"#eead7e\" stroke=\"black\" d=\"M1356,-536.5C1356,-536.5 1264,-536.5 1264,-536.5 1258,-536.5 1252,-530.5 1252,-524.5 1252,-524.5 1252,-480.5 1252,-480.5 1252,-474.5 1258,-468.5 1264,-468.5 1264,-468.5 1356,-468.5 1356,-468.5 1362,-468.5 1368,-474.5 1368,-480.5 1368,-480.5 1368,-524.5 1368,-524.5 1368,-530.5 1362,-536.5 1356,-536.5\"/>\r\n",
       "<text text-anchor=\"middle\" x=\"1310\" y=\"-521.3\" font-family=\"Helvetica,sans-Serif\" font-size=\"14.00\">entropy = 0.826</text>\r\n",
       "<text text-anchor=\"middle\" x=\"1310\" y=\"-506.3\" font-family=\"Helvetica,sans-Serif\" font-size=\"14.00\">samples = 27</text>\r\n",
       "<text text-anchor=\"middle\" x=\"1310\" y=\"-491.3\" font-family=\"Helvetica,sans-Serif\" font-size=\"14.00\">value = [20, 7]</text>\r\n",
       "<text text-anchor=\"middle\" x=\"1310\" y=\"-476.3\" font-family=\"Helvetica,sans-Serif\" font-size=\"14.00\">class = y[0]</text>\r\n",
       "</g>\r\n",
       "<!-- 35&#45;&gt;36 -->\r\n",
       "<g id=\"edge36\" class=\"edge\"><title>35&#45;&gt;36</title>\r\n",
       "<path fill=\"none\" stroke=\"black\" d=\"M1310,-579.907C1310,-569.204 1310,-557.615 1310,-546.776\"/>\r\n",
       "<polygon fill=\"black\" stroke=\"black\" points=\"1313.5,-546.667 1310,-536.667 1306.5,-546.667 1313.5,-546.667\"/>\r\n",
       "</g>\r\n",
       "<!-- 37 -->\r\n",
       "<g id=\"node38\" class=\"node\"><title>37</title>\r\n",
       "<path fill=\"#fbeade\" stroke=\"black\" d=\"M1490,-544C1490,-544 1398,-544 1398,-544 1392,-544 1386,-538 1386,-532 1386,-532 1386,-473 1386,-473 1386,-467 1392,-461 1398,-461 1398,-461 1490,-461 1490,-461 1496,-461 1502,-467 1502,-473 1502,-473 1502,-532 1502,-532 1502,-538 1496,-544 1490,-544\"/>\r\n",
       "<text text-anchor=\"middle\" x=\"1444\" y=\"-528.8\" font-family=\"Helvetica,sans-Serif\" font-size=\"14.00\">Fare &lt;= 59.087</text>\r\n",
       "<text text-anchor=\"middle\" x=\"1444\" y=\"-513.8\" font-family=\"Helvetica,sans-Serif\" font-size=\"14.00\">entropy = 0.994</text>\r\n",
       "<text text-anchor=\"middle\" x=\"1444\" y=\"-498.8\" font-family=\"Helvetica,sans-Serif\" font-size=\"14.00\">samples = 55</text>\r\n",
       "<text text-anchor=\"middle\" x=\"1444\" y=\"-483.8\" font-family=\"Helvetica,sans-Serif\" font-size=\"14.00\">value = [30, 25]</text>\r\n",
       "<text text-anchor=\"middle\" x=\"1444\" y=\"-468.8\" font-family=\"Helvetica,sans-Serif\" font-size=\"14.00\">class = y[0]</text>\r\n",
       "</g>\r\n",
       "<!-- 35&#45;&gt;37 -->\r\n",
       "<g id=\"edge37\" class=\"edge\"><title>35&#45;&gt;37</title>\r\n",
       "<path fill=\"none\" stroke=\"black\" d=\"M1356.49,-579.907C1367.3,-570.469 1378.9,-560.343 1390,-550.649\"/>\r\n",
       "<polygon fill=\"black\" stroke=\"black\" points=\"1392.36,-553.234 1397.59,-544.021 1387.76,-547.961 1392.36,-553.234\"/>\r\n",
       "</g>\r\n",
       "<!-- 38 -->\r\n",
       "<g id=\"node39\" class=\"node\"><title>38</title>\r\n",
       "<path fill=\"#93caf1\" stroke=\"black\" d=\"M1423,-417.5C1423,-417.5 1331,-417.5 1331,-417.5 1325,-417.5 1319,-411.5 1319,-405.5 1319,-405.5 1319,-361.5 1319,-361.5 1319,-355.5 1325,-349.5 1331,-349.5 1331,-349.5 1423,-349.5 1423,-349.5 1429,-349.5 1435,-355.5 1435,-361.5 1435,-361.5 1435,-405.5 1435,-405.5 1435,-411.5 1429,-417.5 1423,-417.5\"/>\r\n",
       "<text text-anchor=\"middle\" x=\"1377\" y=\"-402.3\" font-family=\"Helvetica,sans-Serif\" font-size=\"14.00\">entropy = 0.896</text>\r\n",
       "<text text-anchor=\"middle\" x=\"1377\" y=\"-387.3\" font-family=\"Helvetica,sans-Serif\" font-size=\"14.00\">samples = 16</text>\r\n",
       "<text text-anchor=\"middle\" x=\"1377\" y=\"-372.3\" font-family=\"Helvetica,sans-Serif\" font-size=\"14.00\">value = [5, 11]</text>\r\n",
       "<text text-anchor=\"middle\" x=\"1377\" y=\"-357.3\" font-family=\"Helvetica,sans-Serif\" font-size=\"14.00\">class = y[1]</text>\r\n",
       "</g>\r\n",
       "<!-- 37&#45;&gt;38 -->\r\n",
       "<g id=\"edge38\" class=\"edge\"><title>37&#45;&gt;38</title>\r\n",
       "<path fill=\"none\" stroke=\"black\" d=\"M1420.75,-460.907C1414.37,-449.763 1407.44,-437.658 1401.02,-426.439\"/>\r\n",
       "<polygon fill=\"black\" stroke=\"black\" points=\"1404,-424.606 1395.99,-417.667 1397.93,-428.084 1404,-424.606\"/>\r\n",
       "</g>\r\n",
       "<!-- 39 -->\r\n",
       "<g id=\"node40\" class=\"node\"><title>39</title>\r\n",
       "<path fill=\"#f4c8a8\" stroke=\"black\" d=\"M1557,-425C1557,-425 1465,-425 1465,-425 1459,-425 1453,-419 1453,-413 1453,-413 1453,-354 1453,-354 1453,-348 1459,-342 1465,-342 1465,-342 1557,-342 1557,-342 1563,-342 1569,-348 1569,-354 1569,-354 1569,-413 1569,-413 1569,-419 1563,-425 1557,-425\"/>\r\n",
       "<text text-anchor=\"middle\" x=\"1511\" y=\"-409.8\" font-family=\"Helvetica,sans-Serif\" font-size=\"14.00\">Fare &lt;= 86.29</text>\r\n",
       "<text text-anchor=\"middle\" x=\"1511\" y=\"-394.8\" font-family=\"Helvetica,sans-Serif\" font-size=\"14.00\">entropy = 0.942</text>\r\n",
       "<text text-anchor=\"middle\" x=\"1511\" y=\"-379.8\" font-family=\"Helvetica,sans-Serif\" font-size=\"14.00\">samples = 39</text>\r\n",
       "<text text-anchor=\"middle\" x=\"1511\" y=\"-364.8\" font-family=\"Helvetica,sans-Serif\" font-size=\"14.00\">value = [25, 14]</text>\r\n",
       "<text text-anchor=\"middle\" x=\"1511\" y=\"-349.8\" font-family=\"Helvetica,sans-Serif\" font-size=\"14.00\">class = y[0]</text>\r\n",
       "</g>\r\n",
       "<!-- 37&#45;&gt;39 -->\r\n",
       "<g id=\"edge39\" class=\"edge\"><title>37&#45;&gt;39</title>\r\n",
       "<path fill=\"none\" stroke=\"black\" d=\"M1467.25,-460.907C1472.23,-452.195 1477.56,-442.897 1482.71,-433.893\"/>\r\n",
       "<polygon fill=\"black\" stroke=\"black\" points=\"1485.86,-435.438 1487.8,-425.021 1479.79,-431.959 1485.86,-435.438\"/>\r\n",
       "</g>\r\n",
       "<!-- 40 -->\r\n",
       "<g id=\"node41\" class=\"node\"><title>40</title>\r\n",
       "<path fill=\"#eca36e\" stroke=\"black\" d=\"M1490,-298.5C1490,-298.5 1398,-298.5 1398,-298.5 1392,-298.5 1386,-292.5 1386,-286.5 1386,-286.5 1386,-242.5 1386,-242.5 1386,-236.5 1392,-230.5 1398,-230.5 1398,-230.5 1490,-230.5 1490,-230.5 1496,-230.5 1502,-236.5 1502,-242.5 1502,-242.5 1502,-286.5 1502,-286.5 1502,-292.5 1496,-298.5 1490,-298.5\"/>\r\n",
       "<text text-anchor=\"middle\" x=\"1444\" y=\"-283.3\" font-family=\"Helvetica,sans-Serif\" font-size=\"14.00\">entropy = 0.742</text>\r\n",
       "<text text-anchor=\"middle\" x=\"1444\" y=\"-268.3\" font-family=\"Helvetica,sans-Serif\" font-size=\"14.00\">samples = 19</text>\r\n",
       "<text text-anchor=\"middle\" x=\"1444\" y=\"-253.3\" font-family=\"Helvetica,sans-Serif\" font-size=\"14.00\">value = [15, 4]</text>\r\n",
       "<text text-anchor=\"middle\" x=\"1444\" y=\"-238.3\" font-family=\"Helvetica,sans-Serif\" font-size=\"14.00\">class = y[0]</text>\r\n",
       "</g>\r\n",
       "<!-- 39&#45;&gt;40 -->\r\n",
       "<g id=\"edge40\" class=\"edge\"><title>39&#45;&gt;40</title>\r\n",
       "<path fill=\"none\" stroke=\"black\" d=\"M1487.75,-341.907C1481.37,-330.763 1474.44,-318.658 1468.02,-307.439\"/>\r\n",
       "<polygon fill=\"black\" stroke=\"black\" points=\"1471,-305.606 1462.99,-298.667 1464.93,-309.084 1471,-305.606\"/>\r\n",
       "</g>\r\n",
       "<!-- 41 -->\r\n",
       "<g id=\"node42\" class=\"node\"><title>41</title>\r\n",
       "<path fill=\"#ffffff\" stroke=\"black\" d=\"M1621.5,-298.5C1621.5,-298.5 1532.5,-298.5 1532.5,-298.5 1526.5,-298.5 1520.5,-292.5 1520.5,-286.5 1520.5,-286.5 1520.5,-242.5 1520.5,-242.5 1520.5,-236.5 1526.5,-230.5 1532.5,-230.5 1532.5,-230.5 1621.5,-230.5 1621.5,-230.5 1627.5,-230.5 1633.5,-236.5 1633.5,-242.5 1633.5,-242.5 1633.5,-286.5 1633.5,-286.5 1633.5,-292.5 1627.5,-298.5 1621.5,-298.5\"/>\r\n",
       "<text text-anchor=\"middle\" x=\"1577\" y=\"-283.3\" font-family=\"Helvetica,sans-Serif\" font-size=\"14.00\">entropy = 1.0</text>\r\n",
       "<text text-anchor=\"middle\" x=\"1577\" y=\"-268.3\" font-family=\"Helvetica,sans-Serif\" font-size=\"14.00\">samples = 20</text>\r\n",
       "<text text-anchor=\"middle\" x=\"1577\" y=\"-253.3\" font-family=\"Helvetica,sans-Serif\" font-size=\"14.00\">value = [10, 10]</text>\r\n",
       "<text text-anchor=\"middle\" x=\"1577\" y=\"-238.3\" font-family=\"Helvetica,sans-Serif\" font-size=\"14.00\">class = y[0]</text>\r\n",
       "</g>\r\n",
       "<!-- 39&#45;&gt;41 -->\r\n",
       "<g id=\"edge41\" class=\"edge\"><title>39&#45;&gt;41</title>\r\n",
       "<path fill=\"none\" stroke=\"black\" d=\"M1533.9,-341.907C1540.19,-330.763 1547.01,-318.658 1553.34,-307.439\"/>\r\n",
       "<polygon fill=\"black\" stroke=\"black\" points=\"1556.43,-309.096 1558.29,-298.667 1550.33,-305.657 1556.43,-309.096\"/>\r\n",
       "</g>\r\n",
       "<!-- 45 -->\r\n",
       "<g id=\"node46\" class=\"node\"><title>45</title>\r\n",
       "<path fill=\"#44a2e6\" stroke=\"black\" d=\"M1689,-1020C1689,-1020 1597,-1020 1597,-1020 1591,-1020 1585,-1014 1585,-1008 1585,-1008 1585,-949 1585,-949 1585,-943 1591,-937 1597,-937 1597,-937 1689,-937 1689,-937 1695,-937 1701,-943 1701,-949 1701,-949 1701,-1008 1701,-1008 1701,-1014 1695,-1020 1689,-1020\"/>\r\n",
       "<text text-anchor=\"middle\" x=\"1643\" y=\"-1004.8\" font-family=\"Helvetica,sans-Serif\" font-size=\"14.00\">Fare &lt;= 28.856</text>\r\n",
       "<text text-anchor=\"middle\" x=\"1643\" y=\"-989.8\" font-family=\"Helvetica,sans-Serif\" font-size=\"14.00\">entropy = 0.299</text>\r\n",
       "<text text-anchor=\"middle\" x=\"1643\" y=\"-974.8\" font-family=\"Helvetica,sans-Serif\" font-size=\"14.00\">samples = 170</text>\r\n",
       "<text text-anchor=\"middle\" x=\"1643\" y=\"-959.8\" font-family=\"Helvetica,sans-Serif\" font-size=\"14.00\">value = [9, 161]</text>\r\n",
       "<text text-anchor=\"middle\" x=\"1643\" y=\"-944.8\" font-family=\"Helvetica,sans-Serif\" font-size=\"14.00\">class = y[1]</text>\r\n",
       "</g>\r\n",
       "<!-- 44&#45;&gt;45 -->\r\n",
       "<g id=\"edge45\" class=\"edge\"><title>44&#45;&gt;45</title>\r\n",
       "<path fill=\"none\" stroke=\"black\" d=\"M1643,-1055.91C1643,-1047.65 1643,-1038.86 1643,-1030.3\"/>\r\n",
       "<polygon fill=\"black\" stroke=\"black\" points=\"1646.5,-1030.02 1643,-1020.02 1639.5,-1030.02 1646.5,-1030.02\"/>\r\n",
       "</g>\r\n",
       "<!-- 56 -->\r\n",
       "<g id=\"node57\" class=\"node\"><title>56</title>\r\n",
       "<path fill=\"#ffffff\" stroke=\"black\" d=\"M2013.5,-1020C2013.5,-1020 1924.5,-1020 1924.5,-1020 1918.5,-1020 1912.5,-1014 1912.5,-1008 1912.5,-1008 1912.5,-949 1912.5,-949 1912.5,-943 1918.5,-937 1924.5,-937 1924.5,-937 2013.5,-937 2013.5,-937 2019.5,-937 2025.5,-943 2025.5,-949 2025.5,-949 2025.5,-1008 2025.5,-1008 2025.5,-1014 2019.5,-1020 2013.5,-1020\"/>\r\n",
       "<text text-anchor=\"middle\" x=\"1969\" y=\"-1004.8\" font-family=\"Helvetica,sans-Serif\" font-size=\"14.00\">Fare &lt;= 23.35</text>\r\n",
       "<text text-anchor=\"middle\" x=\"1969\" y=\"-989.8\" font-family=\"Helvetica,sans-Serif\" font-size=\"14.00\">entropy = 1.0</text>\r\n",
       "<text text-anchor=\"middle\" x=\"1969\" y=\"-974.8\" font-family=\"Helvetica,sans-Serif\" font-size=\"14.00\">samples = 144</text>\r\n",
       "<text text-anchor=\"middle\" x=\"1969\" y=\"-959.8\" font-family=\"Helvetica,sans-Serif\" font-size=\"14.00\">value = [72, 72]</text>\r\n",
       "<text text-anchor=\"middle\" x=\"1969\" y=\"-944.8\" font-family=\"Helvetica,sans-Serif\" font-size=\"14.00\">class = y[0]</text>\r\n",
       "</g>\r\n",
       "<!-- 44&#45;&gt;56 -->\r\n",
       "<g id=\"edge56\" class=\"edge\"><title>44&#45;&gt;56</title>\r\n",
       "<path fill=\"none\" stroke=\"black\" d=\"M1704.32,-1074.49C1760.93,-1054.18 1844.78,-1024.08 1902.87,-1003.23\"/>\r\n",
       "<polygon fill=\"black\" stroke=\"black\" points=\"1904.09,-1006.51 1912.32,-999.842 1901.73,-999.926 1904.09,-1006.51\"/>\r\n",
       "</g>\r\n",
       "<!-- 46 -->\r\n",
       "<g id=\"node47\" class=\"node\"><title>46</title>\r\n",
       "<path fill=\"#4fa8e8\" stroke=\"black\" d=\"M1622,-901C1622,-901 1530,-901 1530,-901 1524,-901 1518,-895 1518,-889 1518,-889 1518,-830 1518,-830 1518,-824 1524,-818 1530,-818 1530,-818 1622,-818 1622,-818 1628,-818 1634,-824 1634,-830 1634,-830 1634,-889 1634,-889 1634,-895 1628,-901 1622,-901\"/>\r\n",
       "<text text-anchor=\"middle\" x=\"1576\" y=\"-885.8\" font-family=\"Helvetica,sans-Serif\" font-size=\"14.00\">Age &lt;= 23.5</text>\r\n",
       "<text text-anchor=\"middle\" x=\"1576\" y=\"-870.8\" font-family=\"Helvetica,sans-Serif\" font-size=\"14.00\">entropy = 0.469</text>\r\n",
       "<text text-anchor=\"middle\" x=\"1576\" y=\"-855.8\" font-family=\"Helvetica,sans-Serif\" font-size=\"14.00\">samples = 70</text>\r\n",
       "<text text-anchor=\"middle\" x=\"1576\" y=\"-840.8\" font-family=\"Helvetica,sans-Serif\" font-size=\"14.00\">value = [7, 63]</text>\r\n",
       "<text text-anchor=\"middle\" x=\"1576\" y=\"-825.8\" font-family=\"Helvetica,sans-Serif\" font-size=\"14.00\">class = y[1]</text>\r\n",
       "</g>\r\n",
       "<!-- 45&#45;&gt;46 -->\r\n",
       "<g id=\"edge46\" class=\"edge\"><title>45&#45;&gt;46</title>\r\n",
       "<path fill=\"none\" stroke=\"black\" d=\"M1619.75,-936.907C1614.77,-928.195 1609.44,-918.897 1604.29,-909.893\"/>\r\n",
       "<polygon fill=\"black\" stroke=\"black\" points=\"1607.21,-907.959 1599.2,-901.021 1601.14,-911.438 1607.21,-907.959\"/>\r\n",
       "</g>\r\n",
       "<!-- 53 -->\r\n",
       "<g id=\"node54\" class=\"node\"><title>53</title>\r\n",
       "<path fill=\"#3d9fe6\" stroke=\"black\" d=\"M1756,-901C1756,-901 1664,-901 1664,-901 1658,-901 1652,-895 1652,-889 1652,-889 1652,-830 1652,-830 1652,-824 1658,-818 1664,-818 1664,-818 1756,-818 1756,-818 1762,-818 1768,-824 1768,-830 1768,-830 1768,-889 1768,-889 1768,-895 1762,-901 1756,-901\"/>\r\n",
       "<text text-anchor=\"middle\" x=\"1710\" y=\"-885.8\" font-family=\"Helvetica,sans-Serif\" font-size=\"14.00\">Parch &lt;= 1.5</text>\r\n",
       "<text text-anchor=\"middle\" x=\"1710\" y=\"-870.8\" font-family=\"Helvetica,sans-Serif\" font-size=\"14.00\">entropy = 0.141</text>\r\n",
       "<text text-anchor=\"middle\" x=\"1710\" y=\"-855.8\" font-family=\"Helvetica,sans-Serif\" font-size=\"14.00\">samples = 100</text>\r\n",
       "<text text-anchor=\"middle\" x=\"1710\" y=\"-840.8\" font-family=\"Helvetica,sans-Serif\" font-size=\"14.00\">value = [2, 98]</text>\r\n",
       "<text text-anchor=\"middle\" x=\"1710\" y=\"-825.8\" font-family=\"Helvetica,sans-Serif\" font-size=\"14.00\">class = y[1]</text>\r\n",
       "</g>\r\n",
       "<!-- 45&#45;&gt;53 -->\r\n",
       "<g id=\"edge53\" class=\"edge\"><title>45&#45;&gt;53</title>\r\n",
       "<path fill=\"none\" stroke=\"black\" d=\"M1666.25,-936.907C1671.23,-928.195 1676.56,-918.897 1681.71,-909.893\"/>\r\n",
       "<polygon fill=\"black\" stroke=\"black\" points=\"1684.86,-911.438 1686.8,-901.021 1678.79,-907.959 1684.86,-911.438\"/>\r\n",
       "</g>\r\n",
       "<!-- 47 -->\r\n",
       "<g id=\"node48\" class=\"node\"><title>47</title>\r\n",
       "<path fill=\"#399de5\" stroke=\"black\" d=\"M1495.5,-774.5C1495.5,-774.5 1414.5,-774.5 1414.5,-774.5 1408.5,-774.5 1402.5,-768.5 1402.5,-762.5 1402.5,-762.5 1402.5,-718.5 1402.5,-718.5 1402.5,-712.5 1408.5,-706.5 1414.5,-706.5 1414.5,-706.5 1495.5,-706.5 1495.5,-706.5 1501.5,-706.5 1507.5,-712.5 1507.5,-718.5 1507.5,-718.5 1507.5,-762.5 1507.5,-762.5 1507.5,-768.5 1501.5,-774.5 1495.5,-774.5\"/>\r\n",
       "<text text-anchor=\"middle\" x=\"1455\" y=\"-759.3\" font-family=\"Helvetica,sans-Serif\" font-size=\"14.00\">entropy = 0.0</text>\r\n",
       "<text text-anchor=\"middle\" x=\"1455\" y=\"-744.3\" font-family=\"Helvetica,sans-Serif\" font-size=\"14.00\">samples = 15</text>\r\n",
       "<text text-anchor=\"middle\" x=\"1455\" y=\"-729.3\" font-family=\"Helvetica,sans-Serif\" font-size=\"14.00\">value = [0, 15]</text>\r\n",
       "<text text-anchor=\"middle\" x=\"1455\" y=\"-714.3\" font-family=\"Helvetica,sans-Serif\" font-size=\"14.00\">class = y[1]</text>\r\n",
       "</g>\r\n",
       "<!-- 46&#45;&gt;47 -->\r\n",
       "<g id=\"edge47\" class=\"edge\"><title>46&#45;&gt;47</title>\r\n",
       "<path fill=\"none\" stroke=\"black\" d=\"M1534.02,-817.907C1521.92,-806.211 1508.73,-793.457 1496.66,-781.78\"/>\r\n",
       "<polygon fill=\"black\" stroke=\"black\" points=\"1498.92,-779.102 1489.3,-774.667 1494.06,-784.134 1498.92,-779.102\"/>\r\n",
       "</g>\r\n",
       "<!-- 48 -->\r\n",
       "<g id=\"node49\" class=\"node\"><title>48</title>\r\n",
       "<path fill=\"#56abe9\" stroke=\"black\" d=\"M1622,-782C1622,-782 1538,-782 1538,-782 1532,-782 1526,-776 1526,-770 1526,-770 1526,-711 1526,-711 1526,-705 1532,-699 1538,-699 1538,-699 1622,-699 1622,-699 1628,-699 1634,-705 1634,-711 1634,-711 1634,-770 1634,-770 1634,-776 1628,-782 1622,-782\"/>\r\n",
       "<text text-anchor=\"middle\" x=\"1580\" y=\"-766.8\" font-family=\"Helvetica,sans-Serif\" font-size=\"14.00\">Age &lt;= 37.0</text>\r\n",
       "<text text-anchor=\"middle\" x=\"1580\" y=\"-751.8\" font-family=\"Helvetica,sans-Serif\" font-size=\"14.00\">entropy = 0.55</text>\r\n",
       "<text text-anchor=\"middle\" x=\"1580\" y=\"-736.8\" font-family=\"Helvetica,sans-Serif\" font-size=\"14.00\">samples = 55</text>\r\n",
       "<text text-anchor=\"middle\" x=\"1580\" y=\"-721.8\" font-family=\"Helvetica,sans-Serif\" font-size=\"14.00\">value = [7, 48]</text>\r\n",
       "<text text-anchor=\"middle\" x=\"1580\" y=\"-706.8\" font-family=\"Helvetica,sans-Serif\" font-size=\"14.00\">class = y[1]</text>\r\n",
       "</g>\r\n",
       "<!-- 46&#45;&gt;48 -->\r\n",
       "<g id=\"edge48\" class=\"edge\"><title>46&#45;&gt;48</title>\r\n",
       "<path fill=\"none\" stroke=\"black\" d=\"M1577.39,-817.907C1577.67,-809.558 1577.98,-800.671 1578.27,-792.02\"/>\r\n",
       "<polygon fill=\"black\" stroke=\"black\" points=\"1581.77,-792.135 1578.61,-782.021 1574.77,-791.895 1581.77,-792.135\"/>\r\n",
       "</g>\r\n",
       "<!-- 49 -->\r\n",
       "<g id=\"node50\" class=\"node\"><title>49</title>\r\n",
       "<path fill=\"#4ca6e7\" stroke=\"black\" d=\"M1626,-663C1626,-663 1534,-663 1534,-663 1528,-663 1522,-657 1522,-651 1522,-651 1522,-592 1522,-592 1522,-586 1528,-580 1534,-580 1534,-580 1626,-580 1626,-580 1632,-580 1638,-586 1638,-592 1638,-592 1638,-651 1638,-651 1638,-657 1632,-663 1626,-663\"/>\r\n",
       "<text text-anchor=\"middle\" x=\"1580\" y=\"-647.8\" font-family=\"Helvetica,sans-Serif\" font-size=\"14.00\">Age &lt;= 28.5</text>\r\n",
       "<text text-anchor=\"middle\" x=\"1580\" y=\"-632.8\" font-family=\"Helvetica,sans-Serif\" font-size=\"14.00\">entropy = 0.422</text>\r\n",
       "<text text-anchor=\"middle\" x=\"1580\" y=\"-617.8\" font-family=\"Helvetica,sans-Serif\" font-size=\"14.00\">samples = 35</text>\r\n",
       "<text text-anchor=\"middle\" x=\"1580\" y=\"-602.8\" font-family=\"Helvetica,sans-Serif\" font-size=\"14.00\">value = [3, 32]</text>\r\n",
       "<text text-anchor=\"middle\" x=\"1580\" y=\"-587.8\" font-family=\"Helvetica,sans-Serif\" font-size=\"14.00\">class = y[1]</text>\r\n",
       "</g>\r\n",
       "<!-- 48&#45;&gt;49 -->\r\n",
       "<g id=\"edge49\" class=\"edge\"><title>48&#45;&gt;49</title>\r\n",
       "<path fill=\"none\" stroke=\"black\" d=\"M1580,-698.907C1580,-690.649 1580,-681.864 1580,-673.302\"/>\r\n",
       "<polygon fill=\"black\" stroke=\"black\" points=\"1583.5,-673.021 1580,-663.021 1576.5,-673.021 1583.5,-673.021\"/>\r\n",
       "</g>\r\n",
       "<!-- 52 -->\r\n",
       "<g id=\"node53\" class=\"node\"><title>52</title>\r\n",
       "<path fill=\"#6ab6ec\" stroke=\"black\" d=\"M1760,-655.5C1760,-655.5 1668,-655.5 1668,-655.5 1662,-655.5 1656,-649.5 1656,-643.5 1656,-643.5 1656,-599.5 1656,-599.5 1656,-593.5 1662,-587.5 1668,-587.5 1668,-587.5 1760,-587.5 1760,-587.5 1766,-587.5 1772,-593.5 1772,-599.5 1772,-599.5 1772,-643.5 1772,-643.5 1772,-649.5 1766,-655.5 1760,-655.5\"/>\r\n",
       "<text text-anchor=\"middle\" x=\"1714\" y=\"-640.3\" font-family=\"Helvetica,sans-Serif\" font-size=\"14.00\">entropy = 0.722</text>\r\n",
       "<text text-anchor=\"middle\" x=\"1714\" y=\"-625.3\" font-family=\"Helvetica,sans-Serif\" font-size=\"14.00\">samples = 20</text>\r\n",
       "<text text-anchor=\"middle\" x=\"1714\" y=\"-610.3\" font-family=\"Helvetica,sans-Serif\" font-size=\"14.00\">value = [4, 16]</text>\r\n",
       "<text text-anchor=\"middle\" x=\"1714\" y=\"-595.3\" font-family=\"Helvetica,sans-Serif\" font-size=\"14.00\">class = y[1]</text>\r\n",
       "</g>\r\n",
       "<!-- 48&#45;&gt;52 -->\r\n",
       "<g id=\"edge52\" class=\"edge\"><title>48&#45;&gt;52</title>\r\n",
       "<path fill=\"none\" stroke=\"black\" d=\"M1626.49,-698.907C1640.01,-687.101 1654.77,-674.217 1668.25,-662.45\"/>\r\n",
       "<polygon fill=\"black\" stroke=\"black\" points=\"1670.78,-664.881 1676.01,-655.667 1666.18,-659.608 1670.78,-664.881\"/>\r\n",
       "</g>\r\n",
       "<!-- 50 -->\r\n",
       "<g id=\"node51\" class=\"node\"><title>50</title>\r\n",
       "<path fill=\"#63b2eb\" stroke=\"black\" d=\"M1624,-536.5C1624,-536.5 1532,-536.5 1532,-536.5 1526,-536.5 1520,-530.5 1520,-524.5 1520,-524.5 1520,-480.5 1520,-480.5 1520,-474.5 1526,-468.5 1532,-468.5 1532,-468.5 1624,-468.5 1624,-468.5 1630,-468.5 1636,-474.5 1636,-480.5 1636,-480.5 1636,-524.5 1636,-524.5 1636,-530.5 1630,-536.5 1624,-536.5\"/>\r\n",
       "<text text-anchor=\"middle\" x=\"1578\" y=\"-521.3\" font-family=\"Helvetica,sans-Serif\" font-size=\"14.00\">entropy = 0.672</text>\r\n",
       "<text text-anchor=\"middle\" x=\"1578\" y=\"-506.3\" font-family=\"Helvetica,sans-Serif\" font-size=\"14.00\">samples = 17</text>\r\n",
       "<text text-anchor=\"middle\" x=\"1578\" y=\"-491.3\" font-family=\"Helvetica,sans-Serif\" font-size=\"14.00\">value = [3, 14]</text>\r\n",
       "<text text-anchor=\"middle\" x=\"1578\" y=\"-476.3\" font-family=\"Helvetica,sans-Serif\" font-size=\"14.00\">class = y[1]</text>\r\n",
       "</g>\r\n",
       "<!-- 49&#45;&gt;50 -->\r\n",
       "<g id=\"edge50\" class=\"edge\"><title>49&#45;&gt;50</title>\r\n",
       "<path fill=\"none\" stroke=\"black\" d=\"M1579.31,-579.907C1579.12,-569.204 1578.93,-557.615 1578.74,-546.776\"/>\r\n",
       "<polygon fill=\"black\" stroke=\"black\" points=\"1582.24,-546.606 1578.57,-536.667 1575.24,-546.725 1582.24,-546.606\"/>\r\n",
       "</g>\r\n",
       "<!-- 51 -->\r\n",
       "<g id=\"node52\" class=\"node\"><title>51</title>\r\n",
       "<path fill=\"#399de5\" stroke=\"black\" d=\"M1747.5,-536.5C1747.5,-536.5 1666.5,-536.5 1666.5,-536.5 1660.5,-536.5 1654.5,-530.5 1654.5,-524.5 1654.5,-524.5 1654.5,-480.5 1654.5,-480.5 1654.5,-474.5 1660.5,-468.5 1666.5,-468.5 1666.5,-468.5 1747.5,-468.5 1747.5,-468.5 1753.5,-468.5 1759.5,-474.5 1759.5,-480.5 1759.5,-480.5 1759.5,-524.5 1759.5,-524.5 1759.5,-530.5 1753.5,-536.5 1747.5,-536.5\"/>\r\n",
       "<text text-anchor=\"middle\" x=\"1707\" y=\"-521.3\" font-family=\"Helvetica,sans-Serif\" font-size=\"14.00\">entropy = 0.0</text>\r\n",
       "<text text-anchor=\"middle\" x=\"1707\" y=\"-506.3\" font-family=\"Helvetica,sans-Serif\" font-size=\"14.00\">samples = 18</text>\r\n",
       "<text text-anchor=\"middle\" x=\"1707\" y=\"-491.3\" font-family=\"Helvetica,sans-Serif\" font-size=\"14.00\">value = [0, 18]</text>\r\n",
       "<text text-anchor=\"middle\" x=\"1707\" y=\"-476.3\" font-family=\"Helvetica,sans-Serif\" font-size=\"14.00\">class = y[1]</text>\r\n",
       "</g>\r\n",
       "<!-- 49&#45;&gt;51 -->\r\n",
       "<g id=\"edge51\" class=\"edge\"><title>49&#45;&gt;51</title>\r\n",
       "<path fill=\"none\" stroke=\"black\" d=\"M1624.06,-579.907C1636.88,-568.101 1650.86,-555.217 1663.64,-543.45\"/>\r\n",
       "<polygon fill=\"black\" stroke=\"black\" points=\"1666.02,-546.017 1671,-536.667 1661.27,-540.868 1666.02,-546.017\"/>\r\n",
       "</g>\r\n",
       "<!-- 54 -->\r\n",
       "<g id=\"node55\" class=\"node\"><title>54</title>\r\n",
       "<path fill=\"#399de5\" stroke=\"black\" d=\"M1746.5,-774.5C1746.5,-774.5 1665.5,-774.5 1665.5,-774.5 1659.5,-774.5 1653.5,-768.5 1653.5,-762.5 1653.5,-762.5 1653.5,-718.5 1653.5,-718.5 1653.5,-712.5 1659.5,-706.5 1665.5,-706.5 1665.5,-706.5 1746.5,-706.5 1746.5,-706.5 1752.5,-706.5 1758.5,-712.5 1758.5,-718.5 1758.5,-718.5 1758.5,-762.5 1758.5,-762.5 1758.5,-768.5 1752.5,-774.5 1746.5,-774.5\"/>\r\n",
       "<text text-anchor=\"middle\" x=\"1706\" y=\"-759.3\" font-family=\"Helvetica,sans-Serif\" font-size=\"14.00\">entropy = 0.0</text>\r\n",
       "<text text-anchor=\"middle\" x=\"1706\" y=\"-744.3\" font-family=\"Helvetica,sans-Serif\" font-size=\"14.00\">samples = 84</text>\r\n",
       "<text text-anchor=\"middle\" x=\"1706\" y=\"-729.3\" font-family=\"Helvetica,sans-Serif\" font-size=\"14.00\">value = [0, 84]</text>\r\n",
       "<text text-anchor=\"middle\" x=\"1706\" y=\"-714.3\" font-family=\"Helvetica,sans-Serif\" font-size=\"14.00\">class = y[1]</text>\r\n",
       "</g>\r\n",
       "<!-- 53&#45;&gt;54 -->\r\n",
       "<g id=\"edge54\" class=\"edge\"><title>53&#45;&gt;54</title>\r\n",
       "<path fill=\"none\" stroke=\"black\" d=\"M1708.61,-817.907C1708.25,-807.204 1707.85,-795.615 1707.48,-784.776\"/>\r\n",
       "<polygon fill=\"black\" stroke=\"black\" points=\"1710.97,-784.541 1707.13,-774.667 1703.98,-784.781 1710.97,-784.541\"/>\r\n",
       "</g>\r\n",
       "<!-- 55 -->\r\n",
       "<g id=\"node56\" class=\"node\"><title>55</title>\r\n",
       "<path fill=\"#55abe9\" stroke=\"black\" d=\"M1881,-774.5C1881,-774.5 1789,-774.5 1789,-774.5 1783,-774.5 1777,-768.5 1777,-762.5 1777,-762.5 1777,-718.5 1777,-718.5 1777,-712.5 1783,-706.5 1789,-706.5 1789,-706.5 1881,-706.5 1881,-706.5 1887,-706.5 1893,-712.5 1893,-718.5 1893,-718.5 1893,-762.5 1893,-762.5 1893,-768.5 1887,-774.5 1881,-774.5\"/>\r\n",
       "<text text-anchor=\"middle\" x=\"1835\" y=\"-759.3\" font-family=\"Helvetica,sans-Serif\" font-size=\"14.00\">entropy = 0.544</text>\r\n",
       "<text text-anchor=\"middle\" x=\"1835\" y=\"-744.3\" font-family=\"Helvetica,sans-Serif\" font-size=\"14.00\">samples = 16</text>\r\n",
       "<text text-anchor=\"middle\" x=\"1835\" y=\"-729.3\" font-family=\"Helvetica,sans-Serif\" font-size=\"14.00\">value = [2, 14]</text>\r\n",
       "<text text-anchor=\"middle\" x=\"1835\" y=\"-714.3\" font-family=\"Helvetica,sans-Serif\" font-size=\"14.00\">class = y[1]</text>\r\n",
       "</g>\r\n",
       "<!-- 53&#45;&gt;55 -->\r\n",
       "<g id=\"edge55\" class=\"edge\"><title>53&#45;&gt;55</title>\r\n",
       "<path fill=\"none\" stroke=\"black\" d=\"M1753.37,-817.907C1765.86,-806.211 1779.49,-793.457 1791.97,-781.78\"/>\r\n",
       "<polygon fill=\"black\" stroke=\"black\" points=\"1794.66,-784.056 1799.57,-774.667 1789.87,-778.945 1794.66,-784.056\"/>\r\n",
       "</g>\r\n",
       "<!-- 57 -->\r\n",
       "<g id=\"node58\" class=\"node\"><title>57</title>\r\n",
       "<path fill=\"#c3e1f7\" stroke=\"black\" d=\"M2015,-901C2015,-901 1923,-901 1923,-901 1917,-901 1911,-895 1911,-889 1911,-889 1911,-830 1911,-830 1911,-824 1917,-818 1923,-818 1923,-818 2015,-818 2015,-818 2021,-818 2027,-824 2027,-830 2027,-830 2027,-889 2027,-889 2027,-895 2021,-901 2015,-901\"/>\r\n",
       "<text text-anchor=\"middle\" x=\"1969\" y=\"-885.8\" font-family=\"Helvetica,sans-Serif\" font-size=\"14.00\">Age &lt;= 28.5</text>\r\n",
       "<text text-anchor=\"middle\" x=\"1969\" y=\"-870.8\" font-family=\"Helvetica,sans-Serif\" font-size=\"14.00\">entropy = 0.977</text>\r\n",
       "<text text-anchor=\"middle\" x=\"1969\" y=\"-855.8\" font-family=\"Helvetica,sans-Serif\" font-size=\"14.00\">samples = 117</text>\r\n",
       "<text text-anchor=\"middle\" x=\"1969\" y=\"-840.8\" font-family=\"Helvetica,sans-Serif\" font-size=\"14.00\">value = [48, 69]</text>\r\n",
       "<text text-anchor=\"middle\" x=\"1969\" y=\"-825.8\" font-family=\"Helvetica,sans-Serif\" font-size=\"14.00\">class = y[1]</text>\r\n",
       "</g>\r\n",
       "<!-- 56&#45;&gt;57 -->\r\n",
       "<g id=\"edge57\" class=\"edge\"><title>56&#45;&gt;57</title>\r\n",
       "<path fill=\"none\" stroke=\"black\" d=\"M1969,-936.907C1969,-928.649 1969,-919.864 1969,-911.302\"/>\r\n",
       "<polygon fill=\"black\" stroke=\"black\" points=\"1972.5,-911.021 1969,-901.021 1965.5,-911.021 1972.5,-911.021\"/>\r\n",
       "</g>\r\n",
       "<!-- 68 -->\r\n",
       "<g id=\"node69\" class=\"node\"><title>68</title>\r\n",
       "<path fill=\"#e89152\" stroke=\"black\" d=\"M2149,-893.5C2149,-893.5 2057,-893.5 2057,-893.5 2051,-893.5 2045,-887.5 2045,-881.5 2045,-881.5 2045,-837.5 2045,-837.5 2045,-831.5 2051,-825.5 2057,-825.5 2057,-825.5 2149,-825.5 2149,-825.5 2155,-825.5 2161,-831.5 2161,-837.5 2161,-837.5 2161,-881.5 2161,-881.5 2161,-887.5 2155,-893.5 2149,-893.5\"/>\r\n",
       "<text text-anchor=\"middle\" x=\"2103\" y=\"-878.3\" font-family=\"Helvetica,sans-Serif\" font-size=\"14.00\">entropy = 0.503</text>\r\n",
       "<text text-anchor=\"middle\" x=\"2103\" y=\"-863.3\" font-family=\"Helvetica,sans-Serif\" font-size=\"14.00\">samples = 27</text>\r\n",
       "<text text-anchor=\"middle\" x=\"2103\" y=\"-848.3\" font-family=\"Helvetica,sans-Serif\" font-size=\"14.00\">value = [24, 3]</text>\r\n",
       "<text text-anchor=\"middle\" x=\"2103\" y=\"-833.3\" font-family=\"Helvetica,sans-Serif\" font-size=\"14.00\">class = y[0]</text>\r\n",
       "</g>\r\n",
       "<!-- 56&#45;&gt;68 -->\r\n",
       "<g id=\"edge68\" class=\"edge\"><title>56&#45;&gt;68</title>\r\n",
       "<path fill=\"none\" stroke=\"black\" d=\"M2015.49,-936.907C2029.01,-925.101 2043.77,-912.217 2057.25,-900.45\"/>\r\n",
       "<polygon fill=\"black\" stroke=\"black\" points=\"2059.78,-902.881 2065.01,-893.667 2055.18,-897.608 2059.78,-902.881\"/>\r\n",
       "</g>\r\n",
       "<!-- 58 -->\r\n",
       "<g id=\"node59\" class=\"node\"><title>58</title>\r\n",
       "<path fill=\"#abd5f4\" stroke=\"black\" d=\"M2015,-782C2015,-782 1923,-782 1923,-782 1917,-782 1911,-776 1911,-770 1911,-770 1911,-711 1911,-711 1911,-705 1917,-699 1923,-699 1923,-699 2015,-699 2015,-699 2021,-699 2027,-705 2027,-711 2027,-711 2027,-770 2027,-770 2027,-776 2021,-782 2015,-782\"/>\r\n",
       "<text text-anchor=\"middle\" x=\"1969\" y=\"-766.8\" font-family=\"Helvetica,sans-Serif\" font-size=\"14.00\">Fare &lt;= 7.888</text>\r\n",
       "<text text-anchor=\"middle\" x=\"1969\" y=\"-751.8\" font-family=\"Helvetica,sans-Serif\" font-size=\"14.00\">entropy = 0.946</text>\r\n",
       "<text text-anchor=\"middle\" x=\"1969\" y=\"-736.8\" font-family=\"Helvetica,sans-Serif\" font-size=\"14.00\">samples = 96</text>\r\n",
       "<text text-anchor=\"middle\" x=\"1969\" y=\"-721.8\" font-family=\"Helvetica,sans-Serif\" font-size=\"14.00\">value = [35, 61]</text>\r\n",
       "<text text-anchor=\"middle\" x=\"1969\" y=\"-706.8\" font-family=\"Helvetica,sans-Serif\" font-size=\"14.00\">class = y[1]</text>\r\n",
       "</g>\r\n",
       "<!-- 57&#45;&gt;58 -->\r\n",
       "<g id=\"edge58\" class=\"edge\"><title>57&#45;&gt;58</title>\r\n",
       "<path fill=\"none\" stroke=\"black\" d=\"M1969,-817.907C1969,-809.649 1969,-800.864 1969,-792.302\"/>\r\n",
       "<polygon fill=\"black\" stroke=\"black\" points=\"1972.5,-792.021 1969,-782.021 1965.5,-792.021 1972.5,-792.021\"/>\r\n",
       "</g>\r\n",
       "<!-- 67 -->\r\n",
       "<g id=\"node68\" class=\"node\"><title>67</title>\r\n",
       "<path fill=\"#f5cfb3\" stroke=\"black\" d=\"M2149,-774.5C2149,-774.5 2057,-774.5 2057,-774.5 2051,-774.5 2045,-768.5 2045,-762.5 2045,-762.5 2045,-718.5 2045,-718.5 2045,-712.5 2051,-706.5 2057,-706.5 2057,-706.5 2149,-706.5 2149,-706.5 2155,-706.5 2161,-712.5 2161,-718.5 2161,-718.5 2161,-762.5 2161,-762.5 2161,-768.5 2155,-774.5 2149,-774.5\"/>\r\n",
       "<text text-anchor=\"middle\" x=\"2103\" y=\"-759.3\" font-family=\"Helvetica,sans-Serif\" font-size=\"14.00\">entropy = 0.959</text>\r\n",
       "<text text-anchor=\"middle\" x=\"2103\" y=\"-744.3\" font-family=\"Helvetica,sans-Serif\" font-size=\"14.00\">samples = 21</text>\r\n",
       "<text text-anchor=\"middle\" x=\"2103\" y=\"-729.3\" font-family=\"Helvetica,sans-Serif\" font-size=\"14.00\">value = [13, 8]</text>\r\n",
       "<text text-anchor=\"middle\" x=\"2103\" y=\"-714.3\" font-family=\"Helvetica,sans-Serif\" font-size=\"14.00\">class = y[0]</text>\r\n",
       "</g>\r\n",
       "<!-- 57&#45;&gt;67 -->\r\n",
       "<g id=\"edge67\" class=\"edge\"><title>57&#45;&gt;67</title>\r\n",
       "<path fill=\"none\" stroke=\"black\" d=\"M2015.49,-817.907C2029.01,-806.101 2043.77,-793.217 2057.25,-781.45\"/>\r\n",
       "<polygon fill=\"black\" stroke=\"black\" points=\"2059.78,-783.881 2065.01,-774.667 2055.18,-778.608 2059.78,-783.881\"/>\r\n",
       "</g>\r\n",
       "<!-- 59 -->\r\n",
       "<g id=\"node60\" class=\"node\"><title>59</title>\r\n",
       "<path fill=\"#74baed\" stroke=\"black\" d=\"M2015,-663C2015,-663 1923,-663 1923,-663 1917,-663 1911,-657 1911,-651 1911,-651 1911,-592 1911,-592 1911,-586 1917,-580 1923,-580 1923,-580 2015,-580 2015,-580 2021,-580 2027,-586 2027,-592 2027,-592 2027,-651 2027,-651 2027,-657 2021,-663 2015,-663\"/>\r\n",
       "<text text-anchor=\"middle\" x=\"1969\" y=\"-647.8\" font-family=\"Helvetica,sans-Serif\" font-size=\"14.00\">Age &lt;= 25.5</text>\r\n",
       "<text text-anchor=\"middle\" x=\"1969\" y=\"-632.8\" font-family=\"Helvetica,sans-Serif\" font-size=\"14.00\">entropy = 0.779</text>\r\n",
       "<text text-anchor=\"middle\" x=\"1969\" y=\"-617.8\" font-family=\"Helvetica,sans-Serif\" font-size=\"14.00\">samples = 39</text>\r\n",
       "<text text-anchor=\"middle\" x=\"1969\" y=\"-602.8\" font-family=\"Helvetica,sans-Serif\" font-size=\"14.00\">value = [9, 30]</text>\r\n",
       "<text text-anchor=\"middle\" x=\"1969\" y=\"-587.8\" font-family=\"Helvetica,sans-Serif\" font-size=\"14.00\">class = y[1]</text>\r\n",
       "</g>\r\n",
       "<!-- 58&#45;&gt;59 -->\r\n",
       "<g id=\"edge59\" class=\"edge\"><title>58&#45;&gt;59</title>\r\n",
       "<path fill=\"none\" stroke=\"black\" d=\"M1969,-698.907C1969,-690.649 1969,-681.864 1969,-673.302\"/>\r\n",
       "<polygon fill=\"black\" stroke=\"black\" points=\"1972.5,-673.021 1969,-663.021 1965.5,-673.021 1972.5,-673.021\"/>\r\n",
       "</g>\r\n",
       "<!-- 62 -->\r\n",
       "<g id=\"node63\" class=\"node\"><title>62</title>\r\n",
       "<path fill=\"#dfeffb\" stroke=\"black\" d=\"M2150,-663C2150,-663 2058,-663 2058,-663 2052,-663 2046,-657 2046,-651 2046,-651 2046,-592 2046,-592 2046,-586 2052,-580 2058,-580 2058,-580 2150,-580 2150,-580 2156,-580 2162,-586 2162,-592 2162,-592 2162,-651 2162,-651 2162,-657 2156,-663 2150,-663\"/>\r\n",
       "<text text-anchor=\"middle\" x=\"2104\" y=\"-647.8\" font-family=\"Helvetica,sans-Serif\" font-size=\"14.00\">Fare &lt;= 15.373</text>\r\n",
       "<text text-anchor=\"middle\" x=\"2104\" y=\"-632.8\" font-family=\"Helvetica,sans-Serif\" font-size=\"14.00\">entropy = 0.994</text>\r\n",
       "<text text-anchor=\"middle\" x=\"2104\" y=\"-617.8\" font-family=\"Helvetica,sans-Serif\" font-size=\"14.00\">samples = 57</text>\r\n",
       "<text text-anchor=\"middle\" x=\"2104\" y=\"-602.8\" font-family=\"Helvetica,sans-Serif\" font-size=\"14.00\">value = [26, 31]</text>\r\n",
       "<text text-anchor=\"middle\" x=\"2104\" y=\"-587.8\" font-family=\"Helvetica,sans-Serif\" font-size=\"14.00\">class = y[1]</text>\r\n",
       "</g>\r\n",
       "<!-- 58&#45;&gt;62 -->\r\n",
       "<g id=\"edge62\" class=\"edge\"><title>58&#45;&gt;62</title>\r\n",
       "<path fill=\"none\" stroke=\"black\" d=\"M2015.84,-698.907C2026.73,-689.469 2038.41,-679.343 2049.6,-669.649\"/>\r\n",
       "<polygon fill=\"black\" stroke=\"black\" points=\"2051.98,-672.215 2057.25,-663.021 2047.4,-666.925 2051.98,-672.215\"/>\r\n",
       "</g>\r\n",
       "<!-- 60 -->\r\n",
       "<g id=\"node61\" class=\"node\"><title>60</title>\r\n",
       "<path fill=\"#85c3ef\" stroke=\"black\" d=\"M1882,-536.5C1882,-536.5 1790,-536.5 1790,-536.5 1784,-536.5 1778,-530.5 1778,-524.5 1778,-524.5 1778,-480.5 1778,-480.5 1778,-474.5 1784,-468.5 1790,-468.5 1790,-468.5 1882,-468.5 1882,-468.5 1888,-468.5 1894,-474.5 1894,-480.5 1894,-480.5 1894,-524.5 1894,-524.5 1894,-530.5 1888,-536.5 1882,-536.5\"/>\r\n",
       "<text text-anchor=\"middle\" x=\"1836\" y=\"-521.3\" font-family=\"Helvetica,sans-Serif\" font-size=\"14.00\">entropy = 0.852</text>\r\n",
       "<text text-anchor=\"middle\" x=\"1836\" y=\"-506.3\" font-family=\"Helvetica,sans-Serif\" font-size=\"14.00\">samples = 18</text>\r\n",
       "<text text-anchor=\"middle\" x=\"1836\" y=\"-491.3\" font-family=\"Helvetica,sans-Serif\" font-size=\"14.00\">value = [5, 13]</text>\r\n",
       "<text text-anchor=\"middle\" x=\"1836\" y=\"-476.3\" font-family=\"Helvetica,sans-Serif\" font-size=\"14.00\">class = y[1]</text>\r\n",
       "</g>\r\n",
       "<!-- 59&#45;&gt;60 -->\r\n",
       "<g id=\"edge60\" class=\"edge\"><title>59&#45;&gt;60</title>\r\n",
       "<path fill=\"none\" stroke=\"black\" d=\"M1922.86,-579.907C1909.43,-568.101 1894.79,-555.217 1881.41,-543.45\"/>\r\n",
       "<polygon fill=\"black\" stroke=\"black\" points=\"1883.52,-540.644 1873.7,-536.667 1878.9,-545.9 1883.52,-540.644\"/>\r\n",
       "</g>\r\n",
       "<!-- 61 -->\r\n",
       "<g id=\"node62\" class=\"node\"><title>61</title>\r\n",
       "<path fill=\"#68b4eb\" stroke=\"black\" d=\"M2016,-536.5C2016,-536.5 1924,-536.5 1924,-536.5 1918,-536.5 1912,-530.5 1912,-524.5 1912,-524.5 1912,-480.5 1912,-480.5 1912,-474.5 1918,-468.5 1924,-468.5 1924,-468.5 2016,-468.5 2016,-468.5 2022,-468.5 2028,-474.5 2028,-480.5 2028,-480.5 2028,-524.5 2028,-524.5 2028,-530.5 2022,-536.5 2016,-536.5\"/>\r\n",
       "<text text-anchor=\"middle\" x=\"1970\" y=\"-521.3\" font-family=\"Helvetica,sans-Serif\" font-size=\"14.00\">entropy = 0.702</text>\r\n",
       "<text text-anchor=\"middle\" x=\"1970\" y=\"-506.3\" font-family=\"Helvetica,sans-Serif\" font-size=\"14.00\">samples = 21</text>\r\n",
       "<text text-anchor=\"middle\" x=\"1970\" y=\"-491.3\" font-family=\"Helvetica,sans-Serif\" font-size=\"14.00\">value = [4, 17]</text>\r\n",
       "<text text-anchor=\"middle\" x=\"1970\" y=\"-476.3\" font-family=\"Helvetica,sans-Serif\" font-size=\"14.00\">class = y[1]</text>\r\n",
       "</g>\r\n",
       "<!-- 59&#45;&gt;61 -->\r\n",
       "<g id=\"edge61\" class=\"edge\"><title>59&#45;&gt;61</title>\r\n",
       "<path fill=\"none\" stroke=\"black\" d=\"M1969.35,-579.907C1969.44,-569.204 1969.54,-557.615 1969.63,-546.776\"/>\r\n",
       "<polygon fill=\"black\" stroke=\"black\" points=\"1973.13,-546.697 1969.72,-536.667 1966.13,-546.637 1973.13,-546.697\"/>\r\n",
       "</g>\r\n",
       "<!-- 63 -->\r\n",
       "<g id=\"node64\" class=\"node\"><title>63</title>\r\n",
       "<path fill=\"#f6d5bd\" stroke=\"black\" d=\"M2150,-544C2150,-544 2058,-544 2058,-544 2052,-544 2046,-538 2046,-532 2046,-532 2046,-473 2046,-473 2046,-467 2052,-461 2058,-461 2058,-461 2150,-461 2150,-461 2156,-461 2162,-467 2162,-473 2162,-473 2162,-532 2162,-532 2162,-538 2156,-544 2150,-544\"/>\r\n",
       "<text text-anchor=\"middle\" x=\"2104\" y=\"-528.8\" font-family=\"Helvetica,sans-Serif\" font-size=\"14.00\">Age &lt;= 19.0</text>\r\n",
       "<text text-anchor=\"middle\" x=\"2104\" y=\"-513.8\" font-family=\"Helvetica,sans-Serif\" font-size=\"14.00\">entropy = 0.971</text>\r\n",
       "<text text-anchor=\"middle\" x=\"2104\" y=\"-498.8\" font-family=\"Helvetica,sans-Serif\" font-size=\"14.00\">samples = 35</text>\r\n",
       "<text text-anchor=\"middle\" x=\"2104\" y=\"-483.8\" font-family=\"Helvetica,sans-Serif\" font-size=\"14.00\">value = [21, 14]</text>\r\n",
       "<text text-anchor=\"middle\" x=\"2104\" y=\"-468.8\" font-family=\"Helvetica,sans-Serif\" font-size=\"14.00\">class = y[0]</text>\r\n",
       "</g>\r\n",
       "<!-- 62&#45;&gt;63 -->\r\n",
       "<g id=\"edge63\" class=\"edge\"><title>62&#45;&gt;63</title>\r\n",
       "<path fill=\"none\" stroke=\"black\" d=\"M2104,-579.907C2104,-571.649 2104,-562.864 2104,-554.302\"/>\r\n",
       "<polygon fill=\"black\" stroke=\"black\" points=\"2107.5,-554.021 2104,-544.021 2100.5,-554.021 2107.5,-554.021\"/>\r\n",
       "</g>\r\n",
       "<!-- 66 -->\r\n",
       "<g id=\"node67\" class=\"node\"><title>66</title>\r\n",
       "<path fill=\"#73baed\" stroke=\"black\" d=\"M2284,-536.5C2284,-536.5 2192,-536.5 2192,-536.5 2186,-536.5 2180,-530.5 2180,-524.5 2180,-524.5 2180,-480.5 2180,-480.5 2180,-474.5 2186,-468.5 2192,-468.5 2192,-468.5 2284,-468.5 2284,-468.5 2290,-468.5 2296,-474.5 2296,-480.5 2296,-480.5 2296,-524.5 2296,-524.5 2296,-530.5 2290,-536.5 2284,-536.5\"/>\r\n",
       "<text text-anchor=\"middle\" x=\"2238\" y=\"-521.3\" font-family=\"Helvetica,sans-Serif\" font-size=\"14.00\">entropy = 0.773</text>\r\n",
       "<text text-anchor=\"middle\" x=\"2238\" y=\"-506.3\" font-family=\"Helvetica,sans-Serif\" font-size=\"14.00\">samples = 22</text>\r\n",
       "<text text-anchor=\"middle\" x=\"2238\" y=\"-491.3\" font-family=\"Helvetica,sans-Serif\" font-size=\"14.00\">value = [5, 17]</text>\r\n",
       "<text text-anchor=\"middle\" x=\"2238\" y=\"-476.3\" font-family=\"Helvetica,sans-Serif\" font-size=\"14.00\">class = y[1]</text>\r\n",
       "</g>\r\n",
       "<!-- 62&#45;&gt;66 -->\r\n",
       "<g id=\"edge66\" class=\"edge\"><title>62&#45;&gt;66</title>\r\n",
       "<path fill=\"none\" stroke=\"black\" d=\"M2150.49,-579.907C2164.01,-568.101 2178.77,-555.217 2192.25,-543.45\"/>\r\n",
       "<polygon fill=\"black\" stroke=\"black\" points=\"2194.78,-545.881 2200.01,-536.667 2190.18,-540.608 2194.78,-545.881\"/>\r\n",
       "</g>\r\n",
       "<!-- 64 -->\r\n",
       "<g id=\"node65\" class=\"node\"><title>64</title>\r\n",
       "<path fill=\"#9ccef2\" stroke=\"black\" d=\"M2083,-417.5C2083,-417.5 1991,-417.5 1991,-417.5 1985,-417.5 1979,-411.5 1979,-405.5 1979,-405.5 1979,-361.5 1979,-361.5 1979,-355.5 1985,-349.5 1991,-349.5 1991,-349.5 2083,-349.5 2083,-349.5 2089,-349.5 2095,-355.5 2095,-361.5 2095,-361.5 2095,-405.5 2095,-405.5 2095,-411.5 2089,-417.5 2083,-417.5\"/>\r\n",
       "<text text-anchor=\"middle\" x=\"2037\" y=\"-402.3\" font-family=\"Helvetica,sans-Serif\" font-size=\"14.00\">entropy = 0.918</text>\r\n",
       "<text text-anchor=\"middle\" x=\"2037\" y=\"-387.3\" font-family=\"Helvetica,sans-Serif\" font-size=\"14.00\">samples = 15</text>\r\n",
       "<text text-anchor=\"middle\" x=\"2037\" y=\"-372.3\" font-family=\"Helvetica,sans-Serif\" font-size=\"14.00\">value = [5, 10]</text>\r\n",
       "<text text-anchor=\"middle\" x=\"2037\" y=\"-357.3\" font-family=\"Helvetica,sans-Serif\" font-size=\"14.00\">class = y[1]</text>\r\n",
       "</g>\r\n",
       "<!-- 63&#45;&gt;64 -->\r\n",
       "<g id=\"edge64\" class=\"edge\"><title>63&#45;&gt;64</title>\r\n",
       "<path fill=\"none\" stroke=\"black\" d=\"M2080.75,-460.907C2074.37,-449.763 2067.44,-437.658 2061.02,-426.439\"/>\r\n",
       "<polygon fill=\"black\" stroke=\"black\" points=\"2064,-424.606 2055.99,-417.667 2057.93,-428.084 2064,-424.606\"/>\r\n",
       "</g>\r\n",
       "<!-- 65 -->\r\n",
       "<g id=\"node66\" class=\"node\"><title>65</title>\r\n",
       "<path fill=\"#eca06a\" stroke=\"black\" d=\"M2217,-417.5C2217,-417.5 2125,-417.5 2125,-417.5 2119,-417.5 2113,-411.5 2113,-405.5 2113,-405.5 2113,-361.5 2113,-361.5 2113,-355.5 2119,-349.5 2125,-349.5 2125,-349.5 2217,-349.5 2217,-349.5 2223,-349.5 2229,-355.5 2229,-361.5 2229,-361.5 2229,-405.5 2229,-405.5 2229,-411.5 2223,-417.5 2217,-417.5\"/>\r\n",
       "<text text-anchor=\"middle\" x=\"2171\" y=\"-402.3\" font-family=\"Helvetica,sans-Serif\" font-size=\"14.00\">entropy = 0.722</text>\r\n",
       "<text text-anchor=\"middle\" x=\"2171\" y=\"-387.3\" font-family=\"Helvetica,sans-Serif\" font-size=\"14.00\">samples = 20</text>\r\n",
       "<text text-anchor=\"middle\" x=\"2171\" y=\"-372.3\" font-family=\"Helvetica,sans-Serif\" font-size=\"14.00\">value = [16, 4]</text>\r\n",
       "<text text-anchor=\"middle\" x=\"2171\" y=\"-357.3\" font-family=\"Helvetica,sans-Serif\" font-size=\"14.00\">class = y[0]</text>\r\n",
       "</g>\r\n",
       "<!-- 63&#45;&gt;65 -->\r\n",
       "<g id=\"edge65\" class=\"edge\"><title>63&#45;&gt;65</title>\r\n",
       "<path fill=\"none\" stroke=\"black\" d=\"M2127.25,-460.907C2133.63,-449.763 2140.56,-437.658 2146.98,-426.439\"/>\r\n",
       "<polygon fill=\"black\" stroke=\"black\" points=\"2150.07,-428.084 2152.01,-417.667 2144,-424.606 2150.07,-428.084\"/>\r\n",
       "</g>\r\n",
       "</g>\r\n",
       "</svg>\r\n"
      ],
      "text/plain": [
       "<graphviz.files.Source at 0x18813edc370>"
      ]
     },
     "execution_count": 203,
     "metadata": {},
     "output_type": "execute_result"
    }
   ],
   "source": [
    "#class came 0 is Not Survived and 1 is Survived\n",
    "export_graphviz(\n",
    "        decision_tree,\n",
    "        out_file=os.path.join(IMAGES_PATH, \"titanic_tree.dot\"),\n",
    "        feature_names=X_train.columns,\n",
    "        class_names=True,\n",
    "        rounded=True,\n",
    "        filled=True\n",
    "    )\n",
    "\n",
    "Source.from_file(os.path.join(IMAGES_PATH, \"titanic_tree.dot\"))"
   ]
  },
  {
   "cell_type": "code",
   "execution_count": 204,
   "id": "b66f3c9a",
   "metadata": {},
   "outputs": [
    {
     "data": {
      "text/plain": [
       "85.52"
      ]
     },
     "execution_count": 204,
     "metadata": {},
     "output_type": "execute_result"
    }
   ],
   "source": [
    "acc_decision_tree = round(decision_tree.score(X_train, y_train) * 100, 2)\n",
    "acc_decision_tree"
   ]
  },
  {
   "cell_type": "markdown",
   "id": "f226ccc0",
   "metadata": {},
   "source": [
    "#### 6. Select one of them for fine-tuning. Justify your selection with the results from suitable evaluation metrics. (0,25 grade units)"
   ]
  },
  {
   "cell_type": "markdown",
   "id": "e8a20e3e",
   "metadata": {},
   "source": [
    "#### SVM"
   ]
  },
  {
   "cell_type": "code",
   "execution_count": 205,
   "id": "1a915814",
   "metadata": {},
   "outputs": [
    {
     "name": "stderr",
     "output_type": "stream",
     "text": [
      "C:\\Users\\annuk\\anaconda3\\lib\\site-packages\\sklearn\\svm\\_base.py:985: ConvergenceWarning: Liblinear failed to converge, increase the number of iterations.\n",
      "  warnings.warn(\"Liblinear failed to converge, increase \"\n"
     ]
    },
    {
     "data": {
      "text/plain": [
       "array([0.796875  , 0.796875  , 0.83464567, 0.76377953, 0.77165354,\n",
       "       0.75590551, 0.78740157])"
      ]
     },
     "execution_count": 205,
     "metadata": {},
     "output_type": "execute_result"
    }
   ],
   "source": [
    "# K-fold cross-validation, the training set is split to 7 folds\n",
    "cross_val_score(svm_clf, X_train, y_train, cv = 7, scoring = \"accuracy\")"
   ]
  },
  {
   "cell_type": "code",
   "execution_count": 206,
   "id": "30ccbf19",
   "metadata": {},
   "outputs": [
    {
     "name": "stderr",
     "output_type": "stream",
     "text": [
      "C:\\Users\\annuk\\anaconda3\\lib\\site-packages\\sklearn\\svm\\_base.py:985: ConvergenceWarning: Liblinear failed to converge, increase the number of iterations.\n",
      "  warnings.warn(\"Liblinear failed to converge, increase \"\n",
      "C:\\Users\\annuk\\anaconda3\\lib\\site-packages\\sklearn\\svm\\_base.py:985: ConvergenceWarning: Liblinear failed to converge, increase the number of iterations.\n",
      "  warnings.warn(\"Liblinear failed to converge, increase \"\n"
     ]
    },
    {
     "data": {
      "text/plain": [
       "array([[478,  71],\n",
       "       [102, 240]], dtype=int64)"
      ]
     },
     "execution_count": 206,
     "metadata": {},
     "output_type": "execute_result"
    }
   ],
   "source": [
    "#Confusion matrix\n",
    "svm_predictions = cross_val_predict(svm_clf, X_train, y_train, cv=7)\n",
    "cm_svm_array = confusion_matrix(y_train, predictions)\n",
    "cm_svm_array"
   ]
  },
  {
   "cell_type": "markdown",
   "id": "278482b8",
   "metadata": {},
   "source": [
    "True negative = 468<br>\n",
    "False positive = 81<br>\n",
    "False negative = 109<br>\n",
    "True positive = 233"
   ]
  },
  {
   "cell_type": "code",
   "execution_count": 207,
   "id": "8878140a",
   "metadata": {},
   "outputs": [
    {
     "data": {
      "text/plain": [
       "0.7420382165605095"
      ]
     },
     "execution_count": 207,
     "metadata": {},
     "output_type": "execute_result"
    }
   ],
   "source": [
    "#Accuracy of the positive predictions (precision)\n",
    "precision_score(y_train, svm_predictions)"
   ]
  },
  {
   "cell_type": "code",
   "execution_count": 208,
   "id": "fef29459",
   "metadata": {},
   "outputs": [
    {
     "data": {
      "text/plain": [
       "0.6812865497076024"
      ]
     },
     "execution_count": 208,
     "metadata": {},
     "output_type": "execute_result"
    }
   ],
   "source": [
    "#True positive rate (Recall). The ratio of positive instances that are correctly detected by the classifier\n",
    "recall_score(y_train, svm_predictions)"
   ]
  },
  {
   "cell_type": "markdown",
   "id": "4cac0e8e",
   "metadata": {},
   "source": [
    "F<sub>1</sub> will get a high score if both precision and recall are high. F1=TP/(TP+(FN+FP)/2"
   ]
  },
  {
   "cell_type": "code",
   "execution_count": 209,
   "id": "d9f69035",
   "metadata": {},
   "outputs": [
    {
     "data": {
      "text/plain": [
       "0.7103658536585367"
      ]
     },
     "execution_count": 209,
     "metadata": {},
     "output_type": "execute_result"
    }
   ],
   "source": [
    "f1_score(y_train, svm_predictions)"
   ]
  },
  {
   "cell_type": "markdown",
   "id": "285add3f",
   "metadata": {},
   "source": [
    "#### Decision Tree"
   ]
  },
  {
   "cell_type": "code",
   "execution_count": 210,
   "id": "9ff73745",
   "metadata": {},
   "outputs": [
    {
     "data": {
      "text/plain": [
       "array([0.78125   , 0.8046875 , 0.80314961, 0.81889764, 0.84251969,\n",
       "       0.77952756, 0.81102362])"
      ]
     },
     "execution_count": 210,
     "metadata": {},
     "output_type": "execute_result"
    }
   ],
   "source": [
    "# K-fold cross-validation, the training set is split to 7 folds\n",
    "cross_val_score(decision_tree, X_train, y_train, cv = 7, scoring = \"accuracy\")"
   ]
  },
  {
   "cell_type": "code",
   "execution_count": 211,
   "id": "442cafb3",
   "metadata": {},
   "outputs": [],
   "source": [
    "class NeverSurvive(BaseEstimator):\n",
    "    def fit(self, X, y=None):\n",
    "        pass\n",
    "    def predict(self, X):\n",
    "        return np.zeros((len(X), 1), dtype=bool)"
   ]
  },
  {
   "cell_type": "code",
   "execution_count": 212,
   "id": "709daee9",
   "metadata": {},
   "outputs": [
    {
     "data": {
      "text/plain": [
       "array([0.6328125 , 0.6875    , 0.51181102, 0.62204724, 0.58267717,\n",
       "       0.62204724, 0.65354331])"
      ]
     },
     "execution_count": 212,
     "metadata": {},
     "output_type": "execute_result"
    }
   ],
   "source": [
    "never_survive = NeverSurvive()\n",
    "cross_val_score(never_survive, X_train, y_train, cv=7, scoring=\"accuracy\")"
   ]
  },
  {
   "cell_type": "code",
   "execution_count": 213,
   "id": "e2d56d3d",
   "metadata": {},
   "outputs": [
    {
     "data": {
      "text/plain": [
       "array([[478,  71],\n",
       "       [102, 240]], dtype=int64)"
      ]
     },
     "execution_count": 213,
     "metadata": {},
     "output_type": "execute_result"
    }
   ],
   "source": [
    "#Confusion matrix\n",
    "predictions = cross_val_predict(decision_tree, X_train, y_train, cv=7)\n",
    "cm_array = confusion_matrix(y_train, predictions)\n",
    "cm_array"
   ]
  },
  {
   "cell_type": "markdown",
   "id": "445099ab",
   "metadata": {},
   "source": [
    "True negative = 478<br>\n",
    "False positive = 71<br>\n",
    "False negative = 102<br>\n",
    "True positive = 240"
   ]
  },
  {
   "cell_type": "code",
   "execution_count": 214,
   "id": "2b2d49f7",
   "metadata": {},
   "outputs": [
    {
     "data": {
      "text/plain": [
       "0.7717041800643086"
      ]
     },
     "execution_count": 214,
     "metadata": {},
     "output_type": "execute_result"
    }
   ],
   "source": [
    "#Accuracy of the positive predictions (precision)\n",
    "precision_score(y_train, predictions)"
   ]
  },
  {
   "cell_type": "code",
   "execution_count": 215,
   "id": "0ca62685",
   "metadata": {},
   "outputs": [
    {
     "data": {
      "text/plain": [
       "0.7017543859649122"
      ]
     },
     "execution_count": 215,
     "metadata": {},
     "output_type": "execute_result"
    }
   ],
   "source": [
    "#True positive rate (Recall). The ratio of positive instances that are correctly detected by the classifier\n",
    "recall_score(y_train, predictions)"
   ]
  },
  {
   "cell_type": "markdown",
   "id": "58904985",
   "metadata": {},
   "source": [
    "F<sub>1</sub> will get a high score if both precision and recall are high. F1=TP/(TP+(FN+FP)/2"
   ]
  },
  {
   "cell_type": "code",
   "execution_count": 216,
   "id": "178cb8a7",
   "metadata": {},
   "outputs": [
    {
     "data": {
      "text/plain": [
       "0.7350689127105667"
      ]
     },
     "execution_count": 216,
     "metadata": {},
     "output_type": "execute_result"
    }
   ],
   "source": [
    "f1_score(y_train, predictions)"
   ]
  },
  {
   "cell_type": "markdown",
   "id": "5558f714",
   "metadata": {},
   "source": [
    "##### ROC AUC curve"
   ]
  },
  {
   "cell_type": "markdown",
   "id": "ae5b1781",
   "metadata": {},
   "source": [
    "To compare classifiers we can measure the area under the curve (AUC). A perfect classifier will have a ROC AUC equal to 1, whereas a purely random classifier will have a ROC AUC equal to 0.5"
   ]
  },
  {
   "cell_type": "code",
   "execution_count": 221,
   "id": "69b01cbd",
   "metadata": {},
   "outputs": [
    {
     "name": "stderr",
     "output_type": "stream",
     "text": [
      "C:\\Users\\annuk\\anaconda3\\lib\\site-packages\\sklearn\\svm\\_base.py:985: ConvergenceWarning: Liblinear failed to converge, increase the number of iterations.\n",
      "  warnings.warn(\"Liblinear failed to converge, increase \"\n"
     ]
    }
   ],
   "source": [
    "# the ROC curve plots sensitivity (recall) versus 1 – specificity\n",
    "# ROC curve for svm\n",
    "y_scores_svm = cross_val_predict(svm_clf, X_train, y_train, cv=7,\n",
    "                             method=\"decision_function\")\n",
    "precisions, recalls, thresholds = precision_recall_curve(y_train, y_scores_svm)\n",
    "fpr, tpr, thresholds = roc_curve(y_train, y_scores_svm)"
   ]
  },
  {
   "cell_type": "code",
   "execution_count": 218,
   "id": "5900a32e",
   "metadata": {},
   "outputs": [],
   "source": [
    "# ROC curve for Decision tree\n",
    "y_proba_dectree = cross_val_predict(decision_tree, X_train, y_train, cv=7,\n",
    "                             method=\"predict_proba\")"
   ]
  },
  {
   "cell_type": "code",
   "execution_count": 219,
   "id": "992fcd0f",
   "metadata": {},
   "outputs": [],
   "source": [
    "y_scores_dectree = y_proba_dectree[:, 1] # score = probability of a positive class\n",
    "fpr_dectree, tpr_dectree, thresholds_dectree = roc_curve(y_train,y_scores_dectree)"
   ]
  },
  {
   "cell_type": "code",
   "execution_count": 222,
   "id": "698b6398",
   "metadata": {},
   "outputs": [
    {
     "ename": "IndexError",
     "evalue": "index 733 is out of bounds for axis 0 with size 315",
     "output_type": "error",
     "traceback": [
      "\u001b[1;31m---------------------------------------------------------------------------\u001b[0m",
      "\u001b[1;31mIndexError\u001b[0m                                Traceback (most recent call last)",
      "\u001b[1;32m~\\AppData\\Local\\Temp/ipykernel_10044/2597903964.py\u001b[0m in \u001b[0;36m<module>\u001b[1;34m\u001b[0m\n\u001b[0;32m      1\u001b[0m \u001b[0mrecall_90_precision\u001b[0m \u001b[1;33m=\u001b[0m \u001b[0mrecalls\u001b[0m\u001b[1;33m[\u001b[0m\u001b[0mnp\u001b[0m\u001b[1;33m.\u001b[0m\u001b[0margmax\u001b[0m\u001b[1;33m(\u001b[0m\u001b[0mprecisions\u001b[0m \u001b[1;33m>=\u001b[0m \u001b[1;36m0.90\u001b[0m\u001b[1;33m)\u001b[0m\u001b[1;33m]\u001b[0m\u001b[1;33m\u001b[0m\u001b[1;33m\u001b[0m\u001b[0m\n\u001b[1;32m----> 2\u001b[1;33m \u001b[0mthreshold_90_precision\u001b[0m \u001b[1;33m=\u001b[0m \u001b[0mthresholds\u001b[0m\u001b[1;33m[\u001b[0m\u001b[0mnp\u001b[0m\u001b[1;33m.\u001b[0m\u001b[0margmax\u001b[0m\u001b[1;33m(\u001b[0m\u001b[0mprecisions\u001b[0m \u001b[1;33m>=\u001b[0m \u001b[1;36m0.90\u001b[0m\u001b[1;33m)\u001b[0m\u001b[1;33m]\u001b[0m\u001b[1;33m\u001b[0m\u001b[1;33m\u001b[0m\u001b[0m\n\u001b[0m\u001b[0;32m      3\u001b[0m \u001b[0mfpr_90\u001b[0m \u001b[1;33m=\u001b[0m \u001b[0mfpr\u001b[0m\u001b[1;33m[\u001b[0m\u001b[0mnp\u001b[0m\u001b[1;33m.\u001b[0m\u001b[0margmax\u001b[0m\u001b[1;33m(\u001b[0m\u001b[0mtpr\u001b[0m \u001b[1;33m>=\u001b[0m \u001b[0mrecall_90_precision\u001b[0m\u001b[1;33m)\u001b[0m\u001b[1;33m]\u001b[0m\u001b[1;33m\u001b[0m\u001b[1;33m\u001b[0m\u001b[0m\n\u001b[0;32m      4\u001b[0m \u001b[0mrecall_for_dectree\u001b[0m \u001b[1;33m=\u001b[0m \u001b[0mtpr_dectree\u001b[0m\u001b[1;33m[\u001b[0m\u001b[0mnp\u001b[0m\u001b[1;33m.\u001b[0m\u001b[0margmax\u001b[0m\u001b[1;33m(\u001b[0m\u001b[0mfpr_dectree\u001b[0m \u001b[1;33m>=\u001b[0m \u001b[0mfpr_90\u001b[0m\u001b[1;33m)\u001b[0m\u001b[1;33m]\u001b[0m\u001b[1;33m\u001b[0m\u001b[1;33m\u001b[0m\u001b[0m\n\u001b[0;32m      5\u001b[0m \u001b[1;33m\u001b[0m\u001b[0m\n",
      "\u001b[1;31mIndexError\u001b[0m: index 733 is out of bounds for axis 0 with size 315"
     ]
    }
   ],
   "source": [
    "recall_90_precision = recalls[np.argmax(precisions >= 0.90)]\n",
    "threshold_90_precision = thresholds[np.argmax(precisions >= 0.90)]\n",
    "fpr_90 = fpr[np.argmax(tpr >= recall_90_precision)]\n",
    "recall_for_dectree = tpr_dectree[np.argmax(fpr_dectree >= fpr_90)]\n",
    "\n",
    "plt.figure(figsize=(8, 6))\n",
    "plt.plot(fpr, tpr, \"b:\", linewidth=2, label=\"SVM\")\n",
    "plot_roc_curve(fpr_dectree, tpr_dectree, \"Decision Tree\")\n",
    "plt.plot([fpr_90, fpr_90], [0., recall_90_precision], \"r:\")\n",
    "plt.plot([0.0, fpr_90], [recall_90_precision, recall_90_precision], \"r:\")\n",
    "plt.plot([fpr_90], [recall_90_precision], \"ro\")\n",
    "plt.plot([fpr_90, fpr_90], [0., recall_for_forest], \"r:\")\n",
    "plt.plot([fpr_90], [recall_for_forest], \"ro\")\n",
    "plt.grid(True)\n",
    "plt.legend(loc=\"lower right\", fontsize=16)\n",
    "save_fig(\"roc_curve_comparison_plot\")\n",
    "plt.show()"
   ]
  },
  {
   "cell_type": "markdown",
   "id": "673dd2f7",
   "metadata": {},
   "source": [
    "#### 7. Use cross-validation in the fine-tuning of your model. Test different hyperparameter combinations. (0,25 grade units)"
   ]
  },
  {
   "cell_type": "code",
   "execution_count": null,
   "id": "09526218",
   "metadata": {},
   "outputs": [],
   "source": []
  },
  {
   "cell_type": "markdown",
   "id": "409c4d27",
   "metadata": {},
   "source": [
    "#### 8. Make predictions on the test set and send them to Kaggle for evaluation. (0,25 grade units)"
   ]
  },
  {
   "cell_type": "code",
   "execution_count": null,
   "id": "ce436b90",
   "metadata": {},
   "outputs": [],
   "source": []
  },
  {
   "cell_type": "markdown",
   "id": "82bd149d",
   "metadata": {},
   "source": [
    "#### 9. At the end of your Jupyter Notebook, evaluate how well does the model seem to reach your original aims? (0,25 grade units)\n",
    "\n",
    "* You have to pass this criteria to get accepted result."
   ]
  },
  {
   "cell_type": "code",
   "execution_count": null,
   "id": "def6ee61",
   "metadata": {},
   "outputs": [],
   "source": []
  },
  {
   "cell_type": "markdown",
   "id": "3831b078",
   "metadata": {},
   "source": [
    "The maximum number of grade units is 2,0.\n",
    "\n",
    "Please note that you can also suggest another subject for your teamwork to the instructor if it is related to data analyses or business intelligence."
   ]
  }
 ],
 "metadata": {
  "kernelspec": {
   "display_name": "Python 3 (ipykernel)",
   "language": "python",
   "name": "python3"
  },
  "language_info": {
   "codemirror_mode": {
    "name": "ipython",
    "version": 3
   },
   "file_extension": ".py",
   "mimetype": "text/x-python",
   "name": "python",
   "nbconvert_exporter": "python",
   "pygments_lexer": "ipython3",
   "version": "3.9.7"
  }
 },
 "nbformat": 4,
 "nbformat_minor": 5
}
